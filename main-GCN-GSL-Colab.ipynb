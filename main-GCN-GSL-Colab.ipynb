{
 "cells": [
  {
   "cell_type": "markdown",
   "metadata": {},
   "source": [
    "# GCN GSL\n",
    "\n",
    "**Graph Structure Learning for Traffic Prediction**\n",
    "\n",
    "This repository provides the implementation of the paper \"Graph Structure Learning for Traffic Prediction\" by Mahmood Amintoosi."
   ]
  },
  {
   "cell_type": "code",
   "execution_count": null,
   "metadata": {
    "colab": {
     "base_uri": "https://localhost:8080/"
    },
    "id": "ZWIcZmtofQw2",
    "outputId": "8992961e-05ca-4819-e605-09841d7daf40"
   },
   "outputs": [],
   "source": [
    "import os\n",
    "if 'google.colab' in str(get_ipython()) and not os.path.exists('/content/TGCN-GSL-PyTorch'):\n",
    "    !git clone https://github.com/mamintoosi/TGCN-GSL-PyTorch.git\n",
    "    !pip install -q torchmetrics\n",
    "    %cd TGCN-GSL-PyTorch"
   ]
  },
  {
   "cell_type": "code",
   "execution_count": 1,
   "metadata": {},
   "outputs": [
    {
     "name": "stderr",
     "output_type": "stream",
     "text": [
      "c:\\Users\\m.amintoosi\\.conda\\envs\\pth-gpu\\lib\\site-packages\\tqdm\\auto.py:21: TqdmWarning: IProgress not found. Please update jupyter and ipywidgets. See https://ipywidgets.readthedocs.io/en/stable/user_install.html\n",
      "  from .autonotebook import tqdm as notebook_tqdm\n",
      "\u001b[31m[2025-03-20 00:38:30,254 INFO]\u001b[0mLoaded config from configs/gcn-sz-pre_len1.yaml: {'fit': {'trainer': {'max_epochs': 50, 'accelerator': 'cuda', 'devices': 1}, 'data': {'dataset_name': 'shenzhen', 'batch_size': 64, 'seq_len': 12, 'pre_len': 1}, 'model': {'model': {'class_path': 'models.GCN', 'init_args': {'hidden_dim': 100, 'use_gsl': 0}}, 'learning_rate': 0.001, 'weight_decay': 0, 'loss': 'mse'}}}\n",
      "\u001b[31m[2025-03-20 00:38:30,462 INFO]\u001b[0mUsing device: cuda\n"
     ]
    },
    {
     "name": "stdout",
     "output_type": "stream",
     "text": [
      "GCN\n"
     ]
    },
    {
     "name": "stderr",
     "output_type": "stream",
     "text": [
      "\u001b[31m[2025-03-20 00:38:32,456 INFO]\u001b[0mStarting training for 50 epochs...\n",
      "\u001b[31m[2025-03-20 00:38:32,973 INFO]\u001b[0m[Epoch 1/50] Train Loss: 0.011905, Val Loss: 40.238445, RMSE: 6.343378, MAE: 4.885591, Accuracy: 0.5580, R2: 0.6446, Expl.Var: 0.6689\n",
      "\u001b[31m[2025-03-20 00:38:34,194 INFO]\u001b[0m[Epoch 11/50] Train Loss: 0.007895, Val Loss: 35.548321, RMSE: 5.962241, MAE: 4.407365, Accuracy: 0.5846, R2: 0.6742, Expl.Var: 0.6742\n",
      "\u001b[31m[2025-03-20 00:38:35,410 INFO]\u001b[0m[Epoch 21/50] Train Loss: 0.007872, Val Loss: 35.526062, RMSE: 5.960374, MAE: 4.411602, Accuracy: 0.5847, R2: 0.6745, Expl.Var: 0.6746\n",
      "\u001b[31m[2025-03-20 00:38:36,613 INFO]\u001b[0m[Epoch 31/50] Train Loss: 0.007870, Val Loss: 35.535801, RMSE: 5.961191, MAE: 4.416032, Accuracy: 0.5846, R2: 0.6744, Expl.Var: 0.6745\n",
      "\u001b[31m[2025-03-20 00:38:37,898 INFO]\u001b[0m[Epoch 41/50] Train Loss: 0.007871, Val Loss: 35.524899, RMSE: 5.960277, MAE: 4.415260, Accuracy: 0.5847, R2: 0.6745, Expl.Var: 0.6746\n",
      "\u001b[31m[2025-03-20 00:38:39,047 INFO]\u001b[0m[Epoch 50/50] Train Loss: 0.007873, Val Loss: 35.494755, RMSE: 5.957747, MAE: 4.409162, Accuracy: 0.5849, R2: 0.6747, Expl.Var: 0.6747\n",
      "\u001b[31m[2025-03-20 00:38:39,047 INFO]\u001b[0mModel saved to trained-models/shenzhen_GCN_seq12_pre1_gsl0.pt\n",
      "\u001b[31m[2025-03-20 00:38:39,047 INFO]\u001b[0mFinished training!\n",
      "\n",
      "\u001b[31m[2025-03-20 00:38:39,062 INFO]\u001b[0mLoaded config from configs/gcn-sz-gsl-pre_len1.yaml: {'fit': {'trainer': {'max_epochs': 50, 'accelerator': 'cuda', 'devices': 1}, 'data': {'dataset_name': 'shenzhen', 'batch_size': 64, 'seq_len': 12, 'pre_len': 1}, 'model': {'model': {'class_path': 'models.GCN', 'init_args': {'hidden_dim': 100, 'use_gsl': 1}}, 'learning_rate': 0.001, 'weight_decay': 0, 'loss': 'mse'}}}\n",
      "\u001b[31m[2025-03-20 00:38:39,236 INFO]\u001b[0mUsing device: cuda\n",
      "\u001b[31m[2025-03-20 00:38:39,241 INFO]\u001b[0mStarting training for 50 epochs...\n",
      "\u001b[31m[2025-03-20 00:38:39,390 INFO]\u001b[0m[Epoch 1/50] Train Loss: 0.010536, Val Loss: 30.784161, RMSE: 5.548347, MAE: 3.975371, Accuracy: 0.6134, R2: 0.7275, Expl.Var: 0.7533\n"
     ]
    },
    {
     "name": "stdout",
     "output_type": "stream",
     "text": [
      "File data/W_est_shenzhen_pre_len1.npy found. Loading existing adjacency matrix estimated by GSL from training data.\n",
      "GSL computed: GSL\n"
     ]
    },
    {
     "name": "stderr",
     "output_type": "stream",
     "text": [
      "\u001b[31m[2025-03-20 00:38:40,625 INFO]\u001b[0m[Epoch 11/50] Train Loss: 0.005813, Val Loss: 23.797134, RMSE: 4.878231, MAE: 3.152356, Accuracy: 0.6601, R2: 0.7821, Expl.Var: 0.7827\n",
      "\u001b[31m[2025-03-20 00:38:41,847 INFO]\u001b[0m[Epoch 21/50] Train Loss: 0.005811, Val Loss: 23.692204, RMSE: 4.867464, MAE: 3.140355, Accuracy: 0.6608, R2: 0.7830, Expl.Var: 0.7834\n",
      "\u001b[31m[2025-03-20 00:38:43,123 INFO]\u001b[0m[Epoch 31/50] Train Loss: 0.005806, Val Loss: 23.944145, RMSE: 4.893276, MAE: 3.167089, Accuracy: 0.6590, R2: 0.7809, Expl.Var: 0.7821\n",
      "\u001b[31m[2025-03-20 00:38:44,375 INFO]\u001b[0m[Epoch 41/50] Train Loss: 0.005804, Val Loss: 23.458538, RMSE: 4.843401, MAE: 3.107239, Accuracy: 0.6625, R2: 0.7850, Expl.Var: 0.7850\n",
      "\u001b[31m[2025-03-20 00:38:45,500 INFO]\u001b[0m[Epoch 50/50] Train Loss: 0.005800, Val Loss: 23.869915, RMSE: 4.885684, MAE: 3.160854, Accuracy: 0.6596, R2: 0.7816, Expl.Var: 0.7828\n",
      "\u001b[31m[2025-03-20 00:38:45,506 INFO]\u001b[0mModel saved to trained-models/shenzhen_GCN_seq12_pre1_gsl1.pt\n",
      "\u001b[31m[2025-03-20 00:38:45,508 INFO]\u001b[0mFinished training!\n",
      "\n",
      "\u001b[31m[2025-03-20 00:38:45,516 INFO]\u001b[0mLoaded config from configs/gcn-sz-gsl-dcg-pre_len1.yaml: {'fit': {'trainer': {'max_epochs': 50, 'accelerator': 'cuda', 'devices': 1}, 'data': {'dataset_name': 'shenzhen', 'batch_size': 64, 'seq_len': 12, 'pre_len': 1}, 'model': {'model': {'class_path': 'models.GCN', 'init_args': {'hidden_dim': 100, 'use_gsl': 2}}, 'learning_rate': 0.001, 'weight_decay': 0, 'loss': 'mse'}}}\n",
      "\u001b[31m[2025-03-20 00:38:45,690 INFO]\u001b[0mUsing device: cuda\n",
      "\u001b[31m[2025-03-20 00:38:45,695 INFO]\u001b[0mStarting training for 50 epochs...\n",
      "\u001b[31m[2025-03-20 00:38:45,849 INFO]\u001b[0m[Epoch 1/50] Train Loss: 0.009563, Val Loss: 27.475201, RMSE: 5.241679, MAE: 3.877942, Accuracy: 0.6348, R2: 0.7584, Expl.Var: 0.7902\n"
     ]
    },
    {
     "name": "stdout",
     "output_type": "stream",
     "text": [
      "File data/W_est_shenzhen_pre_len1.npy found. Loading existing adjacency matrix estimated by GSL from training data.\n",
      "GSL computed: GSL for directed cyclic graph\n"
     ]
    },
    {
     "name": "stderr",
     "output_type": "stream",
     "text": [
      "\u001b[31m[2025-03-20 00:38:47,156 INFO]\u001b[0m[Epoch 11/50] Train Loss: 0.005062, Val Loss: 21.512573, RMSE: 4.638165, MAE: 3.019331, Accuracy: 0.6768, R2: 0.8029, Expl.Var: 0.8029\n",
      "\u001b[31m[2025-03-20 00:38:48,445 INFO]\u001b[0m[Epoch 21/50] Train Loss: 0.005052, Val Loss: 21.496399, RMSE: 4.636421, MAE: 3.016447, Accuracy: 0.6769, R2: 0.8030, Expl.Var: 0.8030\n",
      "\u001b[31m[2025-03-20 00:38:49,679 INFO]\u001b[0m[Epoch 31/50] Train Loss: 0.005041, Val Loss: 21.528244, RMSE: 4.639854, MAE: 3.023078, Accuracy: 0.6767, R2: 0.8027, Expl.Var: 0.8028\n",
      "\u001b[31m[2025-03-20 00:38:50,940 INFO]\u001b[0m[Epoch 41/50] Train Loss: 0.005024, Val Loss: 21.515907, RMSE: 4.638524, MAE: 3.029753, Accuracy: 0.6768, R2: 0.8028, Expl.Var: 0.8028\n",
      "\u001b[31m[2025-03-20 00:38:52,108 INFO]\u001b[0m[Epoch 50/50] Train Loss: 0.005002, Val Loss: 21.604700, RMSE: 4.648086, MAE: 3.077987, Accuracy: 0.6761, R2: 0.8020, Expl.Var: 0.8023\n",
      "\u001b[31m[2025-03-20 00:38:52,114 INFO]\u001b[0mModel saved to trained-models/shenzhen_GCN_seq12_pre1_gsl2.pt\n",
      "\u001b[31m[2025-03-20 00:38:52,114 INFO]\u001b[0mFinished training!\n",
      "\n",
      "\u001b[31m[2025-03-20 00:38:52,128 INFO]\u001b[0mLoaded config from configs/gcn-sz-pre_len2.yaml: {'fit': {'trainer': {'max_epochs': 50, 'accelerator': 'cuda', 'devices': 1}, 'data': {'dataset_name': 'shenzhen', 'batch_size': 64, 'seq_len': 12, 'pre_len': 2}, 'model': {'model': {'class_path': 'models.GCN', 'init_args': {'hidden_dim': 100, 'use_gsl': 0}}, 'learning_rate': 0.001, 'weight_decay': 0, 'loss': 'mse'}}}\n",
      "\u001b[31m[2025-03-20 00:38:52,303 INFO]\u001b[0mUsing device: cuda\n",
      "\u001b[31m[2025-03-20 00:38:52,306 INFO]\u001b[0mStarting training for 50 epochs...\n",
      "\u001b[31m[2025-03-20 00:38:52,463 INFO]\u001b[0m[Epoch 1/50] Train Loss: 0.019265, Val Loss: 44.086983, RMSE: 6.639803, MAE: 5.115513, Accuracy: 0.5373, R2: 0.6016, Expl.Var: 0.6102\n"
     ]
    },
    {
     "name": "stdout",
     "output_type": "stream",
     "text": [
      "GCN\n"
     ]
    },
    {
     "name": "stderr",
     "output_type": "stream",
     "text": [
      "\u001b[31m[2025-03-20 00:38:53,728 INFO]\u001b[0m[Epoch 11/50] Train Loss: 0.008011, Val Loss: 35.960667, RMSE: 5.996721, MAE: 4.448488, Accuracy: 0.5821, R2: 0.6706, Expl.Var: 0.6708\n",
      "\u001b[31m[2025-03-20 00:38:55,014 INFO]\u001b[0m[Epoch 21/50] Train Loss: 0.007947, Val Loss: 35.735130, RMSE: 5.977887, MAE: 4.421966, Accuracy: 0.5834, R2: 0.6725, Expl.Var: 0.6726\n",
      "\u001b[31m[2025-03-20 00:38:56,262 INFO]\u001b[0m[Epoch 31/50] Train Loss: 0.007940, Val Loss: 35.710938, RMSE: 5.975863, MAE: 4.419609, Accuracy: 0.5836, R2: 0.6727, Expl.Var: 0.6727\n",
      "\u001b[31m[2025-03-20 00:38:57,544 INFO]\u001b[0m[Epoch 41/50] Train Loss: 0.007936, Val Loss: 35.699879, RMSE: 5.974937, MAE: 4.423347, Accuracy: 0.5837, R2: 0.6728, Expl.Var: 0.6728\n",
      "\u001b[31m[2025-03-20 00:38:58,713 INFO]\u001b[0m[Epoch 50/50] Train Loss: 0.007932, Val Loss: 35.801029, RMSE: 5.983396, MAE: 4.436887, Accuracy: 0.5831, R2: 0.6721, Expl.Var: 0.6724\n",
      "\u001b[31m[2025-03-20 00:38:58,716 INFO]\u001b[0mModel saved to trained-models/shenzhen_GCN_seq12_pre2_gsl0.pt\n",
      "\u001b[31m[2025-03-20 00:38:58,716 INFO]\u001b[0mFinished training!\n",
      "\n",
      "\u001b[31m[2025-03-20 00:38:58,730 INFO]\u001b[0mLoaded config from configs/gcn-sz-gsl-pre_len2.yaml: {'fit': {'trainer': {'max_epochs': 50, 'accelerator': 'cuda', 'devices': 1}, 'data': {'dataset_name': 'shenzhen', 'batch_size': 64, 'seq_len': 12, 'pre_len': 2}, 'model': {'model': {'class_path': 'models.GCN', 'init_args': {'hidden_dim': 100, 'use_gsl': 1}}, 'learning_rate': 0.001, 'weight_decay': 0, 'loss': 'mse'}}}\n",
      "\u001b[31m[2025-03-20 00:38:58,892 INFO]\u001b[0mUsing device: cuda\n",
      "\u001b[31m[2025-03-20 00:38:58,905 INFO]\u001b[0mStarting training for 50 epochs...\n",
      "\u001b[31m[2025-03-20 00:38:59,048 INFO]\u001b[0m[Epoch 1/50] Train Loss: 0.018404, Val Loss: 39.797234, RMSE: 6.308505, MAE: 4.597071, Accuracy: 0.5604, R2: 0.6503, Expl.Var: 0.6781\n"
     ]
    },
    {
     "name": "stdout",
     "output_type": "stream",
     "text": [
      "File data/W_est_shenzhen_pre_len2.npy found. Loading existing adjacency matrix estimated by GSL from training data.\n",
      "GSL computed: GSL\n"
     ]
    },
    {
     "name": "stderr",
     "output_type": "stream",
     "text": [
      "\u001b[31m[2025-03-20 00:39:00,346 INFO]\u001b[0m[Epoch 11/50] Train Loss: 0.005911, Val Loss: 24.149193, RMSE: 4.914183, MAE: 3.166859, Accuracy: 0.6576, R2: 0.7788, Expl.Var: 0.7793\n",
      "\u001b[31m[2025-03-20 00:39:01,637 INFO]\u001b[0m[Epoch 21/50] Train Loss: 0.005902, Val Loss: 24.183367, RMSE: 4.917659, MAE: 3.188679, Accuracy: 0.6573, R2: 0.7786, Expl.Var: 0.7795\n",
      "\u001b[31m[2025-03-20 00:39:03,093 INFO]\u001b[0m[Epoch 31/50] Train Loss: 0.005903, Val Loss: 24.277134, RMSE: 4.927183, MAE: 3.198062, Accuracy: 0.6567, R2: 0.7779, Expl.Var: 0.7791\n",
      "\u001b[31m[2025-03-20 00:39:04,348 INFO]\u001b[0m[Epoch 41/50] Train Loss: 0.005899, Val Loss: 24.428141, RMSE: 4.942483, MAE: 3.210987, Accuracy: 0.6556, R2: 0.7766, Expl.Var: 0.7783\n",
      "\u001b[31m[2025-03-20 00:39:05,553 INFO]\u001b[0m[Epoch 50/50] Train Loss: 0.005890, Val Loss: 24.047186, RMSE: 4.903793, MAE: 3.172535, Accuracy: 0.6583, R2: 0.7798, Expl.Var: 0.7805\n",
      "\u001b[31m[2025-03-20 00:39:05,556 INFO]\u001b[0mModel saved to trained-models/shenzhen_GCN_seq12_pre2_gsl1.pt\n",
      "\u001b[31m[2025-03-20 00:39:05,556 INFO]\u001b[0mFinished training!\n",
      "\n",
      "\u001b[31m[2025-03-20 00:39:05,556 INFO]\u001b[0mLoaded config from configs/gcn-sz-gsl-dcg-pre_len2.yaml: {'fit': {'trainer': {'max_epochs': 50, 'accelerator': 'cuda', 'devices': 1}, 'data': {'dataset_name': 'shenzhen', 'batch_size': 64, 'seq_len': 12, 'pre_len': 2}, 'model': {'model': {'class_path': 'models.GCN', 'init_args': {'hidden_dim': 100, 'use_gsl': 2}}, 'learning_rate': 0.001, 'weight_decay': 0, 'loss': 'mse'}}}\n",
      "\u001b[31m[2025-03-20 00:39:05,741 INFO]\u001b[0mUsing device: cuda\n",
      "\u001b[31m[2025-03-20 00:39:05,741 INFO]\u001b[0mStarting training for 50 epochs...\n",
      "\u001b[31m[2025-03-20 00:39:05,881 INFO]\u001b[0m[Epoch 1/50] Train Loss: 0.017490, Val Loss: 34.375580, RMSE: 5.863069, MAE: 4.334907, Accuracy: 0.5914, R2: 0.6934, Expl.Var: 0.7125\n"
     ]
    },
    {
     "name": "stdout",
     "output_type": "stream",
     "text": [
      "File data/W_est_shenzhen_pre_len2.npy found. Loading existing adjacency matrix estimated by GSL from training data.\n",
      "GSL computed: GSL for directed cyclic graph\n"
     ]
    },
    {
     "name": "stderr",
     "output_type": "stream",
     "text": [
      "\u001b[31m[2025-03-20 00:39:07,262 INFO]\u001b[0m[Epoch 11/50] Train Loss: 0.005170, Val Loss: 21.841862, RMSE: 4.673528, MAE: 3.050440, Accuracy: 0.6743, R2: 0.7998, Expl.Var: 0.7998\n",
      "\u001b[31m[2025-03-20 00:39:08,641 INFO]\u001b[0m[Epoch 21/50] Train Loss: 0.005153, Val Loss: 21.836908, RMSE: 4.672998, MAE: 3.047208, Accuracy: 0.6744, R2: 0.7999, Expl.Var: 0.8000\n",
      "\u001b[31m[2025-03-20 00:39:09,925 INFO]\u001b[0m[Epoch 31/50] Train Loss: 0.005151, Val Loss: 21.942112, RMSE: 4.684241, MAE: 3.060885, Accuracy: 0.6736, R2: 0.7990, Expl.Var: 0.7994\n",
      "\u001b[31m[2025-03-20 00:39:11,208 INFO]\u001b[0m[Epoch 41/50] Train Loss: 0.005142, Val Loss: 21.926060, RMSE: 4.682527, MAE: 3.061791, Accuracy: 0.6737, R2: 0.7991, Expl.Var: 0.7995\n",
      "\u001b[31m[2025-03-20 00:39:12,345 INFO]\u001b[0m[Epoch 50/50] Train Loss: 0.005126, Val Loss: 21.823013, RMSE: 4.671511, MAE: 3.051368, Accuracy: 0.6745, R2: 0.8000, Expl.Var: 0.8000\n",
      "\u001b[31m[2025-03-20 00:39:12,345 INFO]\u001b[0mModel saved to trained-models/shenzhen_GCN_seq12_pre2_gsl2.pt\n",
      "\u001b[31m[2025-03-20 00:39:12,345 INFO]\u001b[0mFinished training!\n",
      "\n",
      "\u001b[31m[2025-03-20 00:39:12,364 INFO]\u001b[0mLoaded config from configs/gcn-sz-pre_len3.yaml: {'fit': {'trainer': {'max_epochs': 50, 'accelerator': 'cuda', 'devices': 1}, 'data': {'dataset_name': 'shenzhen', 'batch_size': 64, 'seq_len': 12, 'pre_len': 3}, 'model': {'model': {'class_path': 'models.GCN', 'init_args': {'hidden_dim': 100, 'use_gsl': 0}}, 'learning_rate': 0.001, 'weight_decay': 0, 'loss': 'mse'}}}\n",
      "\u001b[31m[2025-03-20 00:39:12,523 INFO]\u001b[0mUsing device: cuda\n",
      "\u001b[31m[2025-03-20 00:39:12,534 INFO]\u001b[0mStarting training for 50 epochs...\n",
      "\u001b[31m[2025-03-20 00:39:12,688 INFO]\u001b[0m[Epoch 1/50] Train Loss: 0.012428, Val Loss: 42.848755, RMSE: 6.545896, MAE: 5.154042, Accuracy: 0.5438, R2: 0.6150, Expl.Var: 0.6272\n"
     ]
    },
    {
     "name": "stdout",
     "output_type": "stream",
     "text": [
      "GCN\n"
     ]
    },
    {
     "name": "stderr",
     "output_type": "stream",
     "text": [
      "\u001b[31m[2025-03-20 00:39:14,049 INFO]\u001b[0m[Epoch 11/50] Train Loss: 0.008007, Val Loss: 35.932995, RMSE: 5.994414, MAE: 4.437728, Accuracy: 0.5823, R2: 0.6707, Expl.Var: 0.6708\n",
      "\u001b[31m[2025-03-20 00:39:15,325 INFO]\u001b[0m[Epoch 21/50] Train Loss: 0.007991, Val Loss: 35.926640, RMSE: 5.993884, MAE: 4.443403, Accuracy: 0.5823, R2: 0.6709, Expl.Var: 0.6711\n",
      "\u001b[31m[2025-03-20 00:39:16,612 INFO]\u001b[0m[Epoch 31/50] Train Loss: 0.007992, Val Loss: 35.867153, RMSE: 5.988919, MAE: 4.435803, Accuracy: 0.5827, R2: 0.6713, Expl.Var: 0.6713\n",
      "\u001b[31m[2025-03-20 00:39:17,925 INFO]\u001b[0m[Epoch 41/50] Train Loss: 0.007989, Val Loss: 35.919144, RMSE: 5.993258, MAE: 4.444239, Accuracy: 0.5824, R2: 0.6709, Expl.Var: 0.6710\n",
      "\u001b[31m[2025-03-20 00:39:19,095 INFO]\u001b[0m[Epoch 50/50] Train Loss: 0.007991, Val Loss: 35.896084, RMSE: 5.991334, MAE: 4.438394, Accuracy: 0.5825, R2: 0.6711, Expl.Var: 0.6712\n",
      "\u001b[31m[2025-03-20 00:39:19,101 INFO]\u001b[0mModel saved to trained-models/shenzhen_GCN_seq12_pre3_gsl0.pt\n",
      "\u001b[31m[2025-03-20 00:39:19,101 INFO]\u001b[0mFinished training!\n",
      "\n",
      "\u001b[31m[2025-03-20 00:39:19,111 INFO]\u001b[0mLoaded config from configs/gcn-sz-gsl-pre_len3.yaml: {'fit': {'trainer': {'max_epochs': 50, 'accelerator': 'cuda', 'devices': 1}, 'data': {'dataset_name': 'shenzhen', 'batch_size': 64, 'seq_len': 12, 'pre_len': 3}, 'model': {'model': {'class_path': 'models.GCN', 'init_args': {'hidden_dim': 100, 'use_gsl': 1}}, 'learning_rate': 0.001, 'weight_decay': 0, 'loss': 'mse'}}}\n",
      "\u001b[31m[2025-03-20 00:39:19,289 INFO]\u001b[0mUsing device: cuda\n",
      "\u001b[31m[2025-03-20 00:39:19,293 INFO]\u001b[0mStarting training for 50 epochs...\n",
      "\u001b[31m[2025-03-20 00:39:19,447 INFO]\u001b[0m[Epoch 1/50] Train Loss: 0.010450, Val Loss: 30.791887, RMSE: 5.549044, MAE: 4.086863, Accuracy: 0.6133, R2: 0.7208, Expl.Var: 0.7287\n"
     ]
    },
    {
     "name": "stdout",
     "output_type": "stream",
     "text": [
      "File data/W_est_shenzhen_pre_len3.npy found. Loading existing adjacency matrix estimated by GSL from training data.\n",
      "GSL computed: GSL\n"
     ]
    },
    {
     "name": "stderr",
     "output_type": "stream",
     "text": [
      "\u001b[31m[2025-03-20 00:39:20,970 INFO]\u001b[0m[Epoch 11/50] Train Loss: 0.005978, Val Loss: 24.379898, RMSE: 4.937601, MAE: 3.221809, Accuracy: 0.6559, R2: 0.7768, Expl.Var: 0.7776\n",
      "\u001b[31m[2025-03-20 00:39:22,312 INFO]\u001b[0m[Epoch 21/50] Train Loss: 0.005972, Val Loss: 24.264877, RMSE: 4.925939, MAE: 3.198689, Accuracy: 0.6567, R2: 0.7778, Expl.Var: 0.7783\n",
      "\u001b[31m[2025-03-20 00:39:23,577 INFO]\u001b[0m[Epoch 31/50] Train Loss: 0.005975, Val Loss: 24.433672, RMSE: 4.943043, MAE: 3.214279, Accuracy: 0.6555, R2: 0.7764, Expl.Var: 0.7774\n",
      "\u001b[31m[2025-03-20 00:39:24,910 INFO]\u001b[0m[Epoch 41/50] Train Loss: 0.005967, Val Loss: 24.345695, RMSE: 4.934136, MAE: 3.199739, Accuracy: 0.6562, R2: 0.7771, Expl.Var: 0.7778\n",
      "\u001b[31m[2025-03-20 00:39:26,148 INFO]\u001b[0m[Epoch 50/50] Train Loss: 0.005969, Val Loss: 24.580021, RMSE: 4.957824, MAE: 3.222501, Accuracy: 0.6545, R2: 0.7752, Expl.Var: 0.7767\n",
      "\u001b[31m[2025-03-20 00:39:26,154 INFO]\u001b[0mModel saved to trained-models/shenzhen_GCN_seq12_pre3_gsl1.pt\n",
      "\u001b[31m[2025-03-20 00:39:26,157 INFO]\u001b[0mFinished training!\n",
      "\n",
      "\u001b[31m[2025-03-20 00:39:26,168 INFO]\u001b[0mLoaded config from configs/gcn-sz-gsl-dcg-pre_len3.yaml: {'fit': {'trainer': {'max_epochs': 50, 'accelerator': 'cuda', 'devices': 1}, 'data': {'dataset_name': 'shenzhen', 'batch_size': 64, 'seq_len': 12, 'pre_len': 3}, 'model': {'model': {'class_path': 'models.GCN', 'init_args': {'hidden_dim': 100, 'use_gsl': 2}}, 'learning_rate': 0.001, 'weight_decay': 0, 'loss': 'mse'}}}\n",
      "\u001b[31m[2025-03-20 00:39:26,347 INFO]\u001b[0mUsing device: cuda\n",
      "\u001b[31m[2025-03-20 00:39:26,348 INFO]\u001b[0mStarting training for 50 epochs...\n",
      "\u001b[31m[2025-03-20 00:39:26,512 INFO]\u001b[0m[Epoch 1/50] Train Loss: 0.010023, Val Loss: 29.240564, RMSE: 5.407454, MAE: 4.058699, Accuracy: 0.6232, R2: 0.7369, Expl.Var: 0.7506\n"
     ]
    },
    {
     "name": "stdout",
     "output_type": "stream",
     "text": [
      "File data/W_est_shenzhen_pre_len3.npy found. Loading existing adjacency matrix estimated by GSL from training data.\n",
      "GSL computed: GSL for directed cyclic graph\n"
     ]
    },
    {
     "name": "stderr",
     "output_type": "stream",
     "text": [
      "\u001b[31m[2025-03-20 00:39:27,889 INFO]\u001b[0m[Epoch 11/50] Train Loss: 0.005232, Val Loss: 22.106562, RMSE: 4.701762, MAE: 3.073821, Accuracy: 0.6724, R2: 0.7974, Expl.Var: 0.7975\n",
      "\u001b[31m[2025-03-20 00:39:29,192 INFO]\u001b[0m[Epoch 21/50] Train Loss: 0.005226, Val Loss: 22.062647, RMSE: 4.697089, MAE: 3.067268, Accuracy: 0.6727, R2: 0.7978, Expl.Var: 0.7978\n",
      "\u001b[31m[2025-03-20 00:39:30,526 INFO]\u001b[0m[Epoch 31/50] Train Loss: 0.005223, Val Loss: 22.154335, RMSE: 4.706839, MAE: 3.082634, Accuracy: 0.6720, R2: 0.7970, Expl.Var: 0.7973\n",
      "\u001b[31m[2025-03-20 00:39:31,846 INFO]\u001b[0m[Epoch 41/50] Train Loss: 0.005205, Val Loss: 22.136572, RMSE: 4.704952, MAE: 3.084101, Accuracy: 0.6721, R2: 0.7971, Expl.Var: 0.7972\n",
      "\u001b[31m[2025-03-20 00:39:33,022 INFO]\u001b[0m[Epoch 50/50] Train Loss: 0.005184, Val Loss: 22.206467, RMSE: 4.712374, MAE: 3.122424, Accuracy: 0.6716, R2: 0.7966, Expl.Var: 0.7968\n",
      "\u001b[31m[2025-03-20 00:39:33,022 INFO]\u001b[0mModel saved to trained-models/shenzhen_GCN_seq12_pre3_gsl2.pt\n",
      "\u001b[31m[2025-03-20 00:39:33,022 INFO]\u001b[0mFinished training!\n",
      "\n",
      "\u001b[31m[2025-03-20 00:39:33,049 INFO]\u001b[0mLoaded config from configs/gcn-sz-pre_len4.yaml: {'fit': {'trainer': {'max_epochs': 50, 'accelerator': 'cuda', 'devices': 1}, 'data': {'dataset_name': 'shenzhen', 'batch_size': 64, 'seq_len': 12, 'pre_len': 4}, 'model': {'model': {'class_path': 'models.GCN', 'init_args': {'hidden_dim': 100, 'use_gsl': 0}}, 'learning_rate': 0.001, 'weight_decay': 0, 'loss': 'mse'}}}\n",
      "\u001b[31m[2025-03-20 00:39:33,216 INFO]\u001b[0mUsing device: cuda\n",
      "\u001b[31m[2025-03-20 00:39:33,218 INFO]\u001b[0mStarting training for 50 epochs...\n",
      "\u001b[31m[2025-03-20 00:39:33,379 INFO]\u001b[0m[Epoch 1/50] Train Loss: 0.015280, Val Loss: 46.806389, RMSE: 6.841519, MAE: 5.435162, Accuracy: 0.5232, R2: 0.5752, Expl.Var: 0.5807\n"
     ]
    },
    {
     "name": "stdout",
     "output_type": "stream",
     "text": [
      "GCN\n"
     ]
    },
    {
     "name": "stderr",
     "output_type": "stream",
     "text": [
      "\u001b[31m[2025-03-20 00:39:34,706 INFO]\u001b[0m[Epoch 11/50] Train Loss: 0.008083, Val Loss: 36.134251, RMSE: 6.011177, MAE: 4.454328, Accuracy: 0.5811, R2: 0.6689, Expl.Var: 0.6691\n",
      "\u001b[31m[2025-03-20 00:39:35,989 INFO]\u001b[0m[Epoch 21/50] Train Loss: 0.008050, Val Loss: 36.047745, RMSE: 6.003977, MAE: 4.447429, Accuracy: 0.5816, R2: 0.6697, Expl.Var: 0.6698\n",
      "\u001b[31m[2025-03-20 00:39:37,293 INFO]\u001b[0m[Epoch 31/50] Train Loss: 0.008041, Val Loss: 36.025066, RMSE: 6.002089, MAE: 4.446849, Accuracy: 0.5817, R2: 0.6699, Expl.Var: 0.6699\n",
      "\u001b[31m[2025-03-20 00:39:38,824 INFO]\u001b[0m[Epoch 41/50] Train Loss: 0.008040, Val Loss: 36.042187, RMSE: 6.003515, MAE: 4.452662, Accuracy: 0.5816, R2: 0.6697, Expl.Var: 0.6698\n",
      "\u001b[31m[2025-03-20 00:39:40,021 INFO]\u001b[0m[Epoch 50/50] Train Loss: 0.008042, Val Loss: 36.018623, RMSE: 6.001552, MAE: 4.449536, Accuracy: 0.5818, R2: 0.6699, Expl.Var: 0.6699\n",
      "\u001b[31m[2025-03-20 00:39:40,024 INFO]\u001b[0mModel saved to trained-models/shenzhen_GCN_seq12_pre4_gsl0.pt\n",
      "\u001b[31m[2025-03-20 00:39:40,025 INFO]\u001b[0mFinished training!\n",
      "\n",
      "\u001b[31m[2025-03-20 00:39:40,034 INFO]\u001b[0mLoaded config from configs/gcn-sz-gsl-pre_len4.yaml: {'fit': {'trainer': {'max_epochs': 50, 'accelerator': 'cuda', 'devices': 1}, 'data': {'dataset_name': 'shenzhen', 'batch_size': 64, 'seq_len': 12, 'pre_len': 4}, 'model': {'model': {'class_path': 'models.GCN', 'init_args': {'hidden_dim': 100, 'use_gsl': 1}}, 'learning_rate': 0.001, 'weight_decay': 0, 'loss': 'mse'}}}\n",
      "\u001b[31m[2025-03-20 00:39:40,205 INFO]\u001b[0mUsing device: cuda\n",
      "\u001b[31m[2025-03-20 00:39:40,207 INFO]\u001b[0mStarting training for 50 epochs...\n",
      "\u001b[31m[2025-03-20 00:39:40,356 INFO]\u001b[0m[Epoch 1/50] Train Loss: 0.014154, Val Loss: 39.861908, RMSE: 6.313629, MAE: 4.861597, Accuracy: 0.5600, R2: 0.6450, Expl.Var: 0.6636\n"
     ]
    },
    {
     "name": "stdout",
     "output_type": "stream",
     "text": [
      "File data/W_est_shenzhen_pre_len4.npy found. Loading existing adjacency matrix estimated by GSL from training data.\n",
      "GSL computed: GSL\n"
     ]
    },
    {
     "name": "stderr",
     "output_type": "stream",
     "text": [
      "\u001b[31m[2025-03-20 00:39:41,660 INFO]\u001b[0m[Epoch 11/50] Train Loss: 0.006047, Val Loss: 24.554865, RMSE: 4.955287, MAE: 3.236367, Accuracy: 0.6547, R2: 0.7752, Expl.Var: 0.7758\n",
      "\u001b[31m[2025-03-20 00:39:42,955 INFO]\u001b[0m[Epoch 21/50] Train Loss: 0.006039, Val Loss: 24.603724, RMSE: 4.960214, MAE: 3.234543, Accuracy: 0.6543, R2: 0.7748, Expl.Var: 0.7756\n",
      "\u001b[31m[2025-03-20 00:39:44,238 INFO]\u001b[0m[Epoch 31/50] Train Loss: 0.006036, Val Loss: 24.774815, RMSE: 4.977430, MAE: 3.247052, Accuracy: 0.6531, R2: 0.7734, Expl.Var: 0.7747\n",
      "\u001b[31m[2025-03-20 00:39:45,611 INFO]\u001b[0m[Epoch 41/50] Train Loss: 0.006033, Val Loss: 24.483101, RMSE: 4.948040, MAE: 3.214967, Accuracy: 0.6552, R2: 0.7758, Expl.Var: 0.7763\n",
      "\u001b[31m[2025-03-20 00:39:46,802 INFO]\u001b[0m[Epoch 50/50] Train Loss: 0.006031, Val Loss: 24.331896, RMSE: 4.932737, MAE: 3.199426, Accuracy: 0.6562, R2: 0.7771, Expl.Var: 0.7773\n",
      "\u001b[31m[2025-03-20 00:39:46,805 INFO]\u001b[0mModel saved to trained-models/shenzhen_GCN_seq12_pre4_gsl1.pt\n",
      "\u001b[31m[2025-03-20 00:39:46,806 INFO]\u001b[0mFinished training!\n",
      "\n",
      "\u001b[31m[2025-03-20 00:39:46,816 INFO]\u001b[0mLoaded config from configs/gcn-sz-gsl-dcg-pre_len4.yaml: {'fit': {'trainer': {'max_epochs': 50, 'accelerator': 'cuda', 'devices': 1}, 'data': {'dataset_name': 'shenzhen', 'batch_size': 64, 'seq_len': 12, 'pre_len': 4}, 'model': {'model': {'class_path': 'models.GCN', 'init_args': {'hidden_dim': 100, 'use_gsl': 2}}, 'learning_rate': 0.001, 'weight_decay': 0, 'loss': 'mse'}}}\n",
      "\u001b[31m[2025-03-20 00:39:46,986 INFO]\u001b[0mUsing device: cuda\n",
      "\u001b[31m[2025-03-20 00:39:46,990 INFO]\u001b[0mStarting training for 50 epochs...\n",
      "\u001b[31m[2025-03-20 00:39:47,135 INFO]\u001b[0m[Epoch 1/50] Train Loss: 0.013374, Val Loss: 35.782398, RMSE: 5.981839, MAE: 4.664191, Accuracy: 0.5831, R2: 0.6775, Expl.Var: 0.6887\n"
     ]
    },
    {
     "name": "stdout",
     "output_type": "stream",
     "text": [
      "File data/W_est_shenzhen_pre_len4.npy found. Loading existing adjacency matrix estimated by GSL from training data.\n",
      "GSL computed: GSL for directed cyclic graph\n"
     ]
    },
    {
     "name": "stderr",
     "output_type": "stream",
     "text": [
      "\u001b[31m[2025-03-20 00:39:48,422 INFO]\u001b[0m[Epoch 11/50] Train Loss: 0.005308, Val Loss: 22.291569, RMSE: 4.721395, MAE: 3.088799, Accuracy: 0.6710, R2: 0.7957, Expl.Var: 0.7957\n",
      "\u001b[31m[2025-03-20 00:39:49,747 INFO]\u001b[0m[Epoch 21/50] Train Loss: 0.005301, Val Loss: 22.313154, RMSE: 4.723680, MAE: 3.093813, Accuracy: 0.6708, R2: 0.7955, Expl.Var: 0.7956\n",
      "\u001b[31m[2025-03-20 00:39:51,024 INFO]\u001b[0m[Epoch 31/50] Train Loss: 0.005295, Val Loss: 22.369633, RMSE: 4.729655, MAE: 3.100601, Accuracy: 0.6704, R2: 0.7951, Expl.Var: 0.7952\n",
      "\u001b[31m[2025-03-20 00:39:52,363 INFO]\u001b[0m[Epoch 41/50] Train Loss: 0.005288, Val Loss: 22.332565, RMSE: 4.725734, MAE: 3.097646, Accuracy: 0.6707, R2: 0.7954, Expl.Var: 0.7954\n",
      "\u001b[31m[2025-03-20 00:39:53,527 INFO]\u001b[0m[Epoch 50/50] Train Loss: 0.005279, Val Loss: 22.335724, RMSE: 4.726068, MAE: 3.106553, Accuracy: 0.6707, R2: 0.7953, Expl.Var: 0.7954\n",
      "\u001b[31m[2025-03-20 00:39:53,527 INFO]\u001b[0mModel saved to trained-models/shenzhen_GCN_seq12_pre4_gsl2.pt\n",
      "\u001b[31m[2025-03-20 00:39:53,527 INFO]\u001b[0mFinished training!\n",
      "\n",
      "\u001b[31m[2025-03-20 00:39:53,543 INFO]\u001b[0mLoaded config from configs/gcn-los-pre_len1.yaml: {'fit': {'trainer': {'max_epochs': 50, 'accelerator': 'cuda', 'devices': 1}, 'data': {'dataset_name': 'losloop', 'batch_size': 64, 'seq_len': 12, 'pre_len': 1}, 'model': {'model': {'class_path': 'models.GCN', 'init_args': {'hidden_dim': 64, 'use_gsl': 0}}, 'learning_rate': 0.001, 'weight_decay': 0, 'loss': 'mse'}}}\n",
      "\u001b[31m[2025-03-20 00:39:53,675 INFO]\u001b[0mUsing device: cuda\n",
      "\u001b[31m[2025-03-20 00:39:53,676 INFO]\u001b[0mStarting training for 50 epochs...\n",
      "\u001b[31m[2025-03-20 00:39:53,775 INFO]\u001b[0m[Epoch 1/50] Train Loss: 0.081381, Val Loss: 138.564011, RMSE: 11.771321, MAE: 8.660152, Accuracy: 0.7997, R2: 0.4479, Expl.Var: 0.5859\n"
     ]
    },
    {
     "name": "stdout",
     "output_type": "stream",
     "text": [
      "GCN\n"
     ]
    },
    {
     "name": "stderr",
     "output_type": "stream",
     "text": [
      "\u001b[31m[2025-03-20 00:39:54,673 INFO]\u001b[0m[Epoch 11/50] Train Loss: 0.012938, Val Loss: 69.320969, RMSE: 8.325921, MAE: 5.852673, Accuracy: 0.8583, R2: 0.6389, Expl.Var: 0.6391\n",
      "\u001b[31m[2025-03-20 00:39:55,576 INFO]\u001b[0m[Epoch 21/50] Train Loss: 0.011931, Val Loss: 62.695507, RMSE: 7.918049, MAE: 5.632243, Accuracy: 0.8652, R2: 0.6734, Expl.Var: 0.6735\n",
      "\u001b[31m[2025-03-20 00:39:56,458 INFO]\u001b[0m[Epoch 31/50] Train Loss: 0.011651, Val Loss: 60.959858, RMSE: 7.807680, MAE: 5.595221, Accuracy: 0.8671, R2: 0.6823, Expl.Var: 0.6824\n",
      "\u001b[31m[2025-03-20 00:39:57,358 INFO]\u001b[0m[Epoch 41/50] Train Loss: 0.011514, Val Loss: 60.175095, RMSE: 7.757261, MAE: 5.575319, Accuracy: 0.8680, R2: 0.6864, Expl.Var: 0.6864\n",
      "\u001b[31m[2025-03-20 00:39:58,176 INFO]\u001b[0m[Epoch 50/50] Train Loss: 0.011414, Val Loss: 59.659378, RMSE: 7.723948, MAE: 5.555292, Accuracy: 0.8685, R2: 0.6891, Expl.Var: 0.6891\n",
      "\u001b[31m[2025-03-20 00:39:58,183 INFO]\u001b[0mModel saved to trained-models/losloop_GCN_seq12_pre1_gsl0.pt\n",
      "\u001b[31m[2025-03-20 00:39:58,183 INFO]\u001b[0mFinished training!\n",
      "\n",
      "\u001b[31m[2025-03-20 00:39:58,197 INFO]\u001b[0mLoaded config from configs/gcn-los-gsl-pre_len1.yaml: {'fit': {'trainer': {'max_epochs': 50, 'accelerator': 'cuda', 'devices': 1}, 'data': {'dataset_name': 'losloop', 'batch_size': 64, 'seq_len': 12, 'pre_len': 1}, 'model': {'model': {'class_path': 'models.GCN', 'init_args': {'hidden_dim': 64, 'use_gsl': 1}}, 'learning_rate': 0.001, 'weight_decay': 0, 'loss': 'mse'}}}\n",
      "\u001b[31m[2025-03-20 00:39:58,321 INFO]\u001b[0mUsing device: cuda\n",
      "\u001b[31m[2025-03-20 00:39:58,339 INFO]\u001b[0mStarting training for 50 epochs...\n",
      "\u001b[31m[2025-03-20 00:39:58,443 INFO]\u001b[0m[Epoch 1/50] Train Loss: 0.082540, Val Loss: 140.922241, RMSE: 11.871067, MAE: 9.138047, Accuracy: 0.7980, R2: 0.4053, Expl.Var: 0.5004\n"
     ]
    },
    {
     "name": "stdout",
     "output_type": "stream",
     "text": [
      "File data/W_est_losloop_pre_len1.npy found. Loading existing adjacency matrix estimated by GSL from training data.\n",
      "GSL computed: GSL\n"
     ]
    },
    {
     "name": "stderr",
     "output_type": "stream",
     "text": [
      "\u001b[31m[2025-03-20 00:39:59,375 INFO]\u001b[0m[Epoch 11/50] Train Loss: 0.012403, Val Loss: 64.010681, RMSE: 8.000668, MAE: 5.347832, Accuracy: 0.8638, R2: 0.6667, Expl.Var: 0.6674\n",
      "\u001b[31m[2025-03-20 00:40:00,378 INFO]\u001b[0m[Epoch 21/50] Train Loss: 0.011717, Val Loss: 61.233009, RMSE: 7.825152, MAE: 5.276656, Accuracy: 0.8668, R2: 0.6821, Expl.Var: 0.6846\n",
      "\u001b[31m[2025-03-20 00:40:01,270 INFO]\u001b[0m[Epoch 31/50] Train Loss: 0.011438, Val Loss: 59.768425, RMSE: 7.731004, MAE: 5.179961, Accuracy: 0.8684, R2: 0.6900, Expl.Var: 0.6933\n",
      "\u001b[31m[2025-03-20 00:40:02,214 INFO]\u001b[0m[Epoch 41/50] Train Loss: 0.011213, Val Loss: 58.114338, RMSE: 7.623276, MAE: 5.103260, Accuracy: 0.8703, R2: 0.6981, Expl.Var: 0.7003\n",
      "\u001b[31m[2025-03-20 00:40:03,036 INFO]\u001b[0m[Epoch 50/50] Train Loss: 0.011039, Val Loss: 56.655888, RMSE: 7.527010, MAE: 5.064841, Accuracy: 0.8719, R2: 0.7051, Expl.Var: 0.7058\n",
      "\u001b[31m[2025-03-20 00:40:03,041 INFO]\u001b[0mModel saved to trained-models/losloop_GCN_seq12_pre1_gsl1.pt\n",
      "\u001b[31m[2025-03-20 00:40:03,041 INFO]\u001b[0mFinished training!\n",
      "\n",
      "\u001b[31m[2025-03-20 00:40:03,045 INFO]\u001b[0mLoaded config from configs/gcn-los-gsl-dcg-pre_len1.yaml: {'fit': {'trainer': {'max_epochs': 50, 'accelerator': 'cuda', 'devices': 1}, 'data': {'dataset_name': 'losloop', 'batch_size': 64, 'seq_len': 12, 'pre_len': 1}, 'model': {'model': {'class_path': 'models.GCN', 'init_args': {'hidden_dim': 64, 'use_gsl': 2}}, 'learning_rate': 0.001, 'weight_decay': 0, 'loss': 'mse'}}}\n",
      "\u001b[31m[2025-03-20 00:40:03,186 INFO]\u001b[0mUsing device: cuda\n",
      "\u001b[31m[2025-03-20 00:40:03,189 INFO]\u001b[0mStarting training for 50 epochs...\n",
      "\u001b[31m[2025-03-20 00:40:03,294 INFO]\u001b[0m[Epoch 1/50] Train Loss: 0.076430, Val Loss: 111.515648, RMSE: 10.560097, MAE: 8.606026, Accuracy: 0.8203, R2: 0.5498, Expl.Var: 0.7097\n"
     ]
    },
    {
     "name": "stdout",
     "output_type": "stream",
     "text": [
      "File data/W_est_losloop_pre_len1.npy found. Loading existing adjacency matrix estimated by GSL from training data.\n",
      "GSL computed: GSL for directed cyclic graph\n"
     ]
    },
    {
     "name": "stderr",
     "output_type": "stream",
     "text": [
      "\u001b[31m[2025-03-20 00:40:04,209 INFO]\u001b[0m[Epoch 11/50] Train Loss: 0.006472, Val Loss: 36.516148, RMSE: 6.042859, MAE: 3.838890, Accuracy: 0.8971, R2: 0.8097, Expl.Var: 0.8099\n",
      "\u001b[31m[2025-03-20 00:40:05,109 INFO]\u001b[0m[Epoch 21/50] Train Loss: 0.005800, Val Loss: 32.381958, RMSE: 5.690515, MAE: 3.600376, Accuracy: 0.9031, R2: 0.8313, Expl.Var: 0.8317\n",
      "\u001b[31m[2025-03-20 00:40:06,026 INFO]\u001b[0m[Epoch 31/50] Train Loss: 0.005562, Val Loss: 30.981363, RMSE: 5.566091, MAE: 3.513583, Accuracy: 0.9053, R2: 0.8386, Expl.Var: 0.8390\n",
      "\u001b[31m[2025-03-20 00:40:06,909 INFO]\u001b[0m[Epoch 41/50] Train Loss: 0.005426, Val Loss: 30.124222, RMSE: 5.488554, MAE: 3.472962, Accuracy: 0.9066, R2: 0.8431, Expl.Var: 0.8433\n",
      "\u001b[31m[2025-03-20 00:40:07,729 INFO]\u001b[0m[Epoch 50/50] Train Loss: 0.005342, Val Loss: 29.588469, RMSE: 5.439528, MAE: 3.452244, Accuracy: 0.9074, R2: 0.8458, Expl.Var: 0.8460\n",
      "\u001b[31m[2025-03-20 00:40:07,729 INFO]\u001b[0mModel saved to trained-models/losloop_GCN_seq12_pre1_gsl2.pt\n",
      "\u001b[31m[2025-03-20 00:40:07,736 INFO]\u001b[0mFinished training!\n",
      "\n",
      "\u001b[31m[2025-03-20 00:40:07,746 INFO]\u001b[0mLoaded config from configs/gcn-los-pre_len2.yaml: {'fit': {'trainer': {'max_epochs': 50, 'accelerator': 'cuda', 'devices': 1}, 'data': {'dataset_name': 'losloop', 'batch_size': 64, 'seq_len': 12, 'pre_len': 2}, 'model': {'model': {'class_path': 'models.GCN', 'init_args': {'hidden_dim': 64, 'use_gsl': 0}}, 'learning_rate': 0.001, 'weight_decay': 0, 'loss': 'mse'}}}\n",
      "\u001b[31m[2025-03-20 00:40:07,876 INFO]\u001b[0mUsing device: cuda\n",
      "\u001b[31m[2025-03-20 00:40:07,883 INFO]\u001b[0mStarting training for 50 epochs...\n",
      "\u001b[31m[2025-03-20 00:40:07,989 INFO]\u001b[0m[Epoch 1/50] Train Loss: 0.221218, Val Loss: 118.129799, RMSE: 10.868753, MAE: 7.436675, Accuracy: 0.8150, R2: 0.4761, Expl.Var: 0.5587\n"
     ]
    },
    {
     "name": "stdout",
     "output_type": "stream",
     "text": [
      "GCN\n"
     ]
    },
    {
     "name": "stderr",
     "output_type": "stream",
     "text": [
      "\u001b[31m[2025-03-20 00:40:08,931 INFO]\u001b[0m[Epoch 11/50] Train Loss: 0.013876, Val Loss: 76.199356, RMSE: 8.729224, MAE: 6.078568, Accuracy: 0.8514, R2: 0.6039, Expl.Var: 0.6047\n",
      "\u001b[31m[2025-03-20 00:40:09,878 INFO]\u001b[0m[Epoch 21/50] Train Loss: 0.012776, Val Loss: 68.474808, RMSE: 8.274951, MAE: 5.837683, Accuracy: 0.8591, R2: 0.6439, Expl.Var: 0.6443\n",
      "\u001b[31m[2025-03-20 00:40:10,810 INFO]\u001b[0m[Epoch 31/50] Train Loss: 0.012308, Val Loss: 65.128250, RMSE: 8.070208, MAE: 5.740946, Accuracy: 0.8626, R2: 0.6611, Expl.Var: 0.6614\n",
      "\u001b[31m[2025-03-20 00:40:11,726 INFO]\u001b[0m[Epoch 41/50] Train Loss: 0.012101, Val Loss: 63.699875, RMSE: 7.981220, MAE: 5.715837, Accuracy: 0.8641, R2: 0.6685, Expl.Var: 0.6685\n",
      "\u001b[31m[2025-03-20 00:40:12,564 INFO]\u001b[0m[Epoch 50/50] Train Loss: 0.012000, Val Loss: 63.043602, RMSE: 7.940000, MAE: 5.691576, Accuracy: 0.8648, R2: 0.6719, Expl.Var: 0.6719\n",
      "\u001b[31m[2025-03-20 00:40:12,564 INFO]\u001b[0mModel saved to trained-models/losloop_GCN_seq12_pre2_gsl0.pt\n",
      "\u001b[31m[2025-03-20 00:40:12,564 INFO]\u001b[0mFinished training!\n",
      "\n",
      "\u001b[31m[2025-03-20 00:40:12,575 INFO]\u001b[0mLoaded config from configs/gcn-los-gsl-pre_len2.yaml: {'fit': {'trainer': {'max_epochs': 50, 'accelerator': 'cuda', 'devices': 1}, 'data': {'dataset_name': 'losloop', 'batch_size': 64, 'seq_len': 12, 'pre_len': 2}, 'model': {'model': {'class_path': 'models.GCN', 'init_args': {'hidden_dim': 64, 'use_gsl': 1}}, 'learning_rate': 0.001, 'weight_decay': 0, 'loss': 'mse'}}}\n",
      "\u001b[31m[2025-03-20 00:40:12,709 INFO]\u001b[0mUsing device: cuda\n",
      "\u001b[31m[2025-03-20 00:40:12,716 INFO]\u001b[0mStarting training for 50 epochs...\n",
      "\u001b[31m[2025-03-20 00:40:12,823 INFO]\u001b[0m[Epoch 1/50] Train Loss: 0.219800, Val Loss: 122.897469, RMSE: 11.085913, MAE: 7.815781, Accuracy: 0.8113, R2: 0.4385, Expl.Var: 0.4995\n"
     ]
    },
    {
     "name": "stdout",
     "output_type": "stream",
     "text": [
      "File data/W_est_losloop_pre_len2.npy found. Loading existing adjacency matrix estimated by GSL from training data.\n",
      "GSL computed: GSL\n"
     ]
    },
    {
     "name": "stderr",
     "output_type": "stream",
     "text": [
      "\u001b[31m[2025-03-20 00:40:13,789 INFO]\u001b[0m[Epoch 11/50] Train Loss: 0.013660, Val Loss: 70.811775, RMSE: 8.414973, MAE: 5.527009, Accuracy: 0.8568, R2: 0.6318, Expl.Var: 0.6324\n",
      "\u001b[31m[2025-03-20 00:40:14,724 INFO]\u001b[0m[Epoch 21/50] Train Loss: 0.012566, Val Loss: 65.660233, RMSE: 8.103100, MAE: 5.434361, Accuracy: 0.8621, R2: 0.6592, Expl.Var: 0.6609\n",
      "\u001b[31m[2025-03-20 00:40:15,645 INFO]\u001b[0m[Epoch 31/50] Train Loss: 0.012273, Val Loss: 64.187416, RMSE: 8.011705, MAE: 5.368785, Accuracy: 0.8636, R2: 0.6671, Expl.Var: 0.6695\n",
      "\u001b[31m[2025-03-20 00:40:16,560 INFO]\u001b[0m[Epoch 41/50] Train Loss: 0.012085, Val Loss: 63.008286, RMSE: 7.937776, MAE: 5.304279, Accuracy: 0.8649, R2: 0.6732, Expl.Var: 0.6754\n",
      "\u001b[31m[2025-03-20 00:40:17,397 INFO]\u001b[0m[Epoch 50/50] Train Loss: 0.011942, Val Loss: 61.890896, RMSE: 7.867077, MAE: 5.268295, Accuracy: 0.8661, R2: 0.6784, Expl.Var: 0.6795\n",
      "\u001b[31m[2025-03-20 00:40:17,397 INFO]\u001b[0mModel saved to trained-models/losloop_GCN_seq12_pre2_gsl1.pt\n",
      "\u001b[31m[2025-03-20 00:40:17,397 INFO]\u001b[0mFinished training!\n",
      "\n",
      "\u001b[31m[2025-03-20 00:40:17,413 INFO]\u001b[0mLoaded config from configs/gcn-los-gsl-dcg-pre_len2.yaml: {'fit': {'trainer': {'max_epochs': 50, 'accelerator': 'cuda', 'devices': 1}, 'data': {'dataset_name': 'losloop', 'batch_size': 64, 'seq_len': 12, 'pre_len': 2}, 'model': {'model': {'class_path': 'models.GCN', 'init_args': {'hidden_dim': 64, 'use_gsl': 2}}, 'learning_rate': 0.001, 'weight_decay': 0, 'loss': 'mse'}}}\n",
      "\u001b[31m[2025-03-20 00:40:17,547 INFO]\u001b[0mUsing device: cuda\n",
      "\u001b[31m[2025-03-20 00:40:17,552 INFO]\u001b[0mStarting training for 50 epochs...\n",
      "\u001b[31m[2025-03-20 00:40:17,660 INFO]\u001b[0m[Epoch 1/50] Train Loss: 0.216583, Val Loss: 88.022736, RMSE: 9.382043, MAE: 6.892963, Accuracy: 0.8403, R2: 0.6030, Expl.Var: 0.6957\n"
     ]
    },
    {
     "name": "stdout",
     "output_type": "stream",
     "text": [
      "File data/W_est_losloop_pre_len2.npy found. Loading existing adjacency matrix estimated by GSL from training data.\n",
      "GSL computed: GSL for directed cyclic graph\n"
     ]
    },
    {
     "name": "stderr",
     "output_type": "stream",
     "text": [
      "\u001b[31m[2025-03-20 00:40:18,710 INFO]\u001b[0m[Epoch 11/50] Train Loss: 0.007372, Val Loss: 42.864437, RMSE: 6.547094, MAE: 4.094252, Accuracy: 0.8886, R2: 0.7771, Expl.Var: 0.7776\n",
      "\u001b[31m[2025-03-20 00:40:19,642 INFO]\u001b[0m[Epoch 21/50] Train Loss: 0.006496, Val Loss: 36.957718, RMSE: 6.079286, MAE: 3.790202, Accuracy: 0.8965, R2: 0.8078, Expl.Var: 0.8082\n",
      "\u001b[31m[2025-03-20 00:40:20,627 INFO]\u001b[0m[Epoch 31/50] Train Loss: 0.006209, Val Loss: 35.026047, RMSE: 5.918281, MAE: 3.669322, Accuracy: 0.8993, R2: 0.8178, Expl.Var: 0.8181\n",
      "\u001b[31m[2025-03-20 00:40:21,681 INFO]\u001b[0m[Epoch 41/50] Train Loss: 0.006078, Val Loss: 34.193779, RMSE: 5.847545, MAE: 3.620619, Accuracy: 0.9005, R2: 0.8221, Expl.Var: 0.8223\n",
      "\u001b[31m[2025-03-20 00:40:22,532 INFO]\u001b[0m[Epoch 50/50] Train Loss: 0.006006, Val Loss: 33.714466, RMSE: 5.806416, MAE: 3.613418, Accuracy: 0.9012, R2: 0.8245, Expl.Var: 0.8246\n",
      "\u001b[31m[2025-03-20 00:40:22,532 INFO]\u001b[0mModel saved to trained-models/losloop_GCN_seq12_pre2_gsl2.pt\n",
      "\u001b[31m[2025-03-20 00:40:22,532 INFO]\u001b[0mFinished training!\n",
      "\n",
      "\u001b[31m[2025-03-20 00:40:22,541 INFO]\u001b[0mLoaded config from configs/gcn-los-pre_len3.yaml: {'fit': {'trainer': {'max_epochs': 50, 'accelerator': 'cuda', 'devices': 1}, 'data': {'dataset_name': 'losloop', 'batch_size': 64, 'seq_len': 12, 'pre_len': 3}, 'model': {'model': {'class_path': 'models.GCN', 'init_args': {'hidden_dim': 64, 'use_gsl': 0}}, 'learning_rate': 0.001, 'weight_decay': 0, 'loss': 'mse'}}}\n",
      "\u001b[31m[2025-03-20 00:40:22,675 INFO]\u001b[0mUsing device: cuda\n",
      "\u001b[31m[2025-03-20 00:40:22,684 INFO]\u001b[0mStarting training for 50 epochs...\n",
      "\u001b[31m[2025-03-20 00:40:22,794 INFO]\u001b[0m[Epoch 1/50] Train Loss: 0.213274, Val Loss: 121.893326, RMSE: 11.040531, MAE: 7.528393, Accuracy: 0.8120, R2: 0.4580, Expl.Var: 0.5354\n"
     ]
    },
    {
     "name": "stdout",
     "output_type": "stream",
     "text": [
      "GCN\n"
     ]
    },
    {
     "name": "stderr",
     "output_type": "stream",
     "text": [
      "\u001b[31m[2025-03-20 00:40:23,742 INFO]\u001b[0m[Epoch 11/50] Train Loss: 0.014458, Val Loss: 80.565033, RMSE: 8.975802, MAE: 6.210964, Accuracy: 0.8472, R2: 0.5818, Expl.Var: 0.5826\n",
      "\u001b[31m[2025-03-20 00:40:24,691 INFO]\u001b[0m[Epoch 21/50] Train Loss: 0.013252, Val Loss: 71.750710, RMSE: 8.470579, MAE: 5.929371, Accuracy: 0.8558, R2: 0.6274, Expl.Var: 0.6279\n",
      "\u001b[31m[2025-03-20 00:40:25,609 INFO]\u001b[0m[Epoch 31/50] Train Loss: 0.012699, Val Loss: 67.701492, RMSE: 8.228091, MAE: 5.808223, Accuracy: 0.8599, R2: 0.6483, Expl.Var: 0.6487\n",
      "\u001b[31m[2025-03-20 00:40:26,537 INFO]\u001b[0m[Epoch 41/50] Train Loss: 0.012505, Val Loss: 66.259895, RMSE: 8.140018, MAE: 5.788033, Accuracy: 0.8614, R2: 0.6556, Expl.Var: 0.6556\n",
      "\u001b[31m[2025-03-20 00:40:27,372 INFO]\u001b[0m[Epoch 50/50] Train Loss: 0.012402, Val Loss: 65.643562, RMSE: 8.102072, MAE: 5.781898, Accuracy: 0.8621, R2: 0.6588, Expl.Var: 0.6588\n",
      "\u001b[31m[2025-03-20 00:40:27,372 INFO]\u001b[0mModel saved to trained-models/losloop_GCN_seq12_pre3_gsl0.pt\n",
      "\u001b[31m[2025-03-20 00:40:27,372 INFO]\u001b[0mFinished training!\n",
      "\n",
      "\u001b[31m[2025-03-20 00:40:27,391 INFO]\u001b[0mLoaded config from configs/gcn-los-gsl-pre_len3.yaml: {'fit': {'trainer': {'max_epochs': 50, 'accelerator': 'cuda', 'devices': 1}, 'data': {'dataset_name': 'losloop', 'batch_size': 64, 'seq_len': 12, 'pre_len': 3}, 'model': {'model': {'class_path': 'models.GCN', 'init_args': {'hidden_dim': 64, 'use_gsl': 1}}, 'learning_rate': 0.001, 'weight_decay': 0, 'loss': 'mse'}}}\n",
      "\u001b[31m[2025-03-20 00:40:27,526 INFO]\u001b[0mUsing device: cuda\n",
      "\u001b[31m[2025-03-20 00:40:27,533 INFO]\u001b[0mStarting training for 50 epochs...\n",
      "\u001b[31m[2025-03-20 00:40:27,639 INFO]\u001b[0m[Epoch 1/50] Train Loss: 0.212497, Val Loss: 129.512161, RMSE: 11.380341, MAE: 7.972747, Accuracy: 0.8063, R2: 0.4066, Expl.Var: 0.4613\n"
     ]
    },
    {
     "name": "stdout",
     "output_type": "stream",
     "text": [
      "File data/W_est_losloop_pre_len3.npy found. Loading existing adjacency matrix estimated by GSL from training data.\n",
      "GSL computed: GSL\n"
     ]
    },
    {
     "name": "stderr",
     "output_type": "stream",
     "text": [
      "\u001b[31m[2025-03-20 00:40:28,592 INFO]\u001b[0m[Epoch 11/50] Train Loss: 0.014177, Val Loss: 74.954590, RMSE: 8.657632, MAE: 5.661993, Accuracy: 0.8526, R2: 0.6108, Expl.Var: 0.6114\n",
      "\u001b[31m[2025-03-20 00:40:29,517 INFO]\u001b[0m[Epoch 21/50] Train Loss: 0.012957, Val Loss: 69.110321, RMSE: 8.313262, MAE: 5.540357, Accuracy: 0.8585, R2: 0.6422, Expl.Var: 0.6448\n",
      "\u001b[31m[2025-03-20 00:40:30,448 INFO]\u001b[0m[Epoch 31/50] Train Loss: 0.012669, Val Loss: 67.592621, RMSE: 8.221473, MAE: 5.494219, Accuracy: 0.8600, R2: 0.6503, Expl.Var: 0.6533\n",
      "\u001b[31m[2025-03-20 00:40:31,386 INFO]\u001b[0m[Epoch 41/50] Train Loss: 0.012490, Val Loss: 66.593948, RMSE: 8.160512, MAE: 5.445974, Accuracy: 0.8611, R2: 0.6555, Expl.Var: 0.6586\n",
      "\u001b[31m[2025-03-20 00:40:32,260 INFO]\u001b[0m[Epoch 50/50] Train Loss: 0.012364, Val Loss: 65.174057, RMSE: 8.073045, MAE: 5.452603, Accuracy: 0.8626, R2: 0.6616, Expl.Var: 0.6623\n",
      "\u001b[31m[2025-03-20 00:40:32,263 INFO]\u001b[0mModel saved to trained-models/losloop_GCN_seq12_pre3_gsl1.pt\n",
      "\u001b[31m[2025-03-20 00:40:32,264 INFO]\u001b[0mFinished training!\n",
      "\n",
      "\u001b[31m[2025-03-20 00:40:32,275 INFO]\u001b[0mLoaded config from configs/gcn-los-gsl-dcg-pre_len3.yaml: {'fit': {'trainer': {'max_epochs': 50, 'accelerator': 'cuda', 'devices': 1}, 'data': {'dataset_name': 'losloop', 'batch_size': 64, 'seq_len': 12, 'pre_len': 3}, 'model': {'model': {'class_path': 'models.GCN', 'init_args': {'hidden_dim': 64, 'use_gsl': 2}}, 'learning_rate': 0.001, 'weight_decay': 0, 'loss': 'mse'}}}\n",
      "\u001b[31m[2025-03-20 00:40:32,408 INFO]\u001b[0mUsing device: cuda\n",
      "\u001b[31m[2025-03-20 00:40:32,417 INFO]\u001b[0mStarting training for 50 epochs...\n",
      "\u001b[31m[2025-03-20 00:40:32,520 INFO]\u001b[0m[Epoch 1/50] Train Loss: 0.209100, Val Loss: 93.919212, RMSE: 9.691193, MAE: 6.976158, Accuracy: 0.8350, R2: 0.5745, Expl.Var: 0.6593\n"
     ]
    },
    {
     "name": "stdout",
     "output_type": "stream",
     "text": [
      "File data/W_est_losloop_pre_len3.npy found. Loading existing adjacency matrix estimated by GSL from training data.\n",
      "GSL computed: GSL for directed cyclic graph\n"
     ]
    },
    {
     "name": "stderr",
     "output_type": "stream",
     "text": [
      "\u001b[31m[2025-03-20 00:40:33,519 INFO]\u001b[0m[Epoch 11/50] Train Loss: 0.008136, Val Loss: 48.400661, RMSE: 6.957058, MAE: 4.294331, Accuracy: 0.8816, R2: 0.7486, Expl.Var: 0.7491\n",
      "\u001b[31m[2025-03-20 00:40:34,480 INFO]\u001b[0m[Epoch 21/50] Train Loss: 0.007143, Val Loss: 41.481819, RMSE: 6.440638, MAE: 3.958943, Accuracy: 0.8904, R2: 0.7845, Expl.Var: 0.7851\n",
      "\u001b[31m[2025-03-20 00:40:35,488 INFO]\u001b[0m[Epoch 31/50] Train Loss: 0.006845, Val Loss: 39.461468, RMSE: 6.281837, MAE: 3.842402, Accuracy: 0.8931, R2: 0.7950, Expl.Var: 0.7954\n",
      "\u001b[31m[2025-03-20 00:40:36,437 INFO]\u001b[0m[Epoch 41/50] Train Loss: 0.006714, Val Loss: 38.600853, RMSE: 6.212958, MAE: 3.798521, Accuracy: 0.8942, R2: 0.7994, Expl.Var: 0.7997\n",
      "\u001b[31m[2025-03-20 00:40:37,268 INFO]\u001b[0m[Epoch 50/50] Train Loss: 0.006640, Val Loss: 38.075871, RMSE: 6.170565, MAE: 3.821164, Accuracy: 0.8950, R2: 0.8021, Expl.Var: 0.8021\n",
      "\u001b[31m[2025-03-20 00:40:37,272 INFO]\u001b[0mModel saved to trained-models/losloop_GCN_seq12_pre3_gsl2.pt\n",
      "\u001b[31m[2025-03-20 00:40:37,273 INFO]\u001b[0mFinished training!\n",
      "\n",
      "\u001b[31m[2025-03-20 00:40:37,283 INFO]\u001b[0mLoaded config from configs/gcn-los-pre_len4.yaml: {'fit': {'trainer': {'max_epochs': 50, 'accelerator': 'cuda', 'devices': 1}, 'data': {'dataset_name': 'losloop', 'batch_size': 64, 'seq_len': 12, 'pre_len': 4}, 'model': {'model': {'class_path': 'models.GCN', 'init_args': {'hidden_dim': 64, 'use_gsl': 0}}, 'learning_rate': 0.001, 'weight_decay': 0, 'loss': 'mse'}}}\n",
      "\u001b[31m[2025-03-20 00:40:37,431 INFO]\u001b[0mUsing device: cuda\n",
      "\u001b[31m[2025-03-20 00:40:37,433 INFO]\u001b[0mStarting training for 50 epochs...\n",
      "\u001b[31m[2025-03-20 00:40:37,551 INFO]\u001b[0m[Epoch 1/50] Train Loss: 0.153071, Val Loss: 136.133774, RMSE: 11.667638, MAE: 7.970165, Accuracy: 0.8014, R2: 0.4152, Expl.Var: 0.5017\n"
     ]
    },
    {
     "name": "stdout",
     "output_type": "stream",
     "text": [
      "GCN\n"
     ]
    },
    {
     "name": "stderr",
     "output_type": "stream",
     "text": [
      "\u001b[31m[2025-03-20 00:40:38,523 INFO]\u001b[0m[Epoch 11/50] Train Loss: 0.015042, Val Loss: 84.832474, RMSE: 9.210455, MAE: 6.367205, Accuracy: 0.8432, R2: 0.5603, Expl.Var: 0.5613\n",
      "\u001b[31m[2025-03-20 00:40:39,485 INFO]\u001b[0m[Epoch 21/50] Train Loss: 0.013745, Val Loss: 75.148460, RMSE: 8.668821, MAE: 6.064391, Accuracy: 0.8524, R2: 0.6102, Expl.Var: 0.6107\n",
      "\u001b[31m[2025-03-20 00:40:40,437 INFO]\u001b[0m[Epoch 31/50] Train Loss: 0.013197, Val Loss: 71.006401, RMSE: 8.426530, MAE: 5.931001, Accuracy: 0.8565, R2: 0.6316, Expl.Var: 0.6320\n",
      "\u001b[31m[2025-03-20 00:40:41,443 INFO]\u001b[0m[Epoch 41/50] Train Loss: 0.012987, Val Loss: 69.393028, RMSE: 8.330248, MAE: 5.884512, Accuracy: 0.8582, R2: 0.6399, Expl.Var: 0.6402\n",
      "\u001b[31m[2025-03-20 00:40:42,280 INFO]\u001b[0m[Epoch 50/50] Train Loss: 0.012871, Val Loss: 68.638596, RMSE: 8.284842, MAE: 5.875875, Accuracy: 0.8589, R2: 0.6437, Expl.Var: 0.6437\n",
      "\u001b[31m[2025-03-20 00:40:42,280 INFO]\u001b[0mModel saved to trained-models/losloop_GCN_seq12_pre4_gsl0.pt\n",
      "\u001b[31m[2025-03-20 00:40:42,280 INFO]\u001b[0mFinished training!\n",
      "\n",
      "\u001b[31m[2025-03-20 00:40:42,294 INFO]\u001b[0mLoaded config from configs/gcn-los-gsl-pre_len4.yaml: {'fit': {'trainer': {'max_epochs': 50, 'accelerator': 'cuda', 'devices': 1}, 'data': {'dataset_name': 'losloop', 'batch_size': 64, 'seq_len': 12, 'pre_len': 4}, 'model': {'model': {'class_path': 'models.GCN', 'init_args': {'hidden_dim': 64, 'use_gsl': 1}}, 'learning_rate': 0.001, 'weight_decay': 0, 'loss': 'mse'}}}\n",
      "\u001b[31m[2025-03-20 00:40:42,437 INFO]\u001b[0mUsing device: cuda\n",
      "\u001b[31m[2025-03-20 00:40:42,442 INFO]\u001b[0mStarting training for 50 epochs...\n",
      "\u001b[31m[2025-03-20 00:40:42,544 INFO]\u001b[0m[Epoch 1/50] Train Loss: 0.154405, Val Loss: 153.181519, RMSE: 12.376652, MAE: 8.609421, Accuracy: 0.7893, R2: 0.3114, Expl.Var: 0.3597\n"
     ]
    },
    {
     "name": "stdout",
     "output_type": "stream",
     "text": [
      "File data/W_est_losloop_pre_len4.npy found. Loading existing adjacency matrix estimated by GSL from training data.\n",
      "GSL computed: GSL\n"
     ]
    },
    {
     "name": "stderr",
     "output_type": "stream",
     "text": [
      "\u001b[31m[2025-03-20 00:40:43,522 INFO]\u001b[0m[Epoch 11/50] Train Loss: 0.016788, Val Loss: 90.705940, RMSE: 9.523967, MAE: 6.345337, Accuracy: 0.8378, R2: 0.5302, Expl.Var: 0.5314\n",
      "\u001b[31m[2025-03-20 00:40:44,460 INFO]\u001b[0m[Epoch 21/50] Train Loss: 0.015725, Val Loss: 85.703957, RMSE: 9.257643, MAE: 6.243046, Accuracy: 0.8424, R2: 0.5568, Expl.Var: 0.5591\n",
      "\u001b[31m[2025-03-20 00:40:45,439 INFO]\u001b[0m[Epoch 31/50] Train Loss: 0.015459, Val Loss: 84.329552, RMSE: 9.183112, MAE: 6.175889, Accuracy: 0.8437, R2: 0.5646, Expl.Var: 0.5678\n",
      "\u001b[31m[2025-03-20 00:40:46,405 INFO]\u001b[0m[Epoch 41/50] Train Loss: 0.015302, Val Loss: 83.550209, RMSE: 9.140580, MAE: 6.116855, Accuracy: 0.8444, R2: 0.5694, Expl.Var: 0.5736\n",
      "\u001b[31m[2025-03-20 00:40:47,243 INFO]\u001b[0m[Epoch 50/50] Train Loss: 0.015176, Val Loss: 82.205345, RMSE: 9.066716, MAE: 6.085160, Accuracy: 0.8456, R2: 0.5754, Expl.Var: 0.5784\n",
      "\u001b[31m[2025-03-20 00:40:47,243 INFO]\u001b[0mModel saved to trained-models/losloop_GCN_seq12_pre4_gsl1.pt\n",
      "\u001b[31m[2025-03-20 00:40:47,243 INFO]\u001b[0mFinished training!\n",
      "\n",
      "\u001b[31m[2025-03-20 00:40:47,260 INFO]\u001b[0mLoaded config from configs/gcn-los-gsl-dcg-pre_len4.yaml: {'fit': {'trainer': {'max_epochs': 50, 'accelerator': 'cuda', 'devices': 1}, 'data': {'dataset_name': 'losloop', 'batch_size': 64, 'seq_len': 12, 'pre_len': 4}, 'model': {'model': {'class_path': 'models.GCN', 'init_args': {'hidden_dim': 64, 'use_gsl': 2}}, 'learning_rate': 0.001, 'weight_decay': 0, 'loss': 'mse'}}}\n",
      "\u001b[31m[2025-03-20 00:40:47,406 INFO]\u001b[0mUsing device: cuda\n",
      "\u001b[31m[2025-03-20 00:40:47,411 INFO]\u001b[0mStarting training for 50 epochs...\n",
      "\u001b[31m[2025-03-20 00:40:47,516 INFO]\u001b[0m[Epoch 1/50] Train Loss: 0.149108, Val Loss: 110.944656, RMSE: 10.533027, MAE: 7.666938, Accuracy: 0.8207, R2: 0.5158, Expl.Var: 0.6135\n"
     ]
    },
    {
     "name": "stdout",
     "output_type": "stream",
     "text": [
      "File data/W_est_losloop_pre_len4.npy found. Loading existing adjacency matrix estimated by GSL from training data.\n",
      "GSL computed: GSL for directed cyclic graph\n"
     ]
    },
    {
     "name": "stderr",
     "output_type": "stream",
     "text": [
      "\u001b[31m[2025-03-20 00:40:48,484 INFO]\u001b[0m[Epoch 11/50] Train Loss: 0.009399, Val Loss: 55.865223, RMSE: 7.474304, MAE: 4.639265, Accuracy: 0.8727, R2: 0.7103, Expl.Var: 0.7111\n",
      "\u001b[31m[2025-03-20 00:40:49,438 INFO]\u001b[0m[Epoch 21/50] Train Loss: 0.008466, Val Loss: 49.008831, RMSE: 7.000631, MAE: 4.300982, Accuracy: 0.8808, R2: 0.7458, Expl.Var: 0.7464\n",
      "\u001b[31m[2025-03-20 00:40:50,371 INFO]\u001b[0m[Epoch 31/50] Train Loss: 0.008173, Val Loss: 46.924541, RMSE: 6.850149, MAE: 4.162792, Accuracy: 0.8834, R2: 0.7566, Expl.Var: 0.7573\n",
      "\u001b[31m[2025-03-20 00:40:51,324 INFO]\u001b[0m[Epoch 41/50] Train Loss: 0.008044, Val Loss: 46.074856, RMSE: 6.787846, MAE: 4.106087, Accuracy: 0.8844, R2: 0.7611, Expl.Var: 0.7619\n",
      "\u001b[31m[2025-03-20 00:40:52,202 INFO]\u001b[0m[Epoch 50/50] Train Loss: 0.007967, Val Loss: 45.491634, RMSE: 6.744749, MAE: 4.096690, Accuracy: 0.8852, R2: 0.7640, Expl.Var: 0.7644\n",
      "\u001b[31m[2025-03-20 00:40:52,204 INFO]\u001b[0mModel saved to trained-models/losloop_GCN_seq12_pre4_gsl2.pt\n",
      "\u001b[31m[2025-03-20 00:40:52,204 INFO]\u001b[0mFinished training!\n",
      "\n"
     ]
    },
    {
     "name": "stdout",
     "output_type": "stream",
     "text": [
      "CPU times: total: 2min 23s\n",
      "Wall time: 2min 26s\n"
     ]
    }
   ],
   "source": [
    "%%time\n",
    "\n",
    "datasets = ['sz', 'los'] #  sz=shenzhen, los=losloop\n",
    "pred_list = [1, 2, 3, 4]\n",
    "\n",
    "for  dataset in datasets:\n",
    "    for pre_len in pred_list:\n",
    "        %run main.py --config configs/gcn-{dataset}-pre_len{pre_len}.yaml\n",
    "        %run main.py --config configs/gcn-{dataset}-gsl-pre_len{pre_len}.yaml\n",
    "        %run main.py --config configs/gcn-{dataset}-gsl-dcg-pre_len{pre_len}.yaml"
   ]
  },
  {
   "cell_type": "code",
   "execution_count": 1,
   "metadata": {
    "colab": {
     "base_uri": "https://localhost:8080/",
     "height": 17
    },
    "id": "iQTnpyBEojA_",
    "outputId": "aeae8ede-84bd-4bc7-ebcc-ca0fdc8a5f08"
   },
   "outputs": [],
   "source": [
    "import pandas as pd\n",
    "import matplotlib.pyplot as plt\n",
    "import os\n",
    "import shutil\n",
    "\n",
    "# Set global font size to 3x the default size\n",
    "plt.rcParams.update({'font.size': 30})  # Default is usually around 10, so 30 is 3x\n",
    "\n",
    "model_cls_name = 'GCN'\n",
    "# Define the prediction lengths and measures\n",
    "pred_list = [1, 2, 3, 4]\n",
    "measures = [\"RMSE\", \"MAE\", \"Accuracy\", \"R2\"]\n",
    "datasets = ['shenzhen', 'losloop']\n",
    "\n",
    "# Define a color palette for each method\n",
    "colors = plt.cm.tab10.colors  # Using a predefined color palette (10 distinct colors)\n",
    "method_colors = {\n",
    "    \"GCN\": colors[0],           # GCN (Default)\n",
    "    \"GCN-GSL\": colors[1],  # GCN (GSL Only)\n",
    "    \"GCN-cGSL\": colors[2], # GCN-cGSL\n",
    "}\n",
    "\n",
    "# Define line styles for each method\n",
    "line_styles = {\n",
    "    \"GCN\": \"--\",                # Dashed for GCN (Default)\n",
    "    \"GCN-GSL\": \"-\",       # Solid for GCN (GSL Only)\n",
    "    \"GCN-cGSL\": \":\",      # Dotted for GCN-cGSL\n",
    "}\n",
    "\n",
    "# Define markers for each method\n",
    "markers = {\n",
    "    \"GCN\": \"o\",                 # Circle for GCN (Default)\n",
    "    \"GCN-GSL\": \"s\",       # Square for GCN (GSL Only)\n",
    "    \"GCN-cGSL\": \"D\",      # Diamond for GCN-cGSL\n",
    "}\n",
    "\n",
    "# Ensure the results directory exists\n",
    "os.makedirs(\"results\", exist_ok=True)\n",
    "\n",
    "# Loop through each dataset\n",
    "for dataset in datasets:\n",
    "    # Loop through each measure\n",
    "    for measure in measures:\n",
    "        # Loop through each pre_len in pred_list\n",
    "        for pre_len in pred_list:\n",
    "            # Create a new figure for each pre_len and measure\n",
    "            plt.figure(figsize=(18, 14))  # Increased figure size for larger text\n",
    "\n",
    "            # Load the metrics for GCN (Default) for comparison\n",
    "            metrics_file_GCN = f\"results/{model_cls_name}/metrics_{dataset}_seq12_pre{pre_len}_gsl0.csv\"\n",
    "            metrics_df_GCN = pd.read_csv(metrics_file_GCN)\n",
    "\n",
    "            # Loop through each method\n",
    "            for method, color in method_colors.items():\n",
    "                # Map method names to their corresponding file suffixes\n",
    "                if method == \"GCN\":\n",
    "                    file_suffix = \"gsl0\"\n",
    "                elif method == \"GCN-GSL\":\n",
    "                    file_suffix = \"gsl1\"\n",
    "                elif method == \"GCN-cGSL\":\n",
    "                    file_suffix = \"gsl2\"\n",
    "\n",
    "                # Generate the file path dynamically based on pre_len and method\n",
    "                metrics_file = f\"results/{model_cls_name}/metrics_{dataset}_seq12_pre{pre_len}_{file_suffix}.csv\"\n",
    "\n",
    "                # Load the metrics CSV file\n",
    "                metrics_df = pd.read_csv(metrics_file)\n",
    "\n",
    "                # Plot the current measure for the current method\n",
    "                plt.plot(\n",
    "                    metrics_df[\"Epoch\"],\n",
    "                    metrics_df[measure],\n",
    "                    linestyle=line_styles[method],\n",
    "                    marker=markers[method],\n",
    "                    color=color,\n",
    "                    label=f\"{method}\", # (pre_len={pre_len})\n",
    "                    linewidth=4.5,      # Increased line width (3x)\n",
    "                    markersize=15       # Increased marker size (3x)\n",
    "                )\n",
    "\n",
    "                # Highlight the first epoch where the current method is better than GCN (Default)\n",
    "                if method != \"GCN\":  # Skip comparison for GCN (Default)\n",
    "                    better_epoch = None\n",
    "                    for epoch in range(len(metrics_df)):\n",
    "                        GCN_value = metrics_df_GCN.loc[epoch, measure]\n",
    "                        current_value = metrics_df.loc[epoch, measure]\n",
    "\n",
    "                        # Check if the current method is better than GCN (Default)\n",
    "                        if measure in [\"RMSE\", \"MAE\"]:\n",
    "                            if current_value < GCN_value:  # Lower is better\n",
    "                                better_epoch = epoch + 1  # Epochs are 1-indexed\n",
    "                                break\n",
    "                        else:\n",
    "                            if current_value > GCN_value:  # Higher is better\n",
    "                                better_epoch = epoch + 1\n",
    "                                break\n",
    "\n",
    "                    # Highlight the first epoch where the current method is better\n",
    "                    if better_epoch is not None:\n",
    "                        plt.axvline(\n",
    "                            x=better_epoch,\n",
    "                            color=color,\n",
    "                            linestyle=\":\",\n",
    "                            alpha=0.5,\n",
    "                            linewidth=3,  # Increased line width for vertical line (3x)\n",
    "                            # label=f\"{method} better at epoch {better_epoch}\", # (pre_len={pre_len})\n",
    "                        )\n",
    "\n",
    "            # Add labels, title, legend, and grid with 3x larger font sizes\n",
    "            plt.xlabel(\"Epoch\", fontsize=36)\n",
    "            plt.ylabel(measure, fontsize=36)\n",
    "            plt.title(f\"{measure} over Epochs for {dataset} (pre_len={pre_len})\", fontsize=38)\n",
    "            plt.legend(fontsize=32, loc='best')  # Increased legend font size\n",
    "            # plt.grid(True)\n",
    "            \n",
    "            # Increase tick label font sizes\n",
    "            plt.xticks(fontsize=30)\n",
    "            plt.yticks(fontsize=30)\n",
    "            \n",
    "            # Adjust plot margins for better spacing with larger text\n",
    "            plt.tight_layout()\n",
    "\n",
    "            # Save the figure as a PDF file\n",
    "            filename = f\"results/{model_cls_name}/{dataset}_{measure}_pre{pre_len}.pdf\"\n",
    "            plt.savefig(filename, bbox_inches=\"tight\", format='pdf')\n",
    "            plt.close()  # Close the figure to free up memory"
   ]
  },
  {
   "cell_type": "code",
   "execution_count": 2,
   "metadata": {
    "colab": {
     "base_uri": "https://localhost:8080/"
    },
    "id": "lxMdlaWD4VxS",
    "outputId": "7fcdfc00-28e9-4c3c-9e9b-13c419efbd88"
   },
   "outputs": [
    {
     "name": "stdout",
     "output_type": "stream",
     "text": [
      "LaTeX table for shenzhen:\n",
      "\\begin{tabular}{clcccc}\n",
      "\\toprule\n",
      " PH &   Method &                    RMSE &                     MAE &                Accuracy &                      R2 \\\\\n",
      "\\midrule\n",
      "1.0 &      GCN &                   5.958 &                   4.409 &                   0.585 &                   0.675 \\\\\n",
      "1.0 &  GCN-GSL &                   4.886 &                   3.161 &                   0.660 &                   0.782 \\\\\n",
      "1.0 & GCN-cGSL &          \\textbf{4.648} &          \\textbf{3.078} &          \\textbf{0.676} &          \\textbf{0.802} \\\\\n",
      "2.0 &      GCN &                   5.983 &                   4.437 &                   0.583 &                   0.672 \\\\\n",
      "2.0 &  GCN-GSL &                   4.904 &                   3.173 &                   0.658 &                   0.780 \\\\\n",
      "2.0 & GCN-cGSL &          \\textbf{4.672} &          \\textbf{3.051} &          \\textbf{0.674} &          \\textbf{0.800} \\\\\n",
      "3.0 &      GCN &                   5.991 &                   4.438 &                   0.582 &                   0.671 \\\\\n",
      "3.0 &  GCN-GSL &                   4.958 &                   3.223 &                   0.655 &                   0.775 \\\\\n",
      "3.0 & GCN-cGSL &          \\textbf{4.712} &          \\textbf{3.122} &          \\textbf{0.672} &          \\textbf{0.797} \\\\\n",
      "4.0 &      GCN &                   6.002 &                   4.450 &                   0.582 &                   0.670 \\\\\n",
      "4.0 &  GCN-GSL &                   4.933 &                   3.199 &                   0.656 &                   0.777 \\\\\n",
      "4.0 & GCN-cGSL &          \\textbf{4.726} &          \\textbf{3.107} &          \\textbf{0.671} &          \\textbf{0.795} \\\\\n",
      "NaN &      NaN &                    21.6 &                    30.3 &                    15.5 &                    18.8 \\\\\n",
      "NaN &      NaN &                         &                         &                         &                         \\\\\n",
      "NaN &      NaN & Average Improvement (%) & Average Improvement (%) & Average Improvement (%) & Average Improvement (%) \\\\\n",
      "\\bottomrule\n",
      "\\end{tabular}\n",
      "\n",
      "LaTeX table for losloop:\n",
      "\\begin{tabular}{clcccc}\n",
      "\\toprule\n",
      " PH &   Method &                    RMSE &                     MAE &                Accuracy &                      R2 \\\\\n",
      "\\midrule\n",
      "1.0 &      GCN &                   7.724 &                   5.555 &                   0.869 &                   0.689 \\\\\n",
      "1.0 &  GCN-GSL &                   7.527 &                   5.065 &                   0.872 &                   0.705 \\\\\n",
      "1.0 & GCN-cGSL &          \\textbf{5.440} &          \\textbf{3.452} &          \\textbf{0.907} &          \\textbf{0.846} \\\\\n",
      "2.0 &      GCN &                   7.940 &                   5.692 &                   0.865 &                   0.672 \\\\\n",
      "2.0 &  GCN-GSL &                   7.867 &                   5.268 &                   0.866 &                   0.678 \\\\\n",
      "2.0 & GCN-cGSL &          \\textbf{5.806} &          \\textbf{3.613} &          \\textbf{0.901} &          \\textbf{0.825} \\\\\n",
      "3.0 &      GCN &                   8.102 &                   5.782 &                   0.862 &                   0.659 \\\\\n",
      "3.0 &  GCN-GSL &                   8.073 &                   5.453 &                   0.863 &                   0.662 \\\\\n",
      "3.0 & GCN-cGSL &          \\textbf{6.171} &          \\textbf{3.821} &          \\textbf{0.895} &          \\textbf{0.802} \\\\\n",
      "4.0 &      GCN &                   8.285 &                   5.876 &                   0.859 &                   0.644 \\\\\n",
      "4.0 &  GCN-GSL &                   9.067 &                   6.085 &                   0.846 &                   0.575 \\\\\n",
      "4.0 & GCN-cGSL &          \\textbf{6.745} &          \\textbf{4.097} &          \\textbf{0.885} &          \\textbf{0.764} \\\\\n",
      "NaN &      NaN &                    24.7 &                    34.6 &                     3.9 &                    21.5 \\\\\n",
      "NaN &      NaN &                         &                         &                         &                         \\\\\n",
      "NaN &      NaN & Average Improvement (%) & Average Improvement (%) & Average Improvement (%) & Average Improvement (%) \\\\\n",
      "\\bottomrule\n",
      "\\end{tabular}\n",
      "\n"
     ]
    }
   ],
   "source": [
    "import pandas as pd\n",
    "import os\n",
    "\n",
    "model_cls_name = 'GCN'\n",
    "# Define the prediction lengths and measures\n",
    "pred_list = [1, 2, 3, 4]\n",
    "measures = [\"RMSE\", \"MAE\", \"Accuracy\", \"R2\"]\n",
    "datasets = ['shenzhen', 'losloop']\n",
    "\n",
    "# Ensure the results directory exists\n",
    "os.makedirs(\"results\", exist_ok=True)\n",
    "\n",
    "# Loop through each dataset\n",
    "for dataset in datasets:\n",
    "    # Initialize a dictionary to store the results of the last epoch\n",
    "    results = {}\n",
    "\n",
    "    # Loop through each pre_len and measure to collect the last epoch results\n",
    "    for pre_len in pred_list:\n",
    "        # Generate the file paths dynamically based on pre_len and method\n",
    "        metrics_file_gsl0 = f\"results/{model_cls_name}/metrics_{dataset}_seq12_pre{pre_len}_gsl0.csv\"\n",
    "        metrics_file_gsl1 = f\"results/{model_cls_name}/metrics_{dataset}_seq12_pre{pre_len}_gsl1.csv\"\n",
    "        metrics_file_gsl2 = f\"results/{model_cls_name}/metrics_{dataset}_seq12_pre{pre_len}_gsl2.csv\"\n",
    "\n",
    "        # Load the metrics CSV files\n",
    "        metrics_df_gsl0 = pd.read_csv(metrics_file_gsl0)\n",
    "        metrics_df_gsl1 = pd.read_csv(metrics_file_gsl1)\n",
    "        metrics_df_gsl2 = pd.read_csv(metrics_file_gsl2)\n",
    "\n",
    "        # Get the last epoch results for all methods\n",
    "        last_epoch_gsl0 = metrics_df_gsl0.iloc[-1]  # Last row for gsl0 (GCN)\n",
    "        last_epoch_gsl1 = metrics_df_gsl1.iloc[-1]  # Last row for gsl1 (GCN GSL Only)\n",
    "        last_epoch_gsl2 = metrics_df_gsl2.iloc[-1]  # Last row for gsl2 (GCN GSL + Adj)\n",
    "\n",
    "        # Store the results in the dictionary with pre_len as part of the key\n",
    "        results[f\"GCN (pre_len={pre_len})\"] = last_epoch_gsl0[measures]\n",
    "        results[f\"GCN-GSL (pre_len={pre_len})\"] = last_epoch_gsl1[measures]\n",
    "        results[f\"GCN-cGSL (pre_len={pre_len})\"] = last_epoch_gsl2[measures]\n",
    "\n",
    "    # Convert the results dictionary to a DataFrame\n",
    "    results_df = pd.DataFrame(results).T\n",
    "\n",
    "    # Add a column for pre_len to results_df\n",
    "    results_df[\"PH\"] = [pre_len for pre_len in pred_list for _ in range(3)]\n",
    "\n",
    "    # Function to highlight the winner for each pre_len and measure\n",
    "    def highlight_winner(df):\n",
    "        highlighted_df = df.copy()\n",
    "        for pre_len in pred_list:\n",
    "            for measure in measures:\n",
    "                # Get the values for the three methods for the current pre_len\n",
    "                GCN_value = df.loc[f\"GCN (pre_len={pre_len})\", measure]\n",
    "                gsl_only_value = df.loc[f\"GCN-GSL (pre_len={pre_len})\", measure]\n",
    "                gsl_dcg_value = df.loc[f\"GCN-cGSL (pre_len={pre_len})\", measure]\n",
    "\n",
    "                # Determine the winner based on the measure\n",
    "                if measure in [\"RMSE\", \"MAE\"]:\n",
    "                    winner_value = min(GCN_value, gsl_only_value, gsl_dcg_value)  # Lower is better\n",
    "                else:\n",
    "                    winner_value = max(GCN_value, gsl_only_value, gsl_dcg_value)  # Higher is better\n",
    "\n",
    "                # Highlight the winner and round the values to 2 decimal places\n",
    "                if GCN_value == winner_value:\n",
    "                    highlighted_df.loc[f\"GCN (pre_len={pre_len})\", measure] = f\"\\\\textbf{{{GCN_value:.3f}}}\"\n",
    "                else:\n",
    "                    highlighted_df.loc[f\"GCN (pre_len={pre_len})\", measure] = f\"{GCN_value:.3f}\"\n",
    "\n",
    "                if gsl_only_value == winner_value:\n",
    "                    highlighted_df.loc[f\"GCN-GSL (pre_len={pre_len})\", measure] = f\"\\\\textbf{{{gsl_only_value:.3f}}}\"\n",
    "                else:\n",
    "                    highlighted_df.loc[f\"GCN-GSL (pre_len={pre_len})\", measure] = f\"{gsl_only_value:.3f}\"\n",
    "\n",
    "                if gsl_dcg_value == winner_value:\n",
    "                    highlighted_df.loc[f\"GCN-cGSL (pre_len={pre_len})\", measure] = f\"\\\\textbf{{{gsl_dcg_value:.3f}}}\"\n",
    "                else:\n",
    "                    highlighted_df.loc[f\"GCN-cGSL (pre_len={pre_len})\", measure] = f\"{gsl_dcg_value:.3f}\"\n",
    "        return highlighted_df\n",
    "\n",
    "    # Apply the highlight function to the results DataFrame\n",
    "    highlighted_results = highlight_winner(results_df)\n",
    "\n",
    "    # Remove (pre_len={pre_len}) from method names\n",
    "    highlighted_results.index = highlighted_results.index.str.replace(r\" \\(pre_len=\\d+\\)\", \"\", regex=True)\n",
    "\n",
    "    # Add a column for method names\n",
    "    highlighted_results.insert(0, \"Method\", highlighted_results.index)\n",
    "\n",
    "    # Reorder columns to make PH the first column and method-name the second column\n",
    "    highlighted_results = highlighted_results[[\"PH\", \"Method\"] + measures]\n",
    "\n",
    "    # Calculate the average improvements of 'GCN (GSL Only)' with respect to 'GCN' for pre_len in [1, 2, 3]\n",
    "    improvements = {}\n",
    "    for measure in measures:\n",
    "        if measure in [\"RMSE\", \"MAE\"]:\n",
    "            improvements[measure] = ((results_df.loc[results_df.index.str.contains(\"GCN \\(pre_len\") & results_df[\"PH\"].isin([1, 2, 3, 4]), measure].values - \n",
    "                                      results_df.loc[results_df.index.str.contains(\"GCN-cGSL\") & results_df[\"PH\"].isin([1, 2, 3, 4]), measure].values) / \n",
    "                                      results_df.loc[results_df.index.str.contains(\"GCN \\(pre_len\") & results_df[\"PH\"].isin([1, 2, 3, 4]), measure].values * 100).mean()\n",
    "        else:\n",
    "            improvements[measure] = ((results_df.loc[results_df.index.str.contains(\"GCN-cGSL\") & results_df[\"PH\"].isin([1, 2, 3, 4]), measure].values - \n",
    "                                      results_df.loc[results_df.index.str.contains(\"GCN \\(pre_len\") & results_df[\"PH\"].isin([1, 2, 3, 4]), measure].values) / \n",
    "                                      results_df.loc[results_df.index.str.contains(\"GCN \\(pre_len\") & results_df[\"PH\"].isin([1, 2, 3, 4]), measure].values * 100).mean()\n",
    "\n",
    "    # Add the improvements row to the DataFrame\n",
    "    improvements_row = pd.DataFrame(improvements, index=[\"Average Improvement (%)\"]).T\n",
    "    improvements_row = improvements_row.round(1)\n",
    "    improvements_row[\"PH\"] = \"\"\n",
    "    improvements_row[\"Method\"] = \"Average Improvement (%)\"\n",
    "    highlighted_results = pd.concat([highlighted_results, improvements_row.T], ignore_index=True)\n",
    "\n",
    "    # Generate the LaTeX table\n",
    "    latex_table = highlighted_results.to_latex(\n",
    "        escape=False,\n",
    "        column_format=\"cl\" + \"c\" * len(measures),  # Updated column format\n",
    "        multicolumn_format=\"c\",\n",
    "        index=False  # Do not include the index in the LaTeX table\n",
    "    )\n",
    "\n",
    "    # Save the LaTeX table to a file\n",
    "    table_filename = f\"results/{model_cls_name}/{dataset}_results_table.tex\"\n",
    "    with open(table_filename, \"w\") as f:\n",
    "        f.write(latex_table)\n",
    "\n",
    "    # Print the LaTeX table\n",
    "    print(f\"LaTeX table for {dataset}:\")\n",
    "    print(latex_table)"
   ]
  },
  {
   "cell_type": "code",
   "execution_count": 5,
   "metadata": {},
   "outputs": [
    {
     "data": {
      "text/plain": [
       "{'RMSE': 24.719024247159904,\n",
       " 'MAE': 34.640158589582896,\n",
       " 'Accuracy': 3.885738184924501,\n",
       " 'R2': 21.47571739369517}"
      ]
     },
     "execution_count": 5,
     "metadata": {},
     "output_type": "execute_result"
    }
   ],
   "source": [
    "improvements"
   ]
  },
  {
   "cell_type": "code",
   "execution_count": 2,
   "metadata": {},
   "outputs": [
    {
     "name": "stdout",
     "output_type": "stream",
     "text": [
      "LaTeX table for shenzhen:\n",
      "\n",
      "\\begin{table}[htbp]\n",
      "\\centering\n",
      "\\caption{Results for shenzhen: RMSE, MAE, Accuracy, and R2 for pre\\_len=1, 2, 3, 4.}\n",
      "\\begin{tabular}{|c|cccc|}\n",
      "\\hline\n",
      "pre\\_len & RMSE & MAE & Accuracy & R2 \\\\\n",
      "\\hline\n",
      "1 & \\includegraphics[width=0.2\\textwidth]{shenzhen_RMSE_pre1.pdf} & \\includegraphics[width=0.2\\textwidth]{shenzhen_MAE_pre1.pdf} & \\includegraphics[width=0.2\\textwidth]{shenzhen_Accuracy_pre1.pdf} & \\includegraphics[width=0.2\\textwidth]{shenzhen_R2_pre1.pdf} \\\\ \\hline\n",
      "2 & \\includegraphics[width=0.2\\textwidth]{shenzhen_RMSE_pre2.pdf} & \\includegraphics[width=0.2\\textwidth]{shenzhen_MAE_pre2.pdf} & \\includegraphics[width=0.2\\textwidth]{shenzhen_Accuracy_pre2.pdf} & \\includegraphics[width=0.2\\textwidth]{shenzhen_R2_pre2.pdf} \\\\ \\hline\n",
      "3 & \\includegraphics[width=0.2\\textwidth]{shenzhen_RMSE_pre3.pdf} & \\includegraphics[width=0.2\\textwidth]{shenzhen_MAE_pre3.pdf} & \\includegraphics[width=0.2\\textwidth]{shenzhen_Accuracy_pre3.pdf} & \\includegraphics[width=0.2\\textwidth]{shenzhen_R2_pre3.pdf} \\\\ \\hline\n",
      "4 & \\includegraphics[width=0.2\\textwidth]{shenzhen_RMSE_pre4.pdf} & \\includegraphics[width=0.2\\textwidth]{shenzhen_MAE_pre4.pdf} & \\includegraphics[width=0.2\\textwidth]{shenzhen_Accuracy_pre4.pdf} & \\includegraphics[width=0.2\\textwidth]{shenzhen_R2_pre4.pdf} \\\\ \\hline\n",
      "\n",
      "\\end{tabular}\n",
      "\\end{table}\n",
      "\n",
      "LaTeX table for losloop:\n",
      "\n",
      "\\begin{table}[htbp]\n",
      "\\centering\n",
      "\\caption{Results for losloop: RMSE, MAE, Accuracy, and R2 for pre\\_len=1, 2, 3, 4.}\n",
      "\\begin{tabular}{|c|cccc|}\n",
      "\\hline\n",
      "pre\\_len & RMSE & MAE & Accuracy & R2 \\\\\n",
      "\\hline\n",
      "1 & \\includegraphics[width=0.2\\textwidth]{losloop_RMSE_pre1.pdf} & \\includegraphics[width=0.2\\textwidth]{losloop_MAE_pre1.pdf} & \\includegraphics[width=0.2\\textwidth]{losloop_Accuracy_pre1.pdf} & \\includegraphics[width=0.2\\textwidth]{losloop_R2_pre1.pdf} \\\\ \\hline\n",
      "2 & \\includegraphics[width=0.2\\textwidth]{losloop_RMSE_pre2.pdf} & \\includegraphics[width=0.2\\textwidth]{losloop_MAE_pre2.pdf} & \\includegraphics[width=0.2\\textwidth]{losloop_Accuracy_pre2.pdf} & \\includegraphics[width=0.2\\textwidth]{losloop_R2_pre2.pdf} \\\\ \\hline\n",
      "3 & \\includegraphics[width=0.2\\textwidth]{losloop_RMSE_pre3.pdf} & \\includegraphics[width=0.2\\textwidth]{losloop_MAE_pre3.pdf} & \\includegraphics[width=0.2\\textwidth]{losloop_Accuracy_pre3.pdf} & \\includegraphics[width=0.2\\textwidth]{losloop_R2_pre3.pdf} \\\\ \\hline\n",
      "4 & \\includegraphics[width=0.2\\textwidth]{losloop_RMSE_pre4.pdf} & \\includegraphics[width=0.2\\textwidth]{losloop_MAE_pre4.pdf} & \\includegraphics[width=0.2\\textwidth]{losloop_Accuracy_pre4.pdf} & \\includegraphics[width=0.2\\textwidth]{losloop_R2_pre4.pdf} \\\\ \\hline\n",
      "\n",
      "\\end{tabular}\n",
      "\\end{table}\n",
      "\n"
     ]
    }
   ],
   "source": [
    "import os\n",
    "\n",
    "# Define the prediction lengths and measures\n",
    "pred_list = [1, 2, 3, 4]\n",
    "measures = [\"RMSE\", \"MAE\", \"Accuracy\", \"R2\"]\n",
    "datasets = [ 'shenzhen', 'losloop']\n",
    "\n",
    "# Ensure the results directory exists\n",
    "os.makedirs(\"results\", exist_ok=True)\n",
    "\n",
    "# Function to generate LaTeX table for a dataset\n",
    "def generate_latex_table(dataset):\n",
    "    latex_code = f\"\"\"\n",
    "\\\\begin{{table}}[htbp]\n",
    "\\\\centering\n",
    "\\\\caption{{Results for {dataset}: RMSE, MAE, Accuracy, and R2 for pre\\\\_len=1, 2, 3, 4.}}\n",
    "\\\\begin{{tabular}}{{|c|{'c' * len(measures)}|}}\n",
    "\\\\hline\n",
    "pre\\\\_len & {' & '.join(measures)} \\\\\\\\\n",
    "\\\\hline\n",
    "\"\"\"\n",
    "\n",
    "    for pre_len in pred_list:\n",
    "        row = f\"{pre_len} \"\n",
    "        for measure in measures:\n",
    "            image_path = f\"{dataset}_{measure}_pre{pre_len}.pdf\"\n",
    "            row += f\"& \\\\includegraphics[width=0.2\\\\textwidth]{{{image_path}}} \"\n",
    "        row += \"\\\\\\\\ \\\\hline\"\n",
    "        latex_code += row + \"\\n\"\n",
    "\n",
    "    latex_code += \"\"\"\n",
    "\\\\end{tabular}\n",
    "\\\\end{table}\n",
    "\"\"\"\n",
    "    return latex_code\n",
    "\n",
    "# Generate LaTeX tables for each dataset\n",
    "for dataset in datasets:\n",
    "    latex_table = generate_latex_table(dataset)\n",
    "    print(f\"LaTeX table for {dataset}:\")\n",
    "    print(latex_table)\n",
    "\n",
    "    # Save the LaTeX table to a file\n",
    "    table_filename = f\"results/{model_cls_name}_{dataset}_images_table.tex\"\n",
    "    with open(table_filename, \"w\") as f:\n",
    "        f.write(latex_table)"
   ]
  },
  {
   "cell_type": "code",
   "execution_count": 6,
   "metadata": {
    "colab": {
     "base_uri": "https://localhost:8080/",
     "height": 17
    },
    "id": "Lb1UHp-O4jfu",
    "outputId": "cf05957d-5e2d-4f94-afe4-828ccbc0622b"
   },
   "outputs": [],
   "source": [
    "if 'google.colab' in str(get_ipython()): \n",
    "    from google.colab import files\n",
    "    # Zip the results folder\n",
    "    shutil.make_archive('results', 'zip', 'results')\n",
    "    # Download the zipped file\n",
    "    files.download('results.zip')"
   ]
  }
 ],
 "metadata": {
  "accelerator": "GPU",
  "colab": {
   "gpuType": "T4",
   "provenance": []
  },
  "kernelspec": {
   "display_name": "pth",
   "language": "python",
   "name": "python3"
  },
  "language_info": {
   "codemirror_mode": {
    "name": "ipython",
    "version": 3
   },
   "file_extension": ".py",
   "mimetype": "text/x-python",
   "name": "python",
   "nbconvert_exporter": "python",
   "pygments_lexer": "ipython3",
   "version": "3.10.14"
  }
 },
 "nbformat": 4,
 "nbformat_minor": 0
}
