{
 "cells": [
  {
   "cell_type": "markdown",
   "metadata": {},
   "source": [
    "# T-GCN GSL\n",
    "\n",
    "**Graph Structure Learning for Traffic Prediction**\n",
    "\n",
    "This repository provides the implementation of the paper \"Graph Structure Learning for Traffic Prediction\" by Mahmood Amintoosi."
   ]
  },
  {
   "cell_type": "code",
   "execution_count": null,
   "metadata": {
    "colab": {
     "base_uri": "https://localhost:8080/"
    },
    "id": "ZWIcZmtofQw2",
    "outputId": "8992961e-05ca-4819-e605-09841d7daf40"
   },
   "outputs": [],
   "source": [
    "import os\n",
    "if 'google.colab' in str(get_ipython()) and not os.path.exists('/content/TGCN-GSL-PyTorch'):\n",
    "    !git clone https://github.com/mamintoosi/TGCN-GSL-PyTorch.git\n",
    "    !pip install -q torchmetrics\n",
    "    %cd TGCN-GSL-PyTorch"
   ]
  },
  {
   "cell_type": "code",
   "execution_count": 2,
   "metadata": {
    "colab": {
     "base_uri": "https://localhost:8080/"
    },
    "id": "Y0gaYNigojA_",
    "outputId": "05ca2edd-22ea-4820-8fa1-757470fbc503"
   },
   "outputs": [
    {
     "name": "stderr",
     "output_type": "stream",
     "text": [
      "\u001b[31m[2025-03-20 00:58:43,849 INFO]\u001b[0mLoaded config from configs/tgcn-sz-pre_len1.yaml: {'fit': {'trainer': {'max_epochs': 50, 'accelerator': 'cuda', 'devices': 1}, 'data': {'dataset_name': 'shenzhen', 'batch_size': 64, 'seq_len': 12, 'pre_len': 1}, 'model': {'model': {'class_path': 'models.TGCN', 'init_args': {'hidden_dim': 100, 'use_gsl': 0}}, 'learning_rate': 0.001, 'weight_decay': 0, 'loss': 'mse_with_regularizer'}}}\n",
      "\u001b[31m[2025-03-20 00:58:44,043 INFO]\u001b[0mUsing device: cuda\n",
      "\u001b[31m[2025-03-20 00:58:44,049 INFO]\u001b[0mStarting training for 50 epochs...\n"
     ]
    },
    {
     "name": "stdout",
     "output_type": "stream",
     "text": [
      "TGCN\n"
     ]
    },
    {
     "name": "stderr",
     "output_type": "stream",
     "text": [
      "\u001b[31m[2025-03-20 00:58:45,830 INFO]\u001b[0m[Epoch 1/50] Train Loss: 109.665068, Val Loss: 1853920.250000, RMSE: 6.385045, MAE: 5.018596, Accuracy: 0.5551, R2: 0.6289, Expl.Var: 0.6332\n",
      "\u001b[31m[2025-03-20 00:59:01,367 INFO]\u001b[0m[Epoch 11/50] Train Loss: 36.290581, Val Loss: 1486394.125000, RMSE: 5.717226, MAE: 4.225228, Accuracy: 0.6016, R2: 0.7005, Expl.Var: 0.7007\n",
      "\u001b[31m[2025-03-20 00:59:16,307 INFO]\u001b[0m[Epoch 21/50] Train Loss: 35.463298, Val Loss: 1449891.750000, RMSE: 5.646589, MAE: 4.167087, Accuracy: 0.6066, R2: 0.7079, Expl.Var: 0.7082\n",
      "\u001b[31m[2025-03-20 00:59:31,229 INFO]\u001b[0m[Epoch 31/50] Train Loss: 34.118202, Val Loss: 1378880.250000, RMSE: 5.506576, MAE: 4.082464, Accuracy: 0.6163, R2: 0.7222, Expl.Var: 0.7226\n",
      "\u001b[31m[2025-03-20 00:59:46,694 INFO]\u001b[0m[Epoch 41/50] Train Loss: 31.722393, Val Loss: 1255893.625000, RMSE: 5.255267, MAE: 3.927185, Accuracy: 0.6338, R2: 0.7471, Expl.Var: 0.7476\n",
      "\u001b[31m[2025-03-20 01:00:00,277 INFO]\u001b[0m[Epoch 50/50] Train Loss: 28.078746, Val Loss: 1076578.625000, RMSE: 4.865654, MAE: 3.606040, Accuracy: 0.6610, R2: 0.7833, Expl.Var: 0.7844\n",
      "\u001b[31m[2025-03-20 01:00:00,280 INFO]\u001b[0mModel saved to trained-models/shenzhen_TGCN_seq12_pre1_gsl0.pt\n",
      "\u001b[31m[2025-03-20 01:00:00,280 INFO]\u001b[0mFinished training!\n",
      "\n",
      "\u001b[31m[2025-03-20 01:00:00,294 INFO]\u001b[0mLoaded config from configs/tgcn-sz-gsl-pre_len1.yaml: {'fit': {'trainer': {'max_epochs': 50, 'accelerator': 'cuda', 'devices': 1}, 'data': {'dataset_name': 'shenzhen', 'batch_size': 64, 'seq_len': 12, 'pre_len': 1}, 'model': {'model': {'class_path': 'models.TGCN', 'init_args': {'hidden_dim': 100, 'use_gsl': 1}}, 'learning_rate': 0.001, 'weight_decay': 0, 'loss': 'mse_with_regularizer'}}}\n",
      "\u001b[31m[2025-03-20 01:00:00,455 INFO]\u001b[0mUsing device: cuda\n",
      "\u001b[31m[2025-03-20 01:00:00,463 INFO]\u001b[0mStarting training for 50 epochs...\n"
     ]
    },
    {
     "name": "stdout",
     "output_type": "stream",
     "text": [
      "File data/W_est_shenzhen_pre_len1.npy found. Loading existing adjacency matrix estimated by GSL from training data.\n",
      "GSL computed: Only GSL\n"
     ]
    },
    {
     "name": "stderr",
     "output_type": "stream",
     "text": [
      "\u001b[31m[2025-03-20 01:00:01,971 INFO]\u001b[0m[Epoch 1/50] Train Loss: 106.010025, Val Loss: 1661661.625000, RMSE: 6.044908, MAE: 4.151527, Accuracy: 0.5788, R2: 0.6655, Expl.Var: 0.6662\n",
      "\u001b[31m[2025-03-20 01:00:16,740 INFO]\u001b[0m[Epoch 11/50] Train Loss: 24.213444, Val Loss: 852859.312500, RMSE: 4.330689, MAE: 2.924896, Accuracy: 0.6982, R2: 0.8282, Expl.Var: 0.8286\n",
      "\u001b[31m[2025-03-20 01:00:31,716 INFO]\u001b[0m[Epoch 21/50] Train Loss: 23.352160, Val Loss: 825811.437500, RMSE: 4.261464, MAE: 2.817337, Accuracy: 0.7031, R2: 0.8336, Expl.Var: 0.8338\n",
      "\u001b[31m[2025-03-20 01:00:46,637 INFO]\u001b[0m[Epoch 31/50] Train Loss: 23.125641, Val Loss: 824963.812500, RMSE: 4.259276, MAE: 2.910421, Accuracy: 0.7032, R2: 0.8341, Expl.Var: 0.8361\n",
      "\u001b[31m[2025-03-20 01:01:01,435 INFO]\u001b[0m[Epoch 41/50] Train Loss: 22.948684, Val Loss: 814990.437500, RMSE: 4.233452, MAE: 2.768303, Accuracy: 0.7050, R2: 0.8358, Expl.Var: 0.8360\n",
      "\u001b[31m[2025-03-20 01:01:14,790 INFO]\u001b[0m[Epoch 50/50] Train Loss: 22.720942, Val Loss: 807417.000000, RMSE: 4.213736, MAE: 2.797154, Accuracy: 0.7064, R2: 0.8373, Expl.Var: 0.8373\n",
      "\u001b[31m[2025-03-20 01:01:14,793 INFO]\u001b[0mModel saved to trained-models/shenzhen_TGCN_seq12_pre1_gsl1.pt\n",
      "\u001b[31m[2025-03-20 01:01:14,793 INFO]\u001b[0mFinished training!\n",
      "\n",
      "\u001b[31m[2025-03-20 01:01:14,810 INFO]\u001b[0mLoaded config from configs/tgcn-sz-gsl-dcg-pre_len1.yaml: {'fit': {'trainer': {'max_epochs': 50, 'accelerator': 'cuda', 'devices': 1}, 'data': {'dataset_name': 'shenzhen', 'batch_size': 64, 'seq_len': 12, 'pre_len': 1}, 'model': {'model': {'class_path': 'models.TGCN', 'init_args': {'hidden_dim': 100, 'use_gsl': 2}}, 'learning_rate': 0.001, 'weight_decay': 0, 'loss': 'mse_with_regularizer'}}}\n",
      "\u001b[31m[2025-03-20 01:01:14,979 INFO]\u001b[0mUsing device: cuda\n",
      "\u001b[31m[2025-03-20 01:01:14,983 INFO]\u001b[0mStarting training for 50 epochs...\n"
     ]
    },
    {
     "name": "stdout",
     "output_type": "stream",
     "text": [
      "File data/W_est_shenzhen_pre_len1.npy found. Loading existing adjacency matrix estimated by GSL from training data.\n",
      "GSL computed: GSL+Adj\n"
     ]
    },
    {
     "name": "stderr",
     "output_type": "stream",
     "text": [
      "\u001b[31m[2025-03-20 01:01:16,537 INFO]\u001b[0m[Epoch 1/50] Train Loss: 113.086450, Val Loss: 2081270.000000, RMSE: 6.765231, MAE: 5.273862, Accuracy: 0.5286, R2: 0.5826, Expl.Var: 0.5855\n",
      "\u001b[31m[2025-03-20 01:01:31,624 INFO]\u001b[0m[Epoch 11/50] Train Loss: 37.651596, Val Loss: 1544685.250000, RMSE: 5.828253, MAE: 4.326014, Accuracy: 0.5939, R2: 0.6888, Expl.Var: 0.6890\n",
      "\u001b[31m[2025-03-20 01:01:46,335 INFO]\u001b[0m[Epoch 21/50] Train Loss: 35.900056, Val Loss: 1465060.375000, RMSE: 5.676049, MAE: 4.233456, Accuracy: 0.6045, R2: 0.7048, Expl.Var: 0.7049\n",
      "\u001b[31m[2025-03-20 01:02:01,371 INFO]\u001b[0m[Epoch 31/50] Train Loss: 33.590144, Val Loss: 1387143.250000, RMSE: 5.523050, MAE: 4.158289, Accuracy: 0.6152, R2: 0.7226, Expl.Var: 0.7284\n",
      "\u001b[31m[2025-03-20 01:02:16,307 INFO]\u001b[0m[Epoch 41/50] Train Loss: 30.700291, Val Loss: 1270096.125000, RMSE: 5.284898, MAE: 4.009051, Accuracy: 0.6318, R2: 0.7489, Expl.Var: 0.7636\n",
      "\u001b[31m[2025-03-20 01:02:29,904 INFO]\u001b[0m[Epoch 50/50] Train Loss: 27.632201, Val Loss: 1056918.500000, RMSE: 4.821022, MAE: 3.537406, Accuracy: 0.6641, R2: 0.7870, Expl.Var: 0.7872\n",
      "\u001b[31m[2025-03-20 01:02:29,909 INFO]\u001b[0mModel saved to trained-models/shenzhen_TGCN_seq12_pre1_gsl2.pt\n",
      "\u001b[31m[2025-03-20 01:02:29,910 INFO]\u001b[0mFinished training!\n",
      "\n",
      "\u001b[31m[2025-03-20 01:02:29,924 INFO]\u001b[0mLoaded config from configs/tgcn-sz-pre_len2.yaml: {'fit': {'trainer': {'max_epochs': 50, 'accelerator': 'cuda', 'devices': 1}, 'data': {'dataset_name': 'shenzhen', 'batch_size': 64, 'seq_len': 12, 'pre_len': 2}, 'model': {'model': {'class_path': 'models.TGCN', 'init_args': {'hidden_dim': 100, 'use_gsl': 0}}, 'learning_rate': 0.001, 'weight_decay': 0, 'loss': 'mse_with_regularizer'}}}\n",
      "\u001b[31m[2025-03-20 01:02:30,088 INFO]\u001b[0mUsing device: cuda\n",
      "\u001b[31m[2025-03-20 01:02:30,097 INFO]\u001b[0mStarting training for 50 epochs...\n"
     ]
    },
    {
     "name": "stdout",
     "output_type": "stream",
     "text": [
      "TGCN\n"
     ]
    },
    {
     "name": "stderr",
     "output_type": "stream",
     "text": [
      "\u001b[31m[2025-03-20 01:02:31,578 INFO]\u001b[0m[Epoch 1/50] Train Loss: 155.166981, Val Loss: 3551141.500000, RMSE: 6.254033, MAE: 4.811000, Accuracy: 0.5642, R2: 0.6447, Expl.Var: 0.6504\n",
      "\u001b[31m[2025-03-20 01:02:46,546 INFO]\u001b[0m[Epoch 11/50] Train Loss: 72.975424, Val Loss: 2988711.500000, RMSE: 5.737441, MAE: 4.250663, Accuracy: 0.6002, R2: 0.6983, Expl.Var: 0.6984\n",
      "\u001b[31m[2025-03-20 01:03:01,353 INFO]\u001b[0m[Epoch 21/50] Train Loss: 70.632839, Val Loss: 2871645.500000, RMSE: 5.623952, MAE: 4.179071, Accuracy: 0.6081, R2: 0.7102, Expl.Var: 0.7105\n",
      "\u001b[31m[2025-03-20 01:03:16,257 INFO]\u001b[0m[Epoch 31/50] Train Loss: 64.776980, Val Loss: 2567981.750000, RMSE: 5.318291, MAE: 4.001699, Accuracy: 0.6294, R2: 0.7409, Expl.Var: 0.7412\n",
      "\u001b[31m[2025-03-20 01:03:31,052 INFO]\u001b[0m[Epoch 41/50] Train Loss: 53.897459, Val Loss: 2046158.000000, RMSE: 4.747289, MAE: 3.493054, Accuracy: 0.6692, R2: 0.7936, Expl.Var: 0.7939\n",
      "\u001b[31m[2025-03-20 01:03:44,587 INFO]\u001b[0m[Epoch 50/50] Train Loss: 49.402700, Val Loss: 1843754.250000, RMSE: 4.506378, MAE: 3.212647, Accuracy: 0.6860, R2: 0.8139, Expl.Var: 0.8140\n",
      "\u001b[31m[2025-03-20 01:03:44,591 INFO]\u001b[0mModel saved to trained-models/shenzhen_TGCN_seq12_pre2_gsl0.pt\n",
      "\u001b[31m[2025-03-20 01:03:44,592 INFO]\u001b[0mFinished training!\n",
      "\n",
      "\u001b[31m[2025-03-20 01:03:44,609 INFO]\u001b[0mLoaded config from configs/tgcn-sz-gsl-pre_len2.yaml: {'fit': {'trainer': {'max_epochs': 50, 'accelerator': 'cuda', 'devices': 1}, 'data': {'dataset_name': 'shenzhen', 'batch_size': 64, 'seq_len': 12, 'pre_len': 2}, 'model': {'model': {'class_path': 'models.TGCN', 'init_args': {'hidden_dim': 100, 'use_gsl': 1}}, 'learning_rate': 0.001, 'weight_decay': 0, 'loss': 'mse_with_regularizer'}}}\n",
      "\u001b[31m[2025-03-20 01:03:44,776 INFO]\u001b[0mUsing device: cuda\n",
      "\u001b[31m[2025-03-20 01:03:44,781 INFO]\u001b[0mStarting training for 50 epochs...\n"
     ]
    },
    {
     "name": "stdout",
     "output_type": "stream",
     "text": [
      "File data/W_est_shenzhen_pre_len2.npy found. Loading existing adjacency matrix estimated by GSL from training data.\n",
      "GSL computed: Only GSL\n"
     ]
    },
    {
     "name": "stderr",
     "output_type": "stream",
     "text": [
      "\u001b[31m[2025-03-20 01:03:46,458 INFO]\u001b[0m[Epoch 1/50] Train Loss: 137.656716, Val Loss: 2949730.500000, RMSE: 5.699902, MAE: 4.052048, Accuracy: 0.6028, R2: 0.7058, Expl.Var: 0.7142\n",
      "\u001b[31m[2025-03-20 01:04:01,608 INFO]\u001b[0m[Epoch 11/50] Train Loss: 47.960516, Val Loss: 1714064.625000, RMSE: 4.345000, MAE: 2.982099, Accuracy: 0.6972, R2: 0.8274, Expl.Var: 0.8291\n",
      "\u001b[31m[2025-03-20 01:04:17,289 INFO]\u001b[0m[Epoch 21/50] Train Loss: 47.198387, Val Loss: 1691703.250000, RMSE: 4.316565, MAE: 2.966119, Accuracy: 0.6992, R2: 0.8298, Expl.Var: 0.8323\n",
      "\u001b[31m[2025-03-20 01:04:33,200 INFO]\u001b[0m[Epoch 31/50] Train Loss: 46.397118, Val Loss: 1675126.125000, RMSE: 4.295363, MAE: 2.812159, Accuracy: 0.7007, R2: 0.8311, Expl.Var: 0.8321\n",
      "\u001b[31m[2025-03-20 01:04:48,828 INFO]\u001b[0m[Epoch 41/50] Train Loss: 46.210358, Val Loss: 1683577.125000, RMSE: 4.306185, MAE: 2.834484, Accuracy: 0.6999, R2: 0.8306, Expl.Var: 0.8335\n",
      "\u001b[31m[2025-03-20 01:05:02,885 INFO]\u001b[0m[Epoch 50/50] Train Loss: 45.622799, Val Loss: 1631422.375000, RMSE: 4.238961, MAE: 2.801321, Accuracy: 0.7046, R2: 0.8353, Expl.Var: 0.8354\n",
      "\u001b[31m[2025-03-20 01:05:02,890 INFO]\u001b[0mModel saved to trained-models/shenzhen_TGCN_seq12_pre2_gsl1.pt\n",
      "\u001b[31m[2025-03-20 01:05:02,890 INFO]\u001b[0mFinished training!\n",
      "\n",
      "\u001b[31m[2025-03-20 01:05:02,902 INFO]\u001b[0mLoaded config from configs/tgcn-sz-gsl-dcg-pre_len2.yaml: {'fit': {'trainer': {'max_epochs': 50, 'accelerator': 'cuda', 'devices': 1}, 'data': {'dataset_name': 'shenzhen', 'batch_size': 64, 'seq_len': 12, 'pre_len': 2}, 'model': {'model': {'class_path': 'models.TGCN', 'init_args': {'hidden_dim': 100, 'use_gsl': 2}}, 'learning_rate': 0.001, 'weight_decay': 0, 'loss': 'mse_with_regularizer'}}}\n",
      "\u001b[31m[2025-03-20 01:05:03,091 INFO]\u001b[0mUsing device: cuda\n",
      "\u001b[31m[2025-03-20 01:05:03,094 INFO]\u001b[0mStarting training for 50 epochs...\n"
     ]
    },
    {
     "name": "stdout",
     "output_type": "stream",
     "text": [
      "File data/W_est_shenzhen_pre_len2.npy found. Loading existing adjacency matrix estimated by GSL from training data.\n",
      "GSL computed: GSL+Adj\n"
     ]
    },
    {
     "name": "stderr",
     "output_type": "stream",
     "text": [
      "\u001b[31m[2025-03-20 01:05:04,618 INFO]\u001b[0m[Epoch 1/50] Train Loss: 159.658997, Val Loss: 3918993.250000, RMSE: 6.569971, MAE: 5.110125, Accuracy: 0.5422, R2: 0.6084, Expl.Var: 0.6145\n",
      "\u001b[31m[2025-03-20 01:05:19,753 INFO]\u001b[0m[Epoch 11/50] Train Loss: 75.104230, Val Loss: 3078969.250000, RMSE: 5.823430, MAE: 4.324943, Accuracy: 0.5942, R2: 0.6892, Expl.Var: 0.6892\n",
      "\u001b[31m[2025-03-20 01:05:35,565 INFO]\u001b[0m[Epoch 21/50] Train Loss: 69.409098, Val Loss: 2818961.000000, RMSE: 5.572123, MAE: 4.179608, Accuracy: 0.6117, R2: 0.7156, Expl.Var: 0.7161\n",
      "\u001b[31m[2025-03-20 01:05:50,877 INFO]\u001b[0m[Epoch 31/50] Train Loss: 59.081563, Val Loss: 2382556.500000, RMSE: 5.122686, MAE: 3.908285, Accuracy: 0.6430, R2: 0.7621, Expl.Var: 0.7704\n",
      "\u001b[31m[2025-03-20 01:06:06,386 INFO]\u001b[0m[Epoch 41/50] Train Loss: 52.388356, Val Loss: 1997808.000000, RMSE: 4.690866, MAE: 3.439056, Accuracy: 0.6731, R2: 0.7986, Expl.Var: 0.7994\n",
      "\u001b[31m[2025-03-20 01:06:21,054 INFO]\u001b[0m[Epoch 50/50] Train Loss: 49.178003, Val Loss: 1866588.000000, RMSE: 4.534197, MAE: 3.275672, Accuracy: 0.6840, R2: 0.8119, Expl.Var: 0.8134\n",
      "\u001b[31m[2025-03-20 01:06:21,058 INFO]\u001b[0mModel saved to trained-models/shenzhen_TGCN_seq12_pre2_gsl2.pt\n",
      "\u001b[31m[2025-03-20 01:06:21,058 INFO]\u001b[0mFinished training!\n",
      "\n",
      "\u001b[31m[2025-03-20 01:06:21,072 INFO]\u001b[0mLoaded config from configs/tgcn-sz-pre_len3.yaml: {'fit': {'trainer': {'max_epochs': 50, 'accelerator': 'cuda', 'devices': 1}, 'data': {'dataset_name': 'shenzhen', 'batch_size': 64, 'seq_len': 12, 'pre_len': 3}, 'model': {'model': {'class_path': 'models.TGCN', 'init_args': {'hidden_dim': 100, 'use_gsl': 0}}, 'learning_rate': 0.001, 'weight_decay': 0, 'loss': 'mse_with_regularizer'}}}\n",
      "\u001b[31m[2025-03-20 01:06:21,247 INFO]\u001b[0mUsing device: cuda\n",
      "\u001b[31m[2025-03-20 01:06:21,250 INFO]\u001b[0mStarting training for 50 epochs...\n"
     ]
    },
    {
     "name": "stdout",
     "output_type": "stream",
     "text": [
      "TGCN\n"
     ]
    },
    {
     "name": "stderr",
     "output_type": "stream",
     "text": [
      "\u001b[31m[2025-03-20 01:06:22,813 INFO]\u001b[0m[Epoch 1/50] Train Loss: 247.953554, Val Loss: 5588889.500000, RMSE: 6.411605, MAE: 5.065490, Accuracy: 0.5532, R2: 0.6309, Expl.Var: 0.6438\n",
      "\u001b[31m[2025-03-20 01:06:38,112 INFO]\u001b[0m[Epoch 11/50] Train Loss: 110.309745, Val Loss: 4517411.500000, RMSE: 5.764330, MAE: 4.265648, Accuracy: 0.5983, R2: 0.6956, Expl.Var: 0.6957\n",
      "\u001b[31m[2025-03-20 01:06:53,671 INFO]\u001b[0m[Epoch 21/50] Train Loss: 107.294537, Val Loss: 4367923.500000, RMSE: 5.668152, MAE: 4.197238, Accuracy: 0.6050, R2: 0.7058, Expl.Var: 0.7063\n",
      "\u001b[31m[2025-03-20 01:07:09,622 INFO]\u001b[0m[Epoch 31/50] Train Loss: 99.921669, Val Loss: 4040442.000000, RMSE: 5.451530, MAE: 4.064967, Accuracy: 0.6201, R2: 0.7279, Expl.Var: 0.7286\n",
      "\u001b[31m[2025-03-20 01:07:25,220 INFO]\u001b[0m[Epoch 41/50] Train Loss: 89.787479, Val Loss: 3584244.750000, RMSE: 5.134555, MAE: 3.869759, Accuracy: 0.6422, R2: 0.7596, Expl.Var: 0.7632\n",
      "\u001b[31m[2025-03-20 01:07:38,871 INFO]\u001b[0m[Epoch 50/50] Train Loss: 78.863149, Val Loss: 2983710.500000, RMSE: 4.684706, MAE: 3.416107, Accuracy: 0.6735, R2: 0.7989, Expl.Var: 0.7989\n",
      "\u001b[31m[2025-03-20 01:07:38,871 INFO]\u001b[0mModel saved to trained-models/shenzhen_TGCN_seq12_pre3_gsl0.pt\n",
      "\u001b[31m[2025-03-20 01:07:38,871 INFO]\u001b[0mFinished training!\n",
      "\n",
      "\u001b[31m[2025-03-20 01:07:38,890 INFO]\u001b[0mLoaded config from configs/tgcn-sz-gsl-pre_len3.yaml: {'fit': {'trainer': {'max_epochs': 50, 'accelerator': 'cuda', 'devices': 1}, 'data': {'dataset_name': 'shenzhen', 'batch_size': 64, 'seq_len': 12, 'pre_len': 3}, 'model': {'model': {'class_path': 'models.TGCN', 'init_args': {'hidden_dim': 100, 'use_gsl': 1}}, 'learning_rate': 0.001, 'weight_decay': 0, 'loss': 'mse_with_regularizer'}}}\n",
      "\u001b[31m[2025-03-20 01:07:39,053 INFO]\u001b[0mUsing device: cuda\n",
      "\u001b[31m[2025-03-20 01:07:39,063 INFO]\u001b[0mStarting training for 50 epochs...\n"
     ]
    },
    {
     "name": "stdout",
     "output_type": "stream",
     "text": [
      "File data/W_est_shenzhen_pre_len3.npy found. Loading existing adjacency matrix estimated by GSL from training data.\n",
      "GSL computed: Only GSL\n"
     ]
    },
    {
     "name": "stderr",
     "output_type": "stream",
     "text": [
      "\u001b[31m[2025-03-20 01:07:40,607 INFO]\u001b[0m[Epoch 1/50] Train Loss: 221.986642, Val Loss: 4601385.500000, RMSE: 5.817659, MAE: 4.182315, Accuracy: 0.5946, R2: 0.6942, Expl.Var: 0.7040\n",
      "\u001b[31m[2025-03-20 01:07:55,620 INFO]\u001b[0m[Epoch 11/50] Train Loss: 73.901720, Val Loss: 2589706.250000, RMSE: 4.364447, MAE: 2.874867, Accuracy: 0.6959, R2: 0.8255, Expl.Var: 0.8257\n",
      "\u001b[31m[2025-03-20 01:08:10,653 INFO]\u001b[0m[Epoch 21/50] Train Loss: 71.568322, Val Loss: 2555209.500000, RMSE: 4.335281, MAE: 2.860925, Accuracy: 0.6979, R2: 0.8278, Expl.Var: 0.8278\n",
      "\u001b[31m[2025-03-20 01:08:25,606 INFO]\u001b[0m[Epoch 31/50] Train Loss: 70.720237, Val Loss: 2545487.000000, RMSE: 4.327025, MAE: 2.905305, Accuracy: 0.6985, R2: 0.8287, Expl.Var: 0.8301\n",
      "\u001b[31m[2025-03-20 01:08:40,912 INFO]\u001b[0m[Epoch 41/50] Train Loss: 70.230788, Val Loss: 2602668.500000, RMSE: 4.375356, MAE: 3.084653, Accuracy: 0.6951, R2: 0.8258, Expl.Var: 0.8317\n",
      "\u001b[31m[2025-03-20 01:08:54,372 INFO]\u001b[0m[Epoch 50/50] Train Loss: 69.724996, Val Loss: 2565485.000000, RMSE: 4.343989, MAE: 3.062237, Accuracy: 0.6973, R2: 0.8281, Expl.Var: 0.8329\n",
      "\u001b[31m[2025-03-20 01:08:54,377 INFO]\u001b[0mModel saved to trained-models/shenzhen_TGCN_seq12_pre3_gsl1.pt\n",
      "\u001b[31m[2025-03-20 01:08:54,377 INFO]\u001b[0mFinished training!\n",
      "\n",
      "\u001b[31m[2025-03-20 01:08:54,391 INFO]\u001b[0mLoaded config from configs/tgcn-sz-gsl-dcg-pre_len3.yaml: {'fit': {'trainer': {'max_epochs': 50, 'accelerator': 'cuda', 'devices': 1}, 'data': {'dataset_name': 'shenzhen', 'batch_size': 64, 'seq_len': 12, 'pre_len': 3}, 'model': {'model': {'class_path': 'models.TGCN', 'init_args': {'hidden_dim': 100, 'use_gsl': 2}}, 'learning_rate': 0.001, 'weight_decay': 0, 'loss': 'mse_with_regularizer'}}}\n",
      "\u001b[31m[2025-03-20 01:08:54,559 INFO]\u001b[0mUsing device: cuda\n",
      "\u001b[31m[2025-03-20 01:08:54,562 INFO]\u001b[0mStarting training for 50 epochs...\n"
     ]
    },
    {
     "name": "stdout",
     "output_type": "stream",
     "text": [
      "File data/W_est_shenzhen_pre_len3.npy found. Loading existing adjacency matrix estimated by GSL from training data.\n",
      "GSL computed: GSL+Adj\n"
     ]
    },
    {
     "name": "stderr",
     "output_type": "stream",
     "text": [
      "\u001b[31m[2025-03-20 01:08:56,128 INFO]\u001b[0m[Epoch 1/50] Train Loss: 254.566054, Val Loss: 6146730.500000, RMSE: 6.723975, MAE: 5.328665, Accuracy: 0.5314, R2: 0.5938, Expl.Var: 0.6057\n",
      "\u001b[31m[2025-03-20 01:09:10,969 INFO]\u001b[0m[Epoch 11/50] Train Loss: 113.702862, Val Loss: 4665961.500000, RMSE: 5.858340, MAE: 4.338961, Accuracy: 0.5918, R2: 0.6857, Expl.Var: 0.6863\n",
      "\u001b[31m[2025-03-20 01:09:26,162 INFO]\u001b[0m[Epoch 21/50] Train Loss: 106.993546, Val Loss: 4362507.500000, RMSE: 5.664637, MAE: 4.236568, Accuracy: 0.6053, R2: 0.7062, Expl.Var: 0.7069\n",
      "\u001b[31m[2025-03-20 01:09:42,077 INFO]\u001b[0m[Epoch 31/50] Train Loss: 98.057550, Val Loss: 3933902.250000, RMSE: 5.379176, MAE: 4.017616, Accuracy: 0.6252, R2: 0.7352, Expl.Var: 0.7361\n",
      "\u001b[31m[2025-03-20 01:09:57,265 INFO]\u001b[0m[Epoch 41/50] Train Loss: 83.510851, Val Loss: 3299532.750000, RMSE: 4.926406, MAE: 3.708206, Accuracy: 0.6567, R2: 0.7788, Expl.Var: 0.7832\n",
      "\u001b[31m[2025-03-20 01:10:12,332 INFO]\u001b[0m[Epoch 50/50] Train Loss: 76.626834, Val Loss: 2914914.500000, RMSE: 4.630383, MAE: 3.333760, Accuracy: 0.6773, R2: 0.8036, Expl.Var: 0.8038\n",
      "\u001b[31m[2025-03-20 01:10:12,337 INFO]\u001b[0mModel saved to trained-models/shenzhen_TGCN_seq12_pre3_gsl2.pt\n",
      "\u001b[31m[2025-03-20 01:10:12,338 INFO]\u001b[0mFinished training!\n",
      "\n",
      "\u001b[31m[2025-03-20 01:10:12,345 INFO]\u001b[0mLoaded config from configs/tgcn-sz-pre_len4.yaml: {'fit': {'trainer': {'max_epochs': 50, 'accelerator': 'cuda', 'devices': 1}, 'data': {'dataset_name': 'shenzhen', 'batch_size': 64, 'seq_len': 12, 'pre_len': 4}, 'model': {'model': {'class_path': 'models.TGCN', 'init_args': {'hidden_dim': 100, 'use_gsl': 0}}, 'learning_rate': 0.001, 'weight_decay': 0, 'loss': 'mse_with_regularizer'}}}\n",
      "\u001b[31m[2025-03-20 01:10:12,520 INFO]\u001b[0mUsing device: cuda\n",
      "\u001b[31m[2025-03-20 01:10:12,522 INFO]\u001b[0mStarting training for 50 epochs...\n"
     ]
    },
    {
     "name": "stdout",
     "output_type": "stream",
     "text": [
      "TGCN\n"
     ]
    },
    {
     "name": "stderr",
     "output_type": "stream",
     "text": [
      "\u001b[31m[2025-03-20 01:10:14,053 INFO]\u001b[0m[Epoch 1/50] Train Loss: 490.803538, Val Loss: 8192973.500000, RMSE: 6.728673, MAE: 5.409897, Accuracy: 0.5311, R2: 0.5863, Expl.Var: 0.5879\n",
      "\u001b[31m[2025-03-20 01:10:29,390 INFO]\u001b[0m[Epoch 11/50] Train Loss: 148.926267, Val Loss: 6059755.000000, RMSE: 5.786770, MAE: 4.304471, Accuracy: 0.5967, R2: 0.6933, Expl.Var: 0.6938\n",
      "\u001b[31m[2025-03-20 01:10:44,322 INFO]\u001b[0m[Epoch 21/50] Train Loss: 145.812555, Val Loss: 5929333.000000, RMSE: 5.724158, MAE: 4.245355, Accuracy: 0.6011, R2: 0.6999, Expl.Var: 0.7002\n",
      "\u001b[31m[2025-03-20 01:10:59,351 INFO]\u001b[0m[Epoch 31/50] Train Loss: 140.221965, Val Loss: 5676330.500000, RMSE: 5.600703, MAE: 4.164546, Accuracy: 0.6097, R2: 0.7127, Expl.Var: 0.7131\n",
      "\u001b[31m[2025-03-20 01:11:14,510 INFO]\u001b[0m[Epoch 41/50] Train Loss: 130.101241, Val Loss: 5150568.500000, RMSE: 5.335022, MAE: 4.021696, Accuracy: 0.6282, R2: 0.7394, Expl.Var: 0.7401\n",
      "\u001b[31m[2025-03-20 01:11:28,205 INFO]\u001b[0m[Epoch 50/50] Train Loss: 114.482389, Val Loss: 4405340.000000, RMSE: 4.933991, MAE: 3.637807, Accuracy: 0.6562, R2: 0.7769, Expl.Var: 0.7769\n",
      "\u001b[31m[2025-03-20 01:11:28,208 INFO]\u001b[0mModel saved to trained-models/shenzhen_TGCN_seq12_pre4_gsl0.pt\n",
      "\u001b[31m[2025-03-20 01:11:28,208 INFO]\u001b[0mFinished training!\n",
      "\n",
      "\u001b[31m[2025-03-20 01:11:28,225 INFO]\u001b[0mLoaded config from configs/tgcn-sz-gsl-pre_len4.yaml: {'fit': {'trainer': {'max_epochs': 50, 'accelerator': 'cuda', 'devices': 1}, 'data': {'dataset_name': 'shenzhen', 'batch_size': 64, 'seq_len': 12, 'pre_len': 4}, 'model': {'model': {'class_path': 'models.TGCN', 'init_args': {'hidden_dim': 100, 'use_gsl': 1}}, 'learning_rate': 0.001, 'weight_decay': 0, 'loss': 'mse_with_regularizer'}}}\n",
      "\u001b[31m[2025-03-20 01:11:28,485 INFO]\u001b[0mUsing device: cuda\n",
      "\u001b[31m[2025-03-20 01:11:28,496 INFO]\u001b[0mStarting training for 50 epochs...\n"
     ]
    },
    {
     "name": "stdout",
     "output_type": "stream",
     "text": [
      "File data/W_est_shenzhen_pre_len4.npy found. Loading existing adjacency matrix estimated by GSL from training data.\n",
      "GSL computed: Only GSL\n"
     ]
    },
    {
     "name": "stderr",
     "output_type": "stream",
     "text": [
      "\u001b[31m[2025-03-20 01:11:30,404 INFO]\u001b[0m[Epoch 1/50] Train Loss: 460.439378, Val Loss: 6861688.500000, RMSE: 6.157780, MAE: 4.321928, Accuracy: 0.5709, R2: 0.6525, Expl.Var: 0.6526\n",
      "\u001b[31m[2025-03-20 01:11:45,722 INFO]\u001b[0m[Epoch 11/50] Train Loss: 100.276594, Val Loss: 3545437.750000, RMSE: 4.426328, MAE: 2.937746, Accuracy: 0.6915, R2: 0.8205, Expl.Var: 0.8206\n",
      "\u001b[31m[2025-03-20 01:12:00,652 INFO]\u001b[0m[Epoch 21/50] Train Loss: 97.344594, Val Loss: 3468331.000000, RMSE: 4.377931, MAE: 2.947981, Accuracy: 0.6949, R2: 0.8245, Expl.Var: 0.8253\n",
      "\u001b[31m[2025-03-20 01:12:15,648 INFO]\u001b[0m[Epoch 31/50] Train Loss: 96.178486, Val Loss: 3423684.500000, RMSE: 4.349662, MAE: 2.885421, Accuracy: 0.6969, R2: 0.8266, Expl.Var: 0.8267\n",
      "\u001b[31m[2025-03-20 01:12:30,850 INFO]\u001b[0m[Epoch 41/50] Train Loss: 94.942907, Val Loss: 3450200.000000, RMSE: 4.366473, MAE: 3.007512, Accuracy: 0.6957, R2: 0.8259, Expl.Var: 0.8289\n",
      "\u001b[31m[2025-03-20 01:12:44,417 INFO]\u001b[0m[Epoch 50/50] Train Loss: 94.129832, Val Loss: 3450048.250000, RMSE: 4.366377, MAE: 2.885030, Accuracy: 0.6957, R2: 0.8260, Expl.Var: 0.8291\n",
      "\u001b[31m[2025-03-20 01:12:44,417 INFO]\u001b[0mModel saved to trained-models/shenzhen_TGCN_seq12_pre4_gsl1.pt\n",
      "\u001b[31m[2025-03-20 01:12:44,422 INFO]\u001b[0mFinished training!\n",
      "\n",
      "\u001b[31m[2025-03-20 01:12:44,434 INFO]\u001b[0mLoaded config from configs/tgcn-sz-gsl-dcg-pre_len4.yaml: {'fit': {'trainer': {'max_epochs': 50, 'accelerator': 'cuda', 'devices': 1}, 'data': {'dataset_name': 'shenzhen', 'batch_size': 64, 'seq_len': 12, 'pre_len': 4}, 'model': {'model': {'class_path': 'models.TGCN', 'init_args': {'hidden_dim': 100, 'use_gsl': 2}}, 'learning_rate': 0.001, 'weight_decay': 0, 'loss': 'mse_with_regularizer'}}}\n",
      "\u001b[31m[2025-03-20 01:12:44,603 INFO]\u001b[0mUsing device: cuda\n",
      "\u001b[31m[2025-03-20 01:12:44,608 INFO]\u001b[0mStarting training for 50 epochs...\n"
     ]
    },
    {
     "name": "stdout",
     "output_type": "stream",
     "text": [
      "File data/W_est_shenzhen_pre_len4.npy found. Loading existing adjacency matrix estimated by GSL from training data.\n",
      "GSL computed: GSL+Adj\n"
     ]
    },
    {
     "name": "stderr",
     "output_type": "stream",
     "text": [
      "\u001b[31m[2025-03-20 01:12:46,103 INFO]\u001b[0m[Epoch 1/50] Train Loss: 499.743646, Val Loss: 8971717.000000, RMSE: 7.041197, MAE: 5.571567, Accuracy: 0.5093, R2: 0.5465, Expl.Var: 0.5474\n",
      "\u001b[31m[2025-03-20 01:13:01,183 INFO]\u001b[0m[Epoch 11/50] Train Loss: 153.673024, Val Loss: 6241783.000000, RMSE: 5.873041, MAE: 4.361852, Accuracy: 0.5907, R2: 0.6839, Expl.Var: 0.6840\n",
      "\u001b[31m[2025-03-20 01:13:16,342 INFO]\u001b[0m[Epoch 21/50] Train Loss: 144.636810, Val Loss: 5917541.000000, RMSE: 5.718463, MAE: 4.292621, Accuracy: 0.6015, R2: 0.7016, Expl.Var: 0.7044\n",
      "\u001b[31m[2025-03-20 01:13:31,349 INFO]\u001b[0m[Epoch 31/50] Train Loss: 133.571333, Val Loss: 5392195.500000, RMSE: 5.458728, MAE: 4.076272, Accuracy: 0.6196, R2: 0.7274, Expl.Var: 0.7286\n",
      "\u001b[31m[2025-03-20 01:13:46,398 INFO]\u001b[0m[Epoch 41/50] Train Loss: 117.824922, Val Loss: 4610745.500000, RMSE: 5.047708, MAE: 3.759887, Accuracy: 0.6482, R2: 0.7665, Expl.Var: 0.7666\n",
      "\u001b[31m[2025-03-20 01:13:59,888 INFO]\u001b[0m[Epoch 50/50] Train Loss: 108.351667, Val Loss: 4124431.250000, RMSE: 4.774091, MAE: 3.487133, Accuracy: 0.6673, R2: 0.7911, Expl.Var: 0.7912\n",
      "\u001b[31m[2025-03-20 01:13:59,891 INFO]\u001b[0mModel saved to trained-models/shenzhen_TGCN_seq12_pre4_gsl2.pt\n",
      "\u001b[31m[2025-03-20 01:13:59,891 INFO]\u001b[0mFinished training!\n",
      "\n",
      "\u001b[31m[2025-03-20 01:13:59,899 INFO]\u001b[0mLoaded config from configs/tgcn-los-pre_len1.yaml: {'fit': {'trainer': {'max_epochs': 50, 'accelerator': 'cuda', 'devices': 1}, 'data': {'dataset_name': 'losloop', 'batch_size': 64, 'seq_len': 12, 'pre_len': 1}, 'model': {'model': {'class_path': 'models.TGCN', 'init_args': {'hidden_dim': 64, 'use_gsl': 0}}, 'learning_rate': 0.001, 'weight_decay': 0, 'loss': 'mse_with_regularizer'}}}\n",
      "\u001b[31m[2025-03-20 01:14:00,033 INFO]\u001b[0mUsing device: cuda\n",
      "\u001b[31m[2025-03-20 01:14:00,042 INFO]\u001b[0mStarting training for 50 epochs...\n"
     ]
    },
    {
     "name": "stdout",
     "output_type": "stream",
     "text": [
      "TGCN\n"
     ]
    },
    {
     "name": "stderr",
     "output_type": "stream",
     "text": [
      "\u001b[31m[2025-03-20 01:14:01,103 INFO]\u001b[0m[Epoch 1/50] Train Loss: 1112.484312, Val Loss: 9420844.000000, RMSE: 15.257605, MAE: 11.646675, Accuracy: 0.7403, R2: 0.2511, Expl.Var: 0.4069\n",
      "\u001b[31m[2025-03-20 01:14:11,066 INFO]\u001b[0m[Epoch 11/50] Train Loss: 109.476194, Val Loss: 3683299.250000, RMSE: 9.540255, MAE: 6.738713, Accuracy: 0.8376, R2: 0.5267, Expl.Var: 0.5279\n",
      "\u001b[31m[2025-03-20 01:14:21,058 INFO]\u001b[0m[Epoch 21/50] Train Loss: 80.579441, Val Loss: 2612263.500000, RMSE: 8.034335, MAE: 5.562919, Accuracy: 0.8633, R2: 0.6637, Expl.Var: 0.6638\n",
      "\u001b[31m[2025-03-20 01:14:31,116 INFO]\u001b[0m[Epoch 31/50] Train Loss: 68.158829, Val Loss: 2192631.500000, RMSE: 7.360787, MAE: 5.131146, Accuracy: 0.8747, R2: 0.7178, Expl.Var: 0.7181\n",
      "\u001b[31m[2025-03-20 01:14:41,241 INFO]\u001b[0m[Epoch 41/50] Train Loss: 60.225385, Val Loss: 1933874.375000, RMSE: 6.912825, MAE: 4.765222, Accuracy: 0.8823, R2: 0.7511, Expl.Var: 0.7516\n",
      "\u001b[31m[2025-03-20 01:14:50,253 INFO]\u001b[0m[Epoch 50/50] Train Loss: 55.029498, Val Loss: 1756643.500000, RMSE: 6.588449, MAE: 4.573211, Accuracy: 0.8879, R2: 0.7738, Expl.Var: 0.7738\n",
      "\u001b[31m[2025-03-20 01:14:50,257 INFO]\u001b[0mModel saved to trained-models/losloop_TGCN_seq12_pre1_gsl0.pt\n",
      "\u001b[31m[2025-03-20 01:14:50,258 INFO]\u001b[0mFinished training!\n",
      "\n",
      "\u001b[31m[2025-03-20 01:14:50,274 INFO]\u001b[0mLoaded config from configs/tgcn-los-gsl-pre_len1.yaml: {'fit': {'trainer': {'max_epochs': 50, 'accelerator': 'cuda', 'devices': 1}, 'data': {'dataset_name': 'losloop', 'batch_size': 64, 'seq_len': 12, 'pre_len': 1}, 'model': {'model': {'class_path': 'models.TGCN', 'init_args': {'hidden_dim': 64, 'use_gsl': 1}}, 'learning_rate': 0.001, 'weight_decay': 0, 'loss': 'mse_with_regularizer'}}}\n",
      "\u001b[31m[2025-03-20 01:14:50,417 INFO]\u001b[0mUsing device: cuda\n",
      "\u001b[31m[2025-03-20 01:14:50,419 INFO]\u001b[0mStarting training for 50 epochs...\n"
     ]
    },
    {
     "name": "stdout",
     "output_type": "stream",
     "text": [
      "File data/W_est_losloop_pre_len1.npy found. Loading existing adjacency matrix estimated by GSL from training data.\n",
      "GSL computed: Only GSL\n"
     ]
    },
    {
     "name": "stderr",
     "output_type": "stream",
     "text": [
      "\u001b[31m[2025-03-20 01:14:51,460 INFO]\u001b[0m[Epoch 1/50] Train Loss: 1146.168615, Val Loss: 11481282.000000, RMSE: 16.843666, MAE: 11.732319, Accuracy: 0.7133, R2: -0.0914, Expl.Var: -0.1238\n",
      "\u001b[31m[2025-03-20 01:15:01,429 INFO]\u001b[0m[Epoch 11/50] Train Loss: 57.479963, Val Loss: 1864368.750000, RMSE: 6.787461, MAE: 4.454289, Accuracy: 0.8845, R2: 0.7600, Expl.Var: 0.7601\n",
      "\u001b[31m[2025-03-20 01:15:11,416 INFO]\u001b[0m[Epoch 21/50] Train Loss: 43.044410, Val Loss: 1411129.250000, RMSE: 5.905066, MAE: 3.752765, Accuracy: 0.8995, R2: 0.8183, Expl.Var: 0.8184\n",
      "\u001b[31m[2025-03-20 01:15:21,472 INFO]\u001b[0m[Epoch 31/50] Train Loss: 34.213752, Val Loss: 1131582.750000, RMSE: 5.287916, MAE: 3.317061, Accuracy: 0.9100, R2: 0.8543, Expl.Var: 0.8545\n",
      "\u001b[31m[2025-03-20 01:15:31,752 INFO]\u001b[0m[Epoch 41/50] Train Loss: 30.017911, Val Loss: 995363.625000, RMSE: 4.959436, MAE: 3.127564, Accuracy: 0.9156, R2: 0.8718, Expl.Var: 0.8719\n",
      "\u001b[31m[2025-03-20 01:15:40,831 INFO]\u001b[0m[Epoch 50/50] Train Loss: 28.278445, Val Loss: 939243.375000, RMSE: 4.817597, MAE: 2.980493, Accuracy: 0.9180, R2: 0.8791, Expl.Var: 0.8791\n",
      "\u001b[31m[2025-03-20 01:15:40,837 INFO]\u001b[0mModel saved to trained-models/losloop_TGCN_seq12_pre1_gsl1.pt\n",
      "\u001b[31m[2025-03-20 01:15:40,838 INFO]\u001b[0mFinished training!\n",
      "\n",
      "\u001b[31m[2025-03-20 01:15:40,850 INFO]\u001b[0mLoaded config from configs/tgcn-los-gsl-dcg-pre_len1.yaml: {'fit': {'trainer': {'max_epochs': 50, 'accelerator': 'cuda', 'devices': 1}, 'data': {'dataset_name': 'losloop', 'batch_size': 64, 'seq_len': 12, 'pre_len': 1}, 'model': {'model': {'class_path': 'models.TGCN', 'init_args': {'hidden_dim': 64, 'use_gsl': 2}}, 'learning_rate': 0.001, 'weight_decay': 0, 'loss': 'mse_with_regularizer'}}}\n",
      "\u001b[31m[2025-03-20 01:15:40,984 INFO]\u001b[0mUsing device: cuda\n",
      "\u001b[31m[2025-03-20 01:15:40,988 INFO]\u001b[0mStarting training for 50 epochs...\n"
     ]
    },
    {
     "name": "stdout",
     "output_type": "stream",
     "text": [
      "File data/W_est_losloop_pre_len1.npy found. Loading existing adjacency matrix estimated by GSL from training data.\n",
      "GSL computed: GSL+Adj\n"
     ]
    },
    {
     "name": "stderr",
     "output_type": "stream",
     "text": [
      "\u001b[31m[2025-03-20 01:15:42,092 INFO]\u001b[0m[Epoch 1/50] Train Loss: 1113.143479, Val Loss: 9483019.000000, RMSE: 15.307870, MAE: 11.642679, Accuracy: 0.7395, R2: 0.2441, Expl.Var: 0.3943\n",
      "\u001b[31m[2025-03-20 01:15:52,186 INFO]\u001b[0m[Epoch 11/50] Train Loss: 110.741545, Val Loss: 3703649.750000, RMSE: 9.566573, MAE: 6.777622, Accuracy: 0.8372, R2: 0.5240, Expl.Var: 0.5251\n",
      "\u001b[31m[2025-03-20 01:16:02,199 INFO]\u001b[0m[Epoch 21/50] Train Loss: 79.833123, Val Loss: 2576744.750000, RMSE: 7.979527, MAE: 5.568526, Accuracy: 0.8642, R2: 0.6682, Expl.Var: 0.6682\n",
      "\u001b[31m[2025-03-20 01:16:12,233 INFO]\u001b[0m[Epoch 31/50] Train Loss: 67.526821, Val Loss: 2171137.500000, RMSE: 7.324620, MAE: 5.126070, Accuracy: 0.8753, R2: 0.7206, Expl.Var: 0.7210\n",
      "\u001b[31m[2025-03-20 01:16:22,257 INFO]\u001b[0m[Epoch 41/50] Train Loss: 59.867563, Val Loss: 1920271.750000, RMSE: 6.888470, MAE: 4.765722, Accuracy: 0.8828, R2: 0.7529, Expl.Var: 0.7534\n",
      "\u001b[31m[2025-03-20 01:16:31,335 INFO]\u001b[0m[Epoch 50/50] Train Loss: 54.434653, Val Loss: 1736057.500000, RMSE: 6.549731, MAE: 4.552895, Accuracy: 0.8885, R2: 0.7764, Expl.Var: 0.7764\n",
      "\u001b[31m[2025-03-20 01:16:31,340 INFO]\u001b[0mModel saved to trained-models/losloop_TGCN_seq12_pre1_gsl2.pt\n",
      "\u001b[31m[2025-03-20 01:16:31,341 INFO]\u001b[0mFinished training!\n",
      "\n",
      "\u001b[31m[2025-03-20 01:16:31,354 INFO]\u001b[0mLoaded config from configs/tgcn-los-pre_len2.yaml: {'fit': {'trainer': {'max_epochs': 50, 'accelerator': 'cuda', 'devices': 1}, 'data': {'dataset_name': 'losloop', 'batch_size': 64, 'seq_len': 12, 'pre_len': 2}, 'model': {'model': {'class_path': 'models.TGCN', 'init_args': {'hidden_dim': 64, 'use_gsl': 0}}, 'learning_rate': 0.001, 'weight_decay': 0, 'loss': 'mse_with_regularizer'}}}\n",
      "\u001b[31m[2025-03-20 01:16:31,484 INFO]\u001b[0mUsing device: cuda\n",
      "\u001b[31m[2025-03-20 01:16:31,492 INFO]\u001b[0mStarting training for 50 epochs...\n"
     ]
    },
    {
     "name": "stdout",
     "output_type": "stream",
     "text": [
      "TGCN\n"
     ]
    },
    {
     "name": "stderr",
     "output_type": "stream",
     "text": [
      "\u001b[31m[2025-03-20 01:16:32,574 INFO]\u001b[0m[Epoch 1/50] Train Loss: 2551.107982, Val Loss: 22101220.000000, RMSE: 16.545910, MAE: 12.872609, Accuracy: 0.7184, R2: 0.2063, Expl.Var: 0.3704\n",
      "\u001b[31m[2025-03-20 01:16:42,871 INFO]\u001b[0m[Epoch 11/50] Train Loss: 235.458262, Val Loss: 8016692.000000, RMSE: 9.965065, MAE: 7.084861, Accuracy: 0.8304, R2: 0.4837, Expl.Var: 0.4843\n",
      "\u001b[31m[2025-03-20 01:16:52,963 INFO]\u001b[0m[Epoch 21/50] Train Loss: 173.613949, Val Loss: 5665826.500000, RMSE: 8.377494, MAE: 5.836537, Accuracy: 0.8574, R2: 0.6347, Expl.Var: 0.6347\n",
      "\u001b[31m[2025-03-20 01:17:03,388 INFO]\u001b[0m[Epoch 31/50] Train Loss: 147.563591, Val Loss: 4777217.500000, RMSE: 7.692544, MAE: 5.333383, Accuracy: 0.8691, R2: 0.6921, Expl.Var: 0.6922\n",
      "\u001b[31m[2025-03-20 01:17:13,503 INFO]\u001b[0m[Epoch 41/50] Train Loss: 131.010524, Val Loss: 4241721.000000, RMSE: 7.248590, MAE: 4.976371, Accuracy: 0.8766, R2: 0.7267, Expl.Var: 0.7270\n",
      "\u001b[31m[2025-03-20 01:17:22,674 INFO]\u001b[0m[Epoch 50/50] Train Loss: 120.788007, Val Loss: 3910437.250000, RMSE: 6.959774, MAE: 4.838390, Accuracy: 0.8815, R2: 0.7481, Expl.Var: 0.7487\n",
      "\u001b[31m[2025-03-20 01:17:22,678 INFO]\u001b[0mModel saved to trained-models/losloop_TGCN_seq12_pre2_gsl0.pt\n",
      "\u001b[31m[2025-03-20 01:17:22,678 INFO]\u001b[0mFinished training!\n",
      "\n",
      "\u001b[31m[2025-03-20 01:17:22,693 INFO]\u001b[0mLoaded config from configs/tgcn-los-gsl-pre_len2.yaml: {'fit': {'trainer': {'max_epochs': 50, 'accelerator': 'cuda', 'devices': 1}, 'data': {'dataset_name': 'losloop', 'batch_size': 64, 'seq_len': 12, 'pre_len': 2}, 'model': {'model': {'class_path': 'models.TGCN', 'init_args': {'hidden_dim': 64, 'use_gsl': 1}}, 'learning_rate': 0.001, 'weight_decay': 0, 'loss': 'mse_with_regularizer'}}}\n",
      "\u001b[31m[2025-03-20 01:17:22,833 INFO]\u001b[0mUsing device: cuda\n",
      "\u001b[31m[2025-03-20 01:17:22,835 INFO]\u001b[0mStarting training for 50 epochs...\n"
     ]
    },
    {
     "name": "stdout",
     "output_type": "stream",
     "text": [
      "File data/W_est_losloop_pre_len2.npy found. Loading existing adjacency matrix estimated by GSL from training data.\n",
      "GSL computed: Only GSL\n"
     ]
    },
    {
     "name": "stderr",
     "output_type": "stream",
     "text": [
      "\u001b[31m[2025-03-20 01:17:23,866 INFO]\u001b[0m[Epoch 1/50] Train Loss: 2593.785552, Val Loss: 25614992.000000, RMSE: 17.812695, MAE: 13.286761, Accuracy: 0.6968, R2: -0.0906, Expl.Var: -0.1372\n",
      "\u001b[31m[2025-03-20 01:17:34,251 INFO]\u001b[0m[Epoch 11/50] Train Loss: 139.387148, Val Loss: 4480797.000000, RMSE: 7.450067, MAE: 4.830361, Accuracy: 0.8732, R2: 0.7119, Expl.Var: 0.7138\n",
      "\u001b[31m[2025-03-20 01:17:44,308 INFO]\u001b[0m[Epoch 21/50] Train Loss: 102.562290, Val Loss: 3377663.250000, RMSE: 6.468307, MAE: 4.020167, Accuracy: 0.8899, R2: 0.7825, Expl.Var: 0.7834\n",
      "\u001b[31m[2025-03-20 01:17:54,316 INFO]\u001b[0m[Epoch 31/50] Train Loss: 83.732713, Val Loss: 2778798.500000, RMSE: 5.866931, MAE: 3.646541, Accuracy: 0.9001, R2: 0.8209, Expl.Var: 0.8209\n",
      "\u001b[31m[2025-03-20 01:18:04,337 INFO]\u001b[0m[Epoch 41/50] Train Loss: 73.292917, Val Loss: 2485625.250000, RMSE: 5.548816, MAE: 3.349482, Accuracy: 0.9055, R2: 0.8400, Expl.Var: 0.8414\n",
      "\u001b[31m[2025-03-20 01:18:13,286 INFO]\u001b[0m[Epoch 50/50] Train Loss: 68.910686, Val Loss: 2354486.250000, RMSE: 5.400458, MAE: 3.410476, Accuracy: 0.9081, R2: 0.8485, Expl.Var: 0.8500\n",
      "\u001b[31m[2025-03-20 01:18:13,286 INFO]\u001b[0mModel saved to trained-models/losloop_TGCN_seq12_pre2_gsl1.pt\n",
      "\u001b[31m[2025-03-20 01:18:13,286 INFO]\u001b[0mFinished training!\n",
      "\n",
      "\u001b[31m[2025-03-20 01:18:13,308 INFO]\u001b[0mLoaded config from configs/tgcn-los-gsl-dcg-pre_len2.yaml: {'fit': {'trainer': {'max_epochs': 50, 'accelerator': 'cuda', 'devices': 1}, 'data': {'dataset_name': 'losloop', 'batch_size': 64, 'seq_len': 12, 'pre_len': 2}, 'model': {'model': {'class_path': 'models.TGCN', 'init_args': {'hidden_dim': 64, 'use_gsl': 2}}, 'learning_rate': 0.001, 'weight_decay': 0, 'loss': 'mse_with_regularizer'}}}\n",
      "\u001b[31m[2025-03-20 01:18:13,458 INFO]\u001b[0mUsing device: cuda\n",
      "\u001b[31m[2025-03-20 01:18:13,460 INFO]\u001b[0mStarting training for 50 epochs...\n"
     ]
    },
    {
     "name": "stdout",
     "output_type": "stream",
     "text": [
      "File data/W_est_losloop_pre_len2.npy found. Loading existing adjacency matrix estimated by GSL from training data.\n",
      "GSL computed: GSL+Adj\n"
     ]
    },
    {
     "name": "stderr",
     "output_type": "stream",
     "text": [
      "\u001b[31m[2025-03-20 01:18:14,512 INFO]\u001b[0m[Epoch 1/50] Train Loss: 2553.527185, Val Loss: 22265304.000000, RMSE: 16.607216, MAE: 12.866159, Accuracy: 0.7173, R2: 0.1972, Expl.Var: 0.3525\n",
      "\u001b[31m[2025-03-20 01:18:24,738 INFO]\u001b[0m[Epoch 11/50] Train Loss: 240.868618, Val Loss: 8131115.500000, RMSE: 10.035929, MAE: 7.154685, Accuracy: 0.8292, R2: 0.4763, Expl.Var: 0.4768\n",
      "\u001b[31m[2025-03-20 01:18:34,978 INFO]\u001b[0m[Epoch 21/50] Train Loss: 173.264291, Val Loss: 5622172.500000, RMSE: 8.345159, MAE: 5.824179, Accuracy: 0.8579, R2: 0.6376, Expl.Var: 0.6377\n",
      "\u001b[31m[2025-03-20 01:18:45,064 INFO]\u001b[0m[Epoch 31/50] Train Loss: 146.576822, Val Loss: 4726560.500000, RMSE: 7.651650, MAE: 5.325992, Accuracy: 0.8698, R2: 0.6953, Expl.Var: 0.6954\n",
      "\u001b[31m[2025-03-20 01:18:55,168 INFO]\u001b[0m[Epoch 41/50] Train Loss: 130.041123, Val Loss: 4195291.500000, RMSE: 7.208810, MAE: 4.979330, Accuracy: 0.8773, R2: 0.7296, Expl.Var: 0.7299\n",
      "\u001b[31m[2025-03-20 01:19:04,210 INFO]\u001b[0m[Epoch 50/50] Train Loss: 119.444212, Val Loss: 3860238.500000, RMSE: 6.914958, MAE: 4.830036, Accuracy: 0.8823, R2: 0.7514, Expl.Var: 0.7521\n",
      "\u001b[31m[2025-03-20 01:19:04,216 INFO]\u001b[0mModel saved to trained-models/losloop_TGCN_seq12_pre2_gsl2.pt\n",
      "\u001b[31m[2025-03-20 01:19:04,216 INFO]\u001b[0mFinished training!\n",
      "\n",
      "\u001b[31m[2025-03-20 01:19:04,228 INFO]\u001b[0mLoaded config from configs/tgcn-los-pre_len3.yaml: {'fit': {'trainer': {'max_epochs': 50, 'accelerator': 'cuda', 'devices': 1}, 'data': {'dataset_name': 'losloop', 'batch_size': 64, 'seq_len': 12, 'pre_len': 3}, 'model': {'model': {'class_path': 'models.TGCN', 'init_args': {'hidden_dim': 64, 'use_gsl': 0}}, 'learning_rate': 0.001, 'weight_decay': 0, 'loss': 'mse_with_regularizer'}}}\n",
      "\u001b[31m[2025-03-20 01:19:04,374 INFO]\u001b[0mUsing device: cuda\n",
      "\u001b[31m[2025-03-20 01:19:04,377 INFO]\u001b[0mStarting training for 50 epochs...\n"
     ]
    },
    {
     "name": "stdout",
     "output_type": "stream",
     "text": [
      "TGCN\n"
     ]
    },
    {
     "name": "stderr",
     "output_type": "stream",
     "text": [
      "\u001b[31m[2025-03-20 01:19:05,393 INFO]\u001b[0m[Epoch 1/50] Train Loss: 5975.527014, Val Loss: 32249282.000000, RMSE: 16.340090, MAE: 12.598639, Accuracy: 0.7218, R2: 0.1883, Expl.Var: 0.3220\n",
      "\u001b[31m[2025-03-20 01:19:15,503 INFO]\u001b[0m[Epoch 11/50] Train Loss: 373.395498, Val Loss: 12700180.000000, RMSE: 10.254142, MAE: 7.378126, Accuracy: 0.8254, R2: 0.4535, Expl.Var: 0.4535\n",
      "\u001b[31m[2025-03-20 01:19:25,522 INFO]\u001b[0m[Epoch 21/50] Train Loss: 294.635658, Val Loss: 9718177.000000, RMSE: 8.969883, MAE: 6.308595, Accuracy: 0.8473, R2: 0.5818, Expl.Var: 0.5818\n",
      "\u001b[31m[2025-03-20 01:19:35,619 INFO]\u001b[0m[Epoch 31/50] Train Loss: 244.597288, Val Loss: 8024870.000000, RMSE: 8.151047, MAE: 5.598724, Accuracy: 0.8612, R2: 0.6547, Expl.Var: 0.6547\n",
      "\u001b[31m[2025-03-20 01:19:45,688 INFO]\u001b[0m[Epoch 41/50] Train Loss: 217.218102, Val Loss: 7140357.000000, RMSE: 7.688725, MAE: 5.342566, Accuracy: 0.8691, R2: 0.6934, Expl.Var: 0.6949\n",
      "\u001b[31m[2025-03-20 01:19:54,907 INFO]\u001b[0m[Epoch 50/50] Train Loss: 200.972167, Val Loss: 6543770.000000, RMSE: 7.360518, MAE: 5.052888, Accuracy: 0.8747, R2: 0.7185, Expl.Var: 0.7186\n",
      "\u001b[31m[2025-03-20 01:19:54,916 INFO]\u001b[0mModel saved to trained-models/losloop_TGCN_seq12_pre3_gsl0.pt\n",
      "\u001b[31m[2025-03-20 01:19:54,919 INFO]\u001b[0mFinished training!\n",
      "\n",
      "\u001b[31m[2025-03-20 01:19:54,928 INFO]\u001b[0mLoaded config from configs/tgcn-los-gsl-pre_len3.yaml: {'fit': {'trainer': {'max_epochs': 50, 'accelerator': 'cuda', 'devices': 1}, 'data': {'dataset_name': 'losloop', 'batch_size': 64, 'seq_len': 12, 'pre_len': 3}, 'model': {'model': {'class_path': 'models.TGCN', 'init_args': {'hidden_dim': 64, 'use_gsl': 1}}, 'learning_rate': 0.001, 'weight_decay': 0, 'loss': 'mse_with_regularizer'}}}\n",
      "\u001b[31m[2025-03-20 01:19:55,067 INFO]\u001b[0mUsing device: cuda\n",
      "\u001b[31m[2025-03-20 01:19:55,071 INFO]\u001b[0mStarting training for 50 epochs...\n"
     ]
    },
    {
     "name": "stdout",
     "output_type": "stream",
     "text": [
      "File data/W_est_losloop_pre_len3.npy found. Loading existing adjacency matrix estimated by GSL from training data.\n",
      "GSL computed: Only GSL\n"
     ]
    },
    {
     "name": "stderr",
     "output_type": "stream",
     "text": [
      "\u001b[31m[2025-03-20 01:19:56,100 INFO]\u001b[0m[Epoch 1/50] Train Loss: 6043.095129, Val Loss: 43058568.000000, RMSE: 18.880964, MAE: 13.684561, Accuracy: 0.6786, R2: -0.2729, Expl.Var: -0.3973\n",
      "\u001b[31m[2025-03-20 01:20:06,140 INFO]\u001b[0m[Epoch 11/50] Train Loss: 271.827138, Val Loss: 8445623.000000, RMSE: 8.362001, MAE: 5.437482, Accuracy: 0.8576, R2: 0.6368, Expl.Var: 0.6373\n",
      "\u001b[31m[2025-03-20 01:20:16,106 INFO]\u001b[0m[Epoch 21/50] Train Loss: 177.040565, Val Loss: 5871422.500000, RMSE: 6.972139, MAE: 4.330657, Accuracy: 0.8813, R2: 0.7474, Expl.Var: 0.7478\n",
      "\u001b[31m[2025-03-20 01:20:26,087 INFO]\u001b[0m[Epoch 31/50] Train Loss: 145.135429, Val Loss: 4925343.000000, RMSE: 6.385761, MAE: 3.883577, Accuracy: 0.8913, R2: 0.7883, Expl.Var: 0.7892\n",
      "\u001b[31m[2025-03-20 01:20:36,442 INFO]\u001b[0m[Epoch 41/50] Train Loss: 126.569740, Val Loss: 4375548.000000, RMSE: 6.018810, MAE: 3.731156, Accuracy: 0.8975, R2: 0.8118, Expl.Var: 0.8125\n",
      "\u001b[31m[2025-03-20 01:20:45,910 INFO]\u001b[0m[Epoch 50/50] Train Loss: 118.852611, Val Loss: 4127720.250000, RMSE: 5.845875, MAE: 3.467093, Accuracy: 0.9005, R2: 0.8224, Expl.Var: 0.8227\n",
      "\u001b[31m[2025-03-20 01:20:45,919 INFO]\u001b[0mModel saved to trained-models/losloop_TGCN_seq12_pre3_gsl1.pt\n",
      "\u001b[31m[2025-03-20 01:20:45,920 INFO]\u001b[0mFinished training!\n",
      "\n",
      "\u001b[31m[2025-03-20 01:20:45,936 INFO]\u001b[0mLoaded config from configs/tgcn-los-gsl-dcg-pre_len3.yaml: {'fit': {'trainer': {'max_epochs': 50, 'accelerator': 'cuda', 'devices': 1}, 'data': {'dataset_name': 'losloop', 'batch_size': 64, 'seq_len': 12, 'pre_len': 3}, 'model': {'model': {'class_path': 'models.TGCN', 'init_args': {'hidden_dim': 64, 'use_gsl': 2}}, 'learning_rate': 0.001, 'weight_decay': 0, 'loss': 'mse_with_regularizer'}}}\n",
      "\u001b[31m[2025-03-20 01:20:46,109 INFO]\u001b[0mUsing device: cuda\n",
      "\u001b[31m[2025-03-20 01:20:46,110 INFO]\u001b[0mStarting training for 50 epochs...\n"
     ]
    },
    {
     "name": "stdout",
     "output_type": "stream",
     "text": [
      "File data/W_est_losloop_pre_len3.npy found. Loading existing adjacency matrix estimated by GSL from training data.\n",
      "GSL computed: GSL+Adj\n"
     ]
    },
    {
     "name": "stderr",
     "output_type": "stream",
     "text": [
      "\u001b[31m[2025-03-20 01:20:47,500 INFO]\u001b[0m[Epoch 1/50] Train Loss: 5979.250416, Val Loss: 32744192.000000, RMSE: 16.464991, MAE: 12.663162, Accuracy: 0.7197, R2: 0.1735, Expl.Var: 0.2959\n",
      "\u001b[31m[2025-03-20 01:20:57,078 INFO]\u001b[0m[Epoch 11/50] Train Loss: 386.297914, Val Loss: 13017356.000000, RMSE: 10.381396, MAE: 7.477658, Accuracy: 0.8233, R2: 0.4398, Expl.Var: 0.4398\n",
      "\u001b[31m[2025-03-20 01:21:06,210 INFO]\u001b[0m[Epoch 21/50] Train Loss: 294.756357, Val Loss: 9638410.000000, RMSE: 8.932995, MAE: 6.317088, Accuracy: 0.8479, R2: 0.5852, Expl.Var: 0.5853\n",
      "\u001b[31m[2025-03-20 01:21:15,793 INFO]\u001b[0m[Epoch 31/50] Train Loss: 242.084971, Val Loss: 7939920.500000, RMSE: 8.107790, MAE: 5.569749, Accuracy: 0.8620, R2: 0.6584, Expl.Var: 0.6585\n",
      "\u001b[31m[2025-03-20 01:21:25,182 INFO]\u001b[0m[Epoch 41/50] Train Loss: 215.930045, Val Loss: 7111023.000000, RMSE: 7.672915, MAE: 5.370074, Accuracy: 0.8694, R2: 0.6949, Expl.Var: 0.6969\n",
      "\u001b[31m[2025-03-20 01:21:33,381 INFO]\u001b[0m[Epoch 50/50] Train Loss: 199.531939, Val Loss: 6491084.000000, RMSE: 7.330828, MAE: 5.053781, Accuracy: 0.8752, R2: 0.7208, Expl.Var: 0.7210\n",
      "\u001b[31m[2025-03-20 01:21:33,388 INFO]\u001b[0mModel saved to trained-models/losloop_TGCN_seq12_pre3_gsl2.pt\n",
      "\u001b[31m[2025-03-20 01:21:33,388 INFO]\u001b[0mFinished training!\n",
      "\n",
      "\u001b[31m[2025-03-20 01:21:33,402 INFO]\u001b[0mLoaded config from configs/tgcn-los-pre_len4.yaml: {'fit': {'trainer': {'max_epochs': 50, 'accelerator': 'cuda', 'devices': 1}, 'data': {'dataset_name': 'losloop', 'batch_size': 64, 'seq_len': 12, 'pre_len': 4}, 'model': {'model': {'class_path': 'models.TGCN', 'init_args': {'hidden_dim': 64, 'use_gsl': 0}}, 'learning_rate': 0.001, 'weight_decay': 0, 'loss': 'mse_with_regularizer'}}}\n",
      "\u001b[31m[2025-03-20 01:21:33,516 INFO]\u001b[0mUsing device: cuda\n",
      "\u001b[31m[2025-03-20 01:21:33,529 INFO]\u001b[0mStarting training for 50 epochs...\n"
     ]
    },
    {
     "name": "stdout",
     "output_type": "stream",
     "text": [
      "TGCN\n"
     ]
    },
    {
     "name": "stderr",
     "output_type": "stream",
     "text": [
      "\u001b[31m[2025-03-20 01:21:34,505 INFO]\u001b[0m[Epoch 1/50] Train Loss: 6778.211318, Val Loss: 47248048.000000, RMSE: 17.150465, MAE: 13.151768, Accuracy: 0.7080, R2: 0.1443, Expl.Var: 0.2576\n",
      "\u001b[31m[2025-03-20 01:21:43,513 INFO]\u001b[0m[Epoch 11/50] Train Loss: 499.725946, Val Loss: 17182340.000000, RMSE: 10.342490, MAE: 7.362521, Accuracy: 0.8239, R2: 0.4450, Expl.Var: 0.4452\n",
      "\u001b[31m[2025-03-20 01:21:52,611 INFO]\u001b[0m[Epoch 21/50] Train Loss: 379.989653, Val Loss: 12657210.000000, RMSE: 8.876729, MAE: 6.145161, Accuracy: 0.8489, R2: 0.5909, Expl.Var: 0.5909\n",
      "\u001b[31m[2025-03-20 01:22:02,260 INFO]\u001b[0m[Epoch 31/50] Train Loss: 330.156089, Val Loss: 10905120.000000, RMSE: 8.239469, MAE: 5.664052, Accuracy: 0.8597, R2: 0.6476, Expl.Var: 0.6478\n",
      "\u001b[31m[2025-03-20 01:22:12,618 INFO]\u001b[0m[Epoch 41/50] Train Loss: 299.326721, Val Loss: 9868780.000000, RMSE: 7.838189, MAE: 5.322256, Accuracy: 0.8665, R2: 0.6811, Expl.Var: 0.6812\n",
      "\u001b[31m[2025-03-20 01:22:21,784 INFO]\u001b[0m[Epoch 50/50] Train Loss: 279.900671, Val Loss: 9200890.000000, RMSE: 7.568310, MAE: 5.165541, Accuracy: 0.8711, R2: 0.7027, Expl.Var: 0.7028\n",
      "\u001b[31m[2025-03-20 01:22:21,784 INFO]\u001b[0mModel saved to trained-models/losloop_TGCN_seq12_pre4_gsl0.pt\n",
      "\u001b[31m[2025-03-20 01:22:21,784 INFO]\u001b[0mFinished training!\n",
      "\n",
      "\u001b[31m[2025-03-20 01:22:21,801 INFO]\u001b[0mLoaded config from configs/tgcn-los-gsl-pre_len4.yaml: {'fit': {'trainer': {'max_epochs': 50, 'accelerator': 'cuda', 'devices': 1}, 'data': {'dataset_name': 'losloop', 'batch_size': 64, 'seq_len': 12, 'pre_len': 4}, 'model': {'model': {'class_path': 'models.TGCN', 'init_args': {'hidden_dim': 64, 'use_gsl': 1}}, 'learning_rate': 0.001, 'weight_decay': 0, 'loss': 'mse_with_regularizer'}}}\n",
      "\u001b[31m[2025-03-20 01:22:21,937 INFO]\u001b[0mUsing device: cuda\n",
      "\u001b[31m[2025-03-20 01:22:21,944 INFO]\u001b[0mStarting training for 50 epochs...\n"
     ]
    },
    {
     "name": "stdout",
     "output_type": "stream",
     "text": [
      "File data/W_est_losloop_pre_len4.npy found. Loading existing adjacency matrix estimated by GSL from training data.\n",
      "GSL computed: Only GSL\n"
     ]
    },
    {
     "name": "stderr",
     "output_type": "stream",
     "text": [
      "\u001b[31m[2025-03-20 01:22:23,007 INFO]\u001b[0m[Epoch 1/50] Train Loss: 6929.411973, Val Loss: 61636232.000000, RMSE: 19.588537, MAE: 14.194361, Accuracy: 0.6665, R2: -0.3686, Expl.Var: -0.5365\n",
      "\u001b[31m[2025-03-20 01:22:33,373 INFO]\u001b[0m[Epoch 11/50] Train Loss: 387.919924, Val Loss: 12234973.000000, RMSE: 8.727412, MAE: 5.769040, Accuracy: 0.8514, R2: 0.6048, Expl.Var: 0.6051\n",
      "\u001b[31m[2025-03-20 01:22:43,650 INFO]\u001b[0m[Epoch 21/50] Train Loss: 248.716331, Val Loss: 8405551.000000, RMSE: 7.233809, MAE: 4.468880, Accuracy: 0.8768, R2: 0.7287, Expl.Var: 0.7297\n",
      "\u001b[31m[2025-03-20 01:22:53,865 INFO]\u001b[0m[Epoch 31/50] Train Loss: 203.998822, Val Loss: 7065628.000000, RMSE: 6.632227, MAE: 4.090346, Accuracy: 0.8871, R2: 0.7717, Expl.Var: 0.7717\n",
      "\u001b[31m[2025-03-20 01:23:03,967 INFO]\u001b[0m[Epoch 41/50] Train Loss: 186.509908, Val Loss: 6552608.500000, RMSE: 6.386914, MAE: 3.811663, Accuracy: 0.8913, R2: 0.7883, Expl.Var: 0.7886\n",
      "\u001b[31m[2025-03-20 01:23:12,633 INFO]\u001b[0m[Epoch 50/50] Train Loss: 179.453769, Val Loss: 6288452.000000, RMSE: 6.256851, MAE: 3.804591, Accuracy: 0.8935, R2: 0.7968, Expl.Var: 0.7970\n",
      "\u001b[31m[2025-03-20 01:23:12,633 INFO]\u001b[0mModel saved to trained-models/losloop_TGCN_seq12_pre4_gsl1.pt\n",
      "\u001b[31m[2025-03-20 01:23:12,644 INFO]\u001b[0mFinished training!\n",
      "\n",
      "\u001b[31m[2025-03-20 01:23:12,656 INFO]\u001b[0mLoaded config from configs/tgcn-los-gsl-dcg-pre_len4.yaml: {'fit': {'trainer': {'max_epochs': 50, 'accelerator': 'cuda', 'devices': 1}, 'data': {'dataset_name': 'losloop', 'batch_size': 64, 'seq_len': 12, 'pre_len': 4}, 'model': {'model': {'class_path': 'models.TGCN', 'init_args': {'hidden_dim': 64, 'use_gsl': 2}}, 'learning_rate': 0.001, 'weight_decay': 0, 'loss': 'mse_with_regularizer'}}}\n",
      "\u001b[31m[2025-03-20 01:23:12,782 INFO]\u001b[0mUsing device: cuda\n",
      "\u001b[31m[2025-03-20 01:23:12,786 INFO]\u001b[0mStarting training for 50 epochs...\n"
     ]
    },
    {
     "name": "stdout",
     "output_type": "stream",
     "text": [
      "File data/W_est_losloop_pre_len4.npy found. Loading existing adjacency matrix estimated by GSL from training data.\n",
      "GSL computed: GSL+Adj\n"
     ]
    },
    {
     "name": "stderr",
     "output_type": "stream",
     "text": [
      "\u001b[31m[2025-03-20 01:23:13,718 INFO]\u001b[0m[Epoch 1/50] Train Loss: 6786.746448, Val Loss: 48238924.000000, RMSE: 17.329370, MAE: 13.221812, Accuracy: 0.7050, R2: 0.1199, Expl.Var: 0.2125\n",
      "\u001b[31m[2025-03-20 01:23:23,084 INFO]\u001b[0m[Epoch 11/50] Train Loss: 525.462556, Val Loss: 17812280.000000, RMSE: 10.530373, MAE: 7.492685, Accuracy: 0.8207, R2: 0.4245, Expl.Var: 0.4246\n",
      "\u001b[31m[2025-03-20 01:23:32,409 INFO]\u001b[0m[Epoch 21/50] Train Loss: 375.161494, Val Loss: 12433444.000000, RMSE: 8.797914, MAE: 6.113583, Accuracy: 0.8502, R2: 0.5983, Expl.Var: 0.5984\n",
      "\u001b[31m[2025-03-20 01:23:41,699 INFO]\u001b[0m[Epoch 31/50] Train Loss: 328.410177, Val Loss: 10836886.000000, RMSE: 8.213651, MAE: 5.681320, Accuracy: 0.8602, R2: 0.6500, Expl.Var: 0.6504\n",
      "\u001b[31m[2025-03-20 01:23:50,899 INFO]\u001b[0m[Epoch 41/50] Train Loss: 298.577363, Val Loss: 9834196.000000, RMSE: 7.824442, MAE: 5.324487, Accuracy: 0.8668, R2: 0.6822, Expl.Var: 0.6824\n",
      "\u001b[31m[2025-03-20 01:23:59,008 INFO]\u001b[0m[Epoch 50/50] Train Loss: 278.112495, Val Loss: 9129491.000000, RMSE: 7.538888, MAE: 5.172353, Accuracy: 0.8716, R2: 0.7051, Expl.Var: 0.7055\n",
      "\u001b[31m[2025-03-20 01:23:59,008 INFO]\u001b[0mModel saved to trained-models/losloop_TGCN_seq12_pre4_gsl2.pt\n",
      "\u001b[31m[2025-03-20 01:23:59,013 INFO]\u001b[0mFinished training!\n",
      "\n"
     ]
    },
    {
     "name": "stdout",
     "output_type": "stream",
     "text": [
      "CPU times: total: 22min 24s\n",
      "Wall time: 25min 15s\n"
     ]
    }
   ],
   "source": [
    "%%time\n",
    "\n",
    "datasets = ['sz', 'los'] #  sz=shenzhen, los=losloop\n",
    "pred_list = [1, 2, 3, 4]\n",
    "\n",
    "for  dataset in datasets:\n",
    "    for pre_len in pred_list:\n",
    "        %run main.py --config configs/tgcn-{dataset}-pre_len{pre_len}.yaml\n",
    "        %run main.py --config configs/tgcn-{dataset}-gsl-pre_len{pre_len}.yaml\n",
    "        %run main.py --config configs/tgcn-{dataset}-gsl-dcg-pre_len{pre_len}.yaml"
   ]
  },
  {
   "cell_type": "code",
   "execution_count": 1,
   "metadata": {
    "colab": {
     "base_uri": "https://localhost:8080/",
     "height": 17
    },
    "id": "iQTnpyBEojA_",
    "outputId": "aeae8ede-84bd-4bc7-ebcc-ca0fdc8a5f08"
   },
   "outputs": [],
   "source": [
    "import pandas as pd\n",
    "import matplotlib.pyplot as plt\n",
    "import os\n",
    "import shutil\n",
    "\n",
    "# Set global font size to 3x the default size\n",
    "plt.rcParams.update({'font.size': 30})  # Default is usually around 10, so 30 is 3x\n",
    "\n",
    "model_cls_name = 'TGCN'\n",
    "# Define the prediction lengths and measures\n",
    "pred_list = [1, 2, 3, 4]\n",
    "measures = [\"RMSE\", \"MAE\", \"Accuracy\", \"R2\"]\n",
    "datasets = ['shenzhen', 'losloop']\n",
    "\n",
    "# Define a color palette for each method\n",
    "colors = plt.cm.tab10.colors  # Using a predefined color palette (10 distinct colors)\n",
    "method_colors = {\n",
    "    \"TGCN\": colors[0],           # T-GCN (Default)\n",
    "    \"TGCN-GSL\": colors[1],  # T-GCN (GSL Only)\n",
    "    \"TGCN-cGSL\": colors[2], # TGCN-cGSL\n",
    "}\n",
    "\n",
    "# Define line styles for each method\n",
    "line_styles = {\n",
    "    \"TGCN\": \"--\",                # Dashed for T-GCN (Default)\n",
    "    \"TGCN-GSL\": \"-\",       # Solid for T-GCN (GSL Only)\n",
    "    \"TGCN-cGSL\": \":\",      # Dotted for TGCN-cGSL\n",
    "}\n",
    "\n",
    "# Define markers for each method\n",
    "markers = {\n",
    "    \"TGCN\": \"o\",                 # Circle for T-GCN (Default)\n",
    "    \"TGCN-GSL\": \"s\",       # Square for T-GCN (GSL Only)\n",
    "    \"TGCN-cGSL\": \"D\",      # Diamond for TGCN-cGSL\n",
    "}\n",
    "\n",
    "# Ensure the results directory exists\n",
    "os.makedirs(\"results\", exist_ok=True)\n",
    "\n",
    "# Loop through each dataset\n",
    "for dataset in datasets:\n",
    "    # Loop through each measure\n",
    "    for measure in measures:\n",
    "        # Loop through each pre_len in pred_list\n",
    "        for pre_len in pred_list:\n",
    "            # Create a new figure for each pre_len and measure\n",
    "            plt.figure(figsize=(18, 14))  # Further increased figure size for 3x text\n",
    "\n",
    "            # Load the metrics for T-GCN (Default) for comparison\n",
    "            metrics_file_tgcn = f\"results/{model_cls_name}/metrics_{dataset}_seq12_pre{pre_len}_gsl0.csv\"\n",
    "            metrics_df_tgcn = pd.read_csv(metrics_file_tgcn)\n",
    "\n",
    "            # Loop through each method\n",
    "            for method, color in method_colors.items():\n",
    "                # Map method names to their corresponding file suffixes\n",
    "                if method == \"TGCN\":\n",
    "                    file_suffix = \"gsl0\"\n",
    "                elif method == \"TGCN-GSL\":\n",
    "                    file_suffix = \"gsl1\"\n",
    "                elif method == \"TGCN-cGSL\":\n",
    "                    file_suffix = \"gsl2\"\n",
    "\n",
    "                # Generate the file path dynamically based on pre_len and method\n",
    "                metrics_file = f\"results/{model_cls_name}/metrics_{dataset}_seq12_pre{pre_len}_{file_suffix}.csv\"\n",
    "\n",
    "                # Load the metrics CSV file\n",
    "                metrics_df = pd.read_csv(metrics_file)\n",
    "\n",
    "                # Plot the current measure for the current method\n",
    "                plt.plot(\n",
    "                    metrics_df[\"Epoch\"],\n",
    "                    metrics_df[measure],\n",
    "                    linestyle=line_styles[method],\n",
    "                    marker=markers[method],\n",
    "                    color=color,\n",
    "                    label=f\"{method}\", # (pre_len={pre_len})\n",
    "                    linewidth=4.5,      # Increased line width even more (3x)\n",
    "                    markersize=15       # Increased marker size even more (3x)\n",
    "                )\n",
    "\n",
    "                # Highlight the first epoch where the current method is better than T-GCN (Default)\n",
    "                if method != \"TGCN\":  # Skip comparison for T-GCN (Default)\n",
    "                    better_epoch = None\n",
    "                    for epoch in range(len(metrics_df)):\n",
    "                        tgcn_value = metrics_df_tgcn.loc[epoch, measure]\n",
    "                        current_value = metrics_df.loc[epoch, measure]\n",
    "\n",
    "                        # Check if the current method is better than T-GCN (Default)\n",
    "                        if measure in [\"RMSE\", \"MAE\"]:\n",
    "                            if current_value < tgcn_value:  # Lower is better\n",
    "                                better_epoch = epoch + 1  # Epochs are 1-indexed\n",
    "                                break\n",
    "                        else:\n",
    "                            if current_value > tgcn_value:  # Higher is better\n",
    "                                better_epoch = epoch + 1\n",
    "                                break\n",
    "\n",
    "                    # Highlight the first epoch where the current method is better\n",
    "                    if better_epoch is not None:\n",
    "                        plt.axvline(\n",
    "                            x=better_epoch,\n",
    "                            color=color,\n",
    "                            linestyle=\":\",\n",
    "                            alpha=0.5,\n",
    "                            linewidth=3,  # Increased line width for vertical line (3x)\n",
    "                            # label=f\"{method} better at epoch {better_epoch}\", # (pre_len={pre_len})\n",
    "                        )\n",
    "\n",
    "            # Add labels, title, legend, and grid with 3x larger font sizes\n",
    "            plt.xlabel(\"Epoch\", fontsize=36)\n",
    "            plt.ylabel(measure, fontsize=36)\n",
    "            plt.title(f\"{measure} over Epochs for {dataset} (pre_len={pre_len})\", fontsize=38)\n",
    "            plt.legend(fontsize=32, loc='best')  # Increased legend font size even more\n",
    "            # plt.grid(True)\n",
    "            \n",
    "            # Increase tick label font sizes even more\n",
    "            plt.xticks(fontsize=30)\n",
    "            plt.yticks(fontsize=30)\n",
    "            \n",
    "            # Adjust plot margins for better spacing with larger text\n",
    "            plt.tight_layout()\n",
    "\n",
    "            # Save the figure as a PDF file\n",
    "            filename = f\"results/{model_cls_name}/{dataset}_{measure}_pre{pre_len}.pdf\"\n",
    "            plt.savefig(filename, bbox_inches=\"tight\", format='pdf')\n",
    "            plt.close()  # Close the figure to free up memory"
   ]
  },
  {
   "cell_type": "code",
   "execution_count": 2,
   "metadata": {},
   "outputs": [
    {
     "name": "stdout",
     "output_type": "stream",
     "text": [
      "LaTeX table for shenzhen:\n",
      "\\begin{tabular}{clcccc}\n",
      "\\toprule\n",
      " PH &    Method &                    RMSE &                     MAE &                Accuracy &                      R2 \\\\\n",
      "\\midrule\n",
      "1.0 &      TGCN &                   4.866 &                   3.606 &                   0.661 &                   0.783 \\\\\n",
      "1.0 &  TGCN-GSL &          \\textbf{4.214} &          \\textbf{2.797} &          \\textbf{0.706} &          \\textbf{0.837} \\\\\n",
      "1.0 & TGCN-cGSL &                   4.821 &                   3.537 &                   0.664 &                   0.787 \\\\\n",
      "2.0 &      TGCN &                   4.506 &                   3.213 &                   0.686 &                   0.814 \\\\\n",
      "2.0 &  TGCN-GSL &          \\textbf{4.239} &          \\textbf{2.801} &          \\textbf{0.705} &          \\textbf{0.835} \\\\\n",
      "2.0 & TGCN-cGSL &                   4.534 &                   3.276 &                   0.684 &                   0.812 \\\\\n",
      "3.0 &      TGCN &                   4.685 &                   3.416 &                   0.674 &                   0.799 \\\\\n",
      "3.0 &  TGCN-GSL &          \\textbf{4.344} &          \\textbf{3.062} &          \\textbf{0.697} &          \\textbf{0.828} \\\\\n",
      "3.0 & TGCN-cGSL &                   4.630 &                   3.334 &                   0.677 &                   0.804 \\\\\n",
      "4.0 &      TGCN &                   4.934 &                   3.638 &                   0.656 &                   0.777 \\\\\n",
      "4.0 &  TGCN-GSL &          \\textbf{4.366} &          \\textbf{2.885} &          \\textbf{0.696} &          \\textbf{0.826} \\\\\n",
      "4.0 & TGCN-cGSL &                   4.774 &                   3.487 &                   0.667 &                   0.791 \\\\\n",
      "NaN &       NaN &                     9.5 &                    16.6 &                     4.8 &                     4.9 \\\\\n",
      "NaN &       NaN &                         &                         &                         &                         \\\\\n",
      "NaN &       NaN & Average Improvement (%) & Average Improvement (%) & Average Improvement (%) & Average Improvement (%) \\\\\n",
      "\\bottomrule\n",
      "\\end{tabular}\n",
      "\n",
      "LaTeX table for losloop:\n",
      "\\begin{tabular}{clcccc}\n",
      "\\toprule\n",
      " PH &    Method &                    RMSE &                     MAE &                Accuracy &                      R2 \\\\\n",
      "\\midrule\n",
      "1.0 &      TGCN &                   6.588 &                   4.573 &                   0.888 &                   0.774 \\\\\n",
      "1.0 &  TGCN-GSL &          \\textbf{4.818} &          \\textbf{2.980} &          \\textbf{0.918} &          \\textbf{0.879} \\\\\n",
      "1.0 & TGCN-cGSL &                   6.550 &                   4.553 &                   0.889 &                   0.776 \\\\\n",
      "2.0 &      TGCN &                   6.960 &                   4.838 &                   0.882 &                   0.748 \\\\\n",
      "2.0 &  TGCN-GSL &          \\textbf{5.400} &          \\textbf{3.410} &          \\textbf{0.908} &          \\textbf{0.848} \\\\\n",
      "2.0 & TGCN-cGSL &                   6.915 &                   4.830 &                   0.882 &                   0.751 \\\\\n",
      "3.0 &      TGCN &                   7.361 &                   5.053 &                   0.875 &                   0.718 \\\\\n",
      "3.0 &  TGCN-GSL &          \\textbf{5.846} &          \\textbf{3.467} &          \\textbf{0.900} &          \\textbf{0.822} \\\\\n",
      "3.0 & TGCN-cGSL &                   7.331 &                   5.054 &                   0.875 &                   0.721 \\\\\n",
      "4.0 &      TGCN &                   7.568 &                   5.166 &                   0.871 &                   0.703 \\\\\n",
      "4.0 &  TGCN-GSL &          \\textbf{6.257} &          \\textbf{3.805} &          \\textbf{0.893} &          \\textbf{0.797} \\\\\n",
      "4.0 & TGCN-cGSL &                   7.539 &                   5.172 &                   0.872 &                   0.705 \\\\\n",
      "NaN &       NaN &                    21.8 &                    30.5 &                     3.0 &                    13.7 \\\\\n",
      "NaN &       NaN &                         &                         &                         &                         \\\\\n",
      "NaN &       NaN & Average Improvement (%) & Average Improvement (%) & Average Improvement (%) & Average Improvement (%) \\\\\n",
      "\\bottomrule\n",
      "\\end{tabular}\n",
      "\n"
     ]
    }
   ],
   "source": [
    "import pandas as pd\n",
    "import os\n",
    "\n",
    "model_cls_name = 'TGCN'\n",
    "# Define the prediction lengths and measures\n",
    "pred_list = [1, 2, 3, 4]\n",
    "measures = [\"RMSE\", \"MAE\", \"Accuracy\", \"R2\"]\n",
    "datasets = ['shenzhen', 'losloop']\n",
    "\n",
    "# Ensure the results directory exists\n",
    "os.makedirs(\"results\", exist_ok=True)\n",
    "\n",
    "# Loop through each dataset\n",
    "for dataset in datasets:\n",
    "    # Initialize a dictionary to store the results of the last epoch\n",
    "    results = {}\n",
    "\n",
    "    # Loop through each pre_len and measure to collect the last epoch results\n",
    "    for pre_len in pred_list:\n",
    "        # Generate the file paths dynamically based on pre_len and method\n",
    "        metrics_file_gsl0 = f\"results/{model_cls_name}/metrics_{dataset}_seq12_pre{pre_len}_gsl0.csv\"\n",
    "        metrics_file_gsl1 = f\"results/{model_cls_name}/metrics_{dataset}_seq12_pre{pre_len}_gsl1.csv\"\n",
    "        metrics_file_gsl2 = f\"results/{model_cls_name}/metrics_{dataset}_seq12_pre{pre_len}_gsl2.csv\"\n",
    "\n",
    "        # Load the metrics CSV files\n",
    "        metrics_df_gsl0 = pd.read_csv(metrics_file_gsl0)\n",
    "        metrics_df_gsl1 = pd.read_csv(metrics_file_gsl1)\n",
    "        metrics_df_gsl2 = pd.read_csv(metrics_file_gsl2)\n",
    "\n",
    "        # Get the last epoch results for all methods\n",
    "        last_epoch_gsl0 = metrics_df_gsl0.iloc[-1]  # Last row for gsl0 (TGCN)\n",
    "        last_epoch_gsl1 = metrics_df_gsl1.iloc[-1]  # Last row for gsl1 (TGCN GSL Only)\n",
    "        last_epoch_gsl2 = metrics_df_gsl2.iloc[-1]  # Last row for gsl2 (TGCN GSL + Adj)\n",
    "\n",
    "        # Store the results in the dictionary with pre_len as part of the key\n",
    "        results[f\"TGCN (pre_len={pre_len})\"] = last_epoch_gsl0[measures]\n",
    "        results[f\"TGCN-GSL (pre_len={pre_len})\"] = last_epoch_gsl1[measures]\n",
    "        results[f\"TGCN-cGSL (pre_len={pre_len})\"] = last_epoch_gsl2[measures]\n",
    "\n",
    "    # Convert the results dictionary to a DataFrame\n",
    "    results_df = pd.DataFrame(results).T\n",
    "\n",
    "    # Add a column for pre_len to results_df\n",
    "    results_df[\"PH\"] = [pre_len for pre_len in pred_list for _ in range(3)] # 3 for add GSL+Adj\n",
    "\n",
    "    # Function to highlight the winner for each pre_len and measure\n",
    "    def highlight_winner(df):\n",
    "        highlighted_df = df.copy()\n",
    "        for pre_len in pred_list:\n",
    "            for measure in measures:\n",
    "                # Get the values for the three methods for the current pre_len\n",
    "                TGCN_value = df.loc[f\"TGCN (pre_len={pre_len})\", measure]\n",
    "                gsl_only_value = df.loc[f\"TGCN-GSL (pre_len={pre_len})\", measure]\n",
    "                gsl_dcg_value = df.loc[f\"TGCN-cGSL (pre_len={pre_len})\", measure]\n",
    "\n",
    "                # Determine the winner based on the measure\n",
    "                if measure in [\"RMSE\", \"MAE\"]:\n",
    "                    winner_value = min(TGCN_value, gsl_only_value, gsl_dcg_value)  # Lower is better\n",
    "                else:\n",
    "                    winner_value = max(TGCN_value, gsl_only_value, gsl_dcg_value)  # Higher is better\n",
    "\n",
    "                # Highlight the winner and round the values to 2 decimal places\n",
    "                if TGCN_value == winner_value:\n",
    "                    highlighted_df.loc[f\"TGCN (pre_len={pre_len})\", measure] = f\"\\\\textbf{{{TGCN_value:.3f}}}\"\n",
    "                else:\n",
    "                    highlighted_df.loc[f\"TGCN (pre_len={pre_len})\", measure] = f\"{TGCN_value:.3f}\"\n",
    "\n",
    "                if gsl_only_value == winner_value:\n",
    "                    highlighted_df.loc[f\"TGCN-GSL (pre_len={pre_len})\", measure] = f\"\\\\textbf{{{gsl_only_value:.3f}}}\"\n",
    "                else:\n",
    "                    highlighted_df.loc[f\"TGCN-GSL (pre_len={pre_len})\", measure] = f\"{gsl_only_value:.3f}\"\n",
    "\n",
    "                if gsl_dcg_value == winner_value:\n",
    "                    highlighted_df.loc[f\"TGCN-cGSL (pre_len={pre_len})\", measure] = f\"\\\\textbf{{{gsl_dcg_value:.3f}}}\"\n",
    "                else:\n",
    "                    highlighted_df.loc[f\"TGCN-cGSL (pre_len={pre_len})\", measure] = f\"{gsl_dcg_value:.3f}\"\n",
    "        return highlighted_df\n",
    "\n",
    "    # Apply the highlight function to the results DataFrame\n",
    "    highlighted_results = highlight_winner(results_df)\n",
    "\n",
    "    # Remove (pre_len={pre_len}) from method names\n",
    "    highlighted_results.index = highlighted_results.index.str.replace(r\" \\(pre_len=\\d+\\)\", \"\", regex=True)\n",
    "\n",
    "    # Add a column for method names\n",
    "    highlighted_results.insert(0, \"Method\", highlighted_results.index)\n",
    "\n",
    "    # Reorder columns to make PH the first column and method-name the second column\n",
    "    highlighted_results = highlighted_results[[\"PH\", \"Method\"] + measures]\n",
    "\n",
    "    # Calculate the average improvements of 'TGCN (GSL Only)' with respect to 'TGCN' for pre_len in [1, 2, 3]\n",
    "    improvements = {}\n",
    "    for measure in measures:\n",
    "        if measure in [\"RMSE\", \"MAE\"]:\n",
    "            improvements[measure] = ((results_df.loc[results_df.index.str.contains(\"TGCN \\(pre_len\") & results_df[\"PH\"].isin([1, 2, 3, 4]), measure].values - \n",
    "                                      results_df.loc[results_df.index.str.contains(\"TGCN-GSL\") & results_df[\"PH\"].isin([1, 2, 3, 4]), measure].values) / \n",
    "                                      results_df.loc[results_df.index.str.contains(\"TGCN \\(pre_len\") & results_df[\"PH\"].isin([1, 2, 3, 4]), measure].values * 100).mean()\n",
    "        else:\n",
    "            improvements[measure] = ((results_df.loc[results_df.index.str.contains(\"TGCN-GSL\") & results_df[\"PH\"].isin([1, 2, 3, 4]), measure].values - \n",
    "                                      results_df.loc[results_df.index.str.contains(\"TGCN \\(pre_len\") & results_df[\"PH\"].isin([1, 2, 3, 4]), measure].values) / \n",
    "                                      results_df.loc[results_df.index.str.contains(\"TGCN \\(pre_len\") & results_df[\"PH\"].isin([1, 2, 3, 4]), measure].values * 100).mean()\n",
    "\n",
    "    # Add the improvements row to the DataFrame\n",
    "    improvements_row = pd.DataFrame(improvements, index=[\"Average Improvement (%)\"]).T\n",
    "    improvements_row = improvements_row.round(1)\n",
    "    improvements_row[\"PH\"] = \"\"\n",
    "    improvements_row[\"Method\"] = \"Average Improvement (%)\"\n",
    "    highlighted_results = pd.concat([highlighted_results, improvements_row.T], ignore_index=True)\n",
    "\n",
    "    # Generate the LaTeX table\n",
    "    latex_table = highlighted_results.to_latex(\n",
    "        escape=False,\n",
    "        column_format=\"cl\" + \"c\" * len(measures),  # Updated column format\n",
    "        multicolumn_format=\"c\",\n",
    "        index=False  # Do not include the index in the LaTeX table\n",
    "    )\n",
    "\n",
    "    # Save the LaTeX table to a file\n",
    "    table_filename = f\"results/{model_cls_name}/{dataset}_results_table.tex\"\n",
    "    with open(table_filename, \"w\") as f:\n",
    "        f.write(latex_table)\n",
    "\n",
    "    # Print the LaTeX table\n",
    "    print(f\"LaTeX table for {dataset}:\")\n",
    "    print(latex_table)"
   ]
  },
  {
   "cell_type": "code",
   "execution_count": 3,
   "metadata": {},
   "outputs": [
    {
     "name": "stdout",
     "output_type": "stream",
     "text": [
      "LaTeX table for shenzhen:\n",
      "\n",
      "\\begin{table}[htbp]\n",
      "\\centering\n",
      "\\caption{Results for shenzhen: RMSE, MAE, Accuracy, and R2 for pre\\_len=1, 2, 3, 4.}\n",
      "\\begin{tabular}{|c|cccc|}\n",
      "\\hline\n",
      "pre\\_len & RMSE & MAE & Accuracy & R2 \\\\\n",
      "\\hline\n",
      "1 & \\includegraphics[width=0.2\\textwidth]{shenzhen_RMSE_pre1.pdf} & \\includegraphics[width=0.2\\textwidth]{shenzhen_MAE_pre1.pdf} & \\includegraphics[width=0.2\\textwidth]{shenzhen_Accuracy_pre1.pdf} & \\includegraphics[width=0.2\\textwidth]{shenzhen_R2_pre1.pdf} \\\\ \\hline\n",
      "2 & \\includegraphics[width=0.2\\textwidth]{shenzhen_RMSE_pre2.pdf} & \\includegraphics[width=0.2\\textwidth]{shenzhen_MAE_pre2.pdf} & \\includegraphics[width=0.2\\textwidth]{shenzhen_Accuracy_pre2.pdf} & \\includegraphics[width=0.2\\textwidth]{shenzhen_R2_pre2.pdf} \\\\ \\hline\n",
      "3 & \\includegraphics[width=0.2\\textwidth]{shenzhen_RMSE_pre3.pdf} & \\includegraphics[width=0.2\\textwidth]{shenzhen_MAE_pre3.pdf} & \\includegraphics[width=0.2\\textwidth]{shenzhen_Accuracy_pre3.pdf} & \\includegraphics[width=0.2\\textwidth]{shenzhen_R2_pre3.pdf} \\\\ \\hline\n",
      "4 & \\includegraphics[width=0.2\\textwidth]{shenzhen_RMSE_pre4.pdf} & \\includegraphics[width=0.2\\textwidth]{shenzhen_MAE_pre4.pdf} & \\includegraphics[width=0.2\\textwidth]{shenzhen_Accuracy_pre4.pdf} & \\includegraphics[width=0.2\\textwidth]{shenzhen_R2_pre4.pdf} \\\\ \\hline\n",
      "\n",
      "\\end{tabular}\n",
      "\\end{table}\n",
      "\n",
      "LaTeX table for losloop:\n",
      "\n",
      "\\begin{table}[htbp]\n",
      "\\centering\n",
      "\\caption{Results for losloop: RMSE, MAE, Accuracy, and R2 for pre\\_len=1, 2, 3, 4.}\n",
      "\\begin{tabular}{|c|cccc|}\n",
      "\\hline\n",
      "pre\\_len & RMSE & MAE & Accuracy & R2 \\\\\n",
      "\\hline\n",
      "1 & \\includegraphics[width=0.2\\textwidth]{losloop_RMSE_pre1.pdf} & \\includegraphics[width=0.2\\textwidth]{losloop_MAE_pre1.pdf} & \\includegraphics[width=0.2\\textwidth]{losloop_Accuracy_pre1.pdf} & \\includegraphics[width=0.2\\textwidth]{losloop_R2_pre1.pdf} \\\\ \\hline\n",
      "2 & \\includegraphics[width=0.2\\textwidth]{losloop_RMSE_pre2.pdf} & \\includegraphics[width=0.2\\textwidth]{losloop_MAE_pre2.pdf} & \\includegraphics[width=0.2\\textwidth]{losloop_Accuracy_pre2.pdf} & \\includegraphics[width=0.2\\textwidth]{losloop_R2_pre2.pdf} \\\\ \\hline\n",
      "3 & \\includegraphics[width=0.2\\textwidth]{losloop_RMSE_pre3.pdf} & \\includegraphics[width=0.2\\textwidth]{losloop_MAE_pre3.pdf} & \\includegraphics[width=0.2\\textwidth]{losloop_Accuracy_pre3.pdf} & \\includegraphics[width=0.2\\textwidth]{losloop_R2_pre3.pdf} \\\\ \\hline\n",
      "4 & \\includegraphics[width=0.2\\textwidth]{losloop_RMSE_pre4.pdf} & \\includegraphics[width=0.2\\textwidth]{losloop_MAE_pre4.pdf} & \\includegraphics[width=0.2\\textwidth]{losloop_Accuracy_pre4.pdf} & \\includegraphics[width=0.2\\textwidth]{losloop_R2_pre4.pdf} \\\\ \\hline\n",
      "\n",
      "\\end{tabular}\n",
      "\\end{table}\n",
      "\n"
     ]
    }
   ],
   "source": [
    "import os\n",
    "\n",
    "# Define the prediction lengths and measures\n",
    "pred_list = [1, 2, 3, 4]\n",
    "measures = [\"RMSE\", \"MAE\", \"Accuracy\", \"R2\"]\n",
    "datasets = [ 'shenzhen', 'losloop']\n",
    "\n",
    "# Ensure the results directory exists\n",
    "os.makedirs(\"results\", exist_ok=True)\n",
    "\n",
    "# Function to generate LaTeX table for a dataset\n",
    "def generate_latex_table(dataset):\n",
    "    latex_code = f\"\"\"\n",
    "\\\\begin{{table}}[htbp]\n",
    "\\\\centering\n",
    "\\\\caption{{Results for {dataset}: RMSE, MAE, Accuracy, and R2 for pre\\\\_len=1, 2, 3, 4.}}\n",
    "\\\\begin{{tabular}}{{|c|{'c' * len(measures)}|}}\n",
    "\\\\hline\n",
    "pre\\\\_len & {' & '.join(measures)} \\\\\\\\\n",
    "\\\\hline\n",
    "\"\"\"\n",
    "\n",
    "    for pre_len in pred_list:\n",
    "        row = f\"{pre_len} \"\n",
    "        for measure in measures:\n",
    "            image_path = f\"{dataset}_{measure}_pre{pre_len}.pdf\"\n",
    "            row += f\"& \\\\includegraphics[width=0.2\\\\textwidth]{{{image_path}}} \"\n",
    "        row += \"\\\\\\\\ \\\\hline\"\n",
    "        latex_code += row + \"\\n\"\n",
    "\n",
    "    latex_code += \"\"\"\n",
    "\\\\end{tabular}\n",
    "\\\\end{table}\n",
    "\"\"\"\n",
    "    return latex_code\n",
    "\n",
    "# Generate LaTeX tables for each dataset\n",
    "for dataset in datasets:\n",
    "    latex_table = generate_latex_table(dataset)\n",
    "    print(f\"LaTeX table for {dataset}:\")\n",
    "    print(latex_table)\n",
    "\n",
    "    # Save the LaTeX table to a file\n",
    "    table_filename = f\"results/{model_cls_name}_{dataset}_images_table.tex\"\n",
    "    with open(table_filename, \"w\") as f:\n",
    "        f.write(latex_table)"
   ]
  },
  {
   "cell_type": "code",
   "execution_count": 1,
   "metadata": {},
   "outputs": [
    {
     "name": "stderr",
     "output_type": "stream",
     "text": [
      "c:\\Users\\m.amintoosi\\.conda\\envs\\pth-gpu\\lib\\site-packages\\tqdm\\auto.py:21: TqdmWarning: IProgress not found. Please update jupyter and ipywidgets. See https://ipywidgets.readthedocs.io/en/stable/user_install.html\n",
      "  from .autonotebook import tqdm as notebook_tqdm\n",
      "\u001b[31m[2025-03-20 00:10:00,631 INFO]\u001b[0mLoaded config from configs/tgcn-sz-gsl-cdg-pre_len1.yaml: {'fit': {'trainer': {'max_epochs': 50, 'accelerator': 'cuda', 'devices': 1}, 'data': {'dataset_name': 'shenzhen', 'batch_size': 64, 'seq_len': 12, 'pre_len': 1}, 'model': {'model': {'class_path': 'models.TGCN', 'init_args': {'hidden_dim': 100, 'use_gsl': 3}}, 'learning_rate': 0.001, 'weight_decay': 0, 'loss': 'mse_with_regularizer'}}}\n",
      "\u001b[31m[2025-03-20 00:10:00,885 INFO]\u001b[0mUsing device: cuda\n"
     ]
    },
    {
     "name": "stdout",
     "output_type": "stream",
     "text": [
      "File data/W_est_shenzhen_pre_len1.npy found. Loading existing adjacency matrix estimated by GSL from training data.\n",
      "GSL computed: GSL for Cycle directed graph\n"
     ]
    },
    {
     "name": "stderr",
     "output_type": "stream",
     "text": [
      "\u001b[31m[2025-03-20 00:10:03,006 INFO]\u001b[0mStarting training for 50 epochs...\n",
      "\u001b[31m[2025-03-20 00:10:04,836 INFO]\u001b[0m[Epoch 1/50] Train Loss: 94.876776, Val Loss: 1128083.125000, RMSE: 4.980683, MAE: 3.452195, Accuracy: 0.6530, R2: 0.7736, Expl.Var: 0.7769\n",
      "\u001b[31m[2025-03-20 00:10:20,025 INFO]\u001b[0m[Epoch 11/50] Train Loss: 24.967965, Val Loss: 945938.375000, RMSE: 4.560892, MAE: 2.989117, Accuracy: 0.6822, R2: 0.8095, Expl.Var: 0.8100\n",
      "\u001b[31m[2025-03-20 00:10:34,974 INFO]\u001b[0m[Epoch 21/50] Train Loss: 22.991693, Val Loss: 855682.625000, RMSE: 4.337852, MAE: 2.836890, Accuracy: 0.6977, R2: 0.8276, Expl.Var: 0.8282\n",
      "\u001b[31m[2025-03-20 00:10:49,799 INFO]\u001b[0m[Epoch 31/50] Train Loss: 22.577386, Val Loss: 834557.062500, RMSE: 4.283969, MAE: 2.883225, Accuracy: 0.7015, R2: 0.8318, Expl.Var: 0.8318\n",
      "\u001b[31m[2025-03-20 00:11:04,740 INFO]\u001b[0m[Epoch 41/50] Train Loss: 22.362904, Val Loss: 818177.062500, RMSE: 4.241720, MAE: 2.834524, Accuracy: 0.7044, R2: 0.8351, Expl.Var: 0.8351\n",
      "\u001b[31m[2025-03-20 00:11:18,200 INFO]\u001b[0m[Epoch 50/50] Train Loss: 22.200208, Val Loss: 807073.562500, RMSE: 4.212840, MAE: 2.821286, Accuracy: 0.7065, R2: 0.8373, Expl.Var: 0.8374\n",
      "\u001b[31m[2025-03-20 00:11:18,209 INFO]\u001b[0mModel saved to trained-models/shenzhen_TGCN_seq12_pre1_gsl3.pt\n",
      "\u001b[31m[2025-03-20 00:11:18,209 INFO]\u001b[0mFinished training!\n",
      "\n"
     ]
    }
   ],
   "source": [
    "%run main.py --config configs/tgcn-sz-gsl-cdg-pre_len1.yaml"
   ]
  },
  {
   "cell_type": "code",
   "execution_count": 6,
   "metadata": {
    "colab": {
     "base_uri": "https://localhost:8080/",
     "height": 17
    },
    "id": "Lb1UHp-O4jfu",
    "outputId": "cf05957d-5e2d-4f94-afe4-828ccbc0622b"
   },
   "outputs": [],
   "source": [
    "if 'google.colab' in str(get_ipython()): \n",
    "    from google.colab import files\n",
    "    # Zip the results folder\n",
    "    shutil.make_archive('results', 'zip', 'results')\n",
    "    # Download the zipped file\n",
    "    files.download('results.zip')"
   ]
  }
 ],
 "metadata": {
  "accelerator": "GPU",
  "colab": {
   "gpuType": "T4",
   "provenance": []
  },
  "kernelspec": {
   "display_name": "pth",
   "language": "python",
   "name": "python3"
  },
  "language_info": {
   "codemirror_mode": {
    "name": "ipython",
    "version": 3
   },
   "file_extension": ".py",
   "mimetype": "text/x-python",
   "name": "python",
   "nbconvert_exporter": "python",
   "pygments_lexer": "ipython3",
   "version": "3.10.14"
  }
 },
 "nbformat": 4,
 "nbformat_minor": 0
}
